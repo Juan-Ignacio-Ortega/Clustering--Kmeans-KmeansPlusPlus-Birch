{
 "cells": [
  {
   "cell_type": "markdown",
   "metadata": {},
   "source": [
    "# Importamos la base de datos"
   ]
  },
  {
   "cell_type": "markdown",
   "metadata": {},
   "source": [
    "Primeramente, importamos las librerías necesarias para la sección."
   ]
  },
  {
   "cell_type": "code",
   "execution_count": 1,
   "metadata": {},
   "outputs": [],
   "source": [
    "import pandas as pd\n",
    "import numpy as np\n",
    "import matplotlib.pyplot as plt"
   ]
  },
  {
   "cell_type": "code",
   "execution_count": 2,
   "metadata": {
    "scrolled": true
   },
   "outputs": [
    {
     "name": "stdout",
     "output_type": "stream",
     "text": [
      "Cantidad de datos por atributo = 200.\n"
     ]
    },
    {
     "data": {
      "text/html": [
       "<div>\n",
       "<style scoped>\n",
       "    .dataframe tbody tr th:only-of-type {\n",
       "        vertical-align: middle;\n",
       "    }\n",
       "\n",
       "    .dataframe tbody tr th {\n",
       "        vertical-align: top;\n",
       "    }\n",
       "\n",
       "    .dataframe thead th {\n",
       "        text-align: right;\n",
       "    }\n",
       "</style>\n",
       "<table border=\"1\" class=\"dataframe\">\n",
       "  <thead>\n",
       "    <tr style=\"text-align: right;\">\n",
       "      <th></th>\n",
       "      <th>CustomerID</th>\n",
       "      <th>Genre</th>\n",
       "      <th>Age</th>\n",
       "      <th>Annual Income (k$)</th>\n",
       "      <th>Spending Score (1-100)</th>\n",
       "    </tr>\n",
       "  </thead>\n",
       "  <tbody>\n",
       "    <tr>\n",
       "      <th>0</th>\n",
       "      <td>1</td>\n",
       "      <td>Male</td>\n",
       "      <td>19</td>\n",
       "      <td>15</td>\n",
       "      <td>39</td>\n",
       "    </tr>\n",
       "    <tr>\n",
       "      <th>1</th>\n",
       "      <td>2</td>\n",
       "      <td>Male</td>\n",
       "      <td>21</td>\n",
       "      <td>15</td>\n",
       "      <td>81</td>\n",
       "    </tr>\n",
       "    <tr>\n",
       "      <th>2</th>\n",
       "      <td>3</td>\n",
       "      <td>Female</td>\n",
       "      <td>20</td>\n",
       "      <td>16</td>\n",
       "      <td>6</td>\n",
       "    </tr>\n",
       "    <tr>\n",
       "      <th>3</th>\n",
       "      <td>4</td>\n",
       "      <td>Female</td>\n",
       "      <td>23</td>\n",
       "      <td>16</td>\n",
       "      <td>77</td>\n",
       "    </tr>\n",
       "    <tr>\n",
       "      <th>4</th>\n",
       "      <td>5</td>\n",
       "      <td>Female</td>\n",
       "      <td>31</td>\n",
       "      <td>17</td>\n",
       "      <td>40</td>\n",
       "    </tr>\n",
       "  </tbody>\n",
       "</table>\n",
       "</div>"
      ],
      "text/plain": [
       "   CustomerID   Genre  Age  Annual Income (k$)  Spending Score (1-100)\n",
       "0           1    Male   19                  15                      39\n",
       "1           2    Male   21                  15                      81\n",
       "2           3  Female   20                  16                       6\n",
       "3           4  Female   23                  16                      77\n",
       "4           5  Female   31                  17                      40"
      ]
     },
     "execution_count": 2,
     "metadata": {},
     "output_type": "execute_result"
    }
   ],
   "source": [
    "DB = pd.read_csv('Mall_Customers.csv')\n",
    "\n",
    "print('Cantidad de datos por atributo =', str(len(DB['Age'])) + '.')\n",
    "DB.head()"
   ]
  },
  {
   "cell_type": "markdown",
   "metadata": {},
   "source": [
    "## Normalizamos los datos"
   ]
  },
  {
   "cell_type": "markdown",
   "metadata": {},
   "source": [
    "Utilizamos la función de normalización generada con anterioridad, agregando además sus parámetros necesarios."
   ]
  },
  {
   "cell_type": "code",
   "execution_count": 3,
   "metadata": {},
   "outputs": [],
   "source": [
    "def Normaliza(DB):\n",
    "    DB = DB.to_numpy()\n",
    "\n",
    "    Atributos = DB[0]\n",
    "    NoAtributos = len(Atributos)\n",
    "    Instancias = DB.T[0]\n",
    "    NoInstancias = len(Instancias)\n",
    "\n",
    "    MaximoDeAtributos = []\n",
    "    MinimoDeAtributos = []\n",
    "    for idx, element in enumerate(Atributos):\n",
    "      CaractMax = max(DB.T[idx])\n",
    "      CaractMin = min(DB.T[idx])\n",
    "      MaximoDeAtributos.append(CaractMax)\n",
    "      MinimoDeAtributos.append(CaractMin)\n",
    "\n",
    "    DBNorm = []\n",
    "    MaximoNormalizado = 1\n",
    "    MinimoNormalizado = 0\n",
    "    RangoNormalizado = MaximoNormalizado - MinimoNormalizado\n",
    "    for idx, element in enumerate(Atributos):\n",
    "      CaractNorm = []\n",
    "      if str(type(Atributos[idx]))[8 : -2] != 'str':\n",
    "        RangodeDatos = MaximoDeAtributos[idx] - MinimoDeAtributos[idx]\n",
    "        for idx2, element2 in enumerate(Instancias):\n",
    "          if str(DB.T[idx][idx2]) != 'nan':\n",
    "            D = DB.T[idx][idx2] - MinimoDeAtributos[idx]\n",
    "            DPct = D / RangodeDatos\n",
    "            dNorm = RangoNormalizado * DPct\n",
    "            Normalizado = MinimoNormalizado + dNorm\n",
    "            CaractNorm.append(Normalizado)\n",
    "          else:\n",
    "            CaractNorm.append(DB.T[idx][idx2])\n",
    "      else:\n",
    "        for idx2, element2 in enumerate(Instancias):\n",
    "          CaractNorm.append(DB.T[idx][idx2])\n",
    "      DBNorm.append(CaractNorm)\n",
    "    return(DBNorm)"
   ]
  },
  {
   "cell_type": "code",
   "execution_count": 4,
   "metadata": {},
   "outputs": [],
   "source": [
    "DB_Norm = Normaliza(DB)"
   ]
  },
  {
   "cell_type": "markdown",
   "metadata": {},
   "source": [
    "Definimos los valores de X con los datos de ingresos anuales, y los valores de Y con los datos de edad."
   ]
  },
  {
   "cell_type": "code",
   "execution_count": 5,
   "metadata": {},
   "outputs": [],
   "source": [
    "X = np.array(DB_Norm[3])\n",
    "Y = np.array(DB_Norm[2])"
   ]
  },
  {
   "cell_type": "markdown",
   "metadata": {},
   "source": [
    "## Visualizamos los datos"
   ]
  },
  {
   "cell_type": "code",
   "execution_count": 6,
   "metadata": {
    "scrolled": false
   },
   "outputs": [
    {
     "data": {
      "image/png": "[encoded data removed]",
      "text/plain": [
       "<Figure size 432x288 with 1 Axes>"
      ]
     },
     "metadata": {
      "needs_background": "light"
     },
     "output_type": "display_data"
    }
   ],
   "source": [
    "plt.scatter(X, Y, color = 'lightblue', label = 'Datos')\n",
    "plt.title('Ingreso Anual (k$) vs Edad')\n",
    "plt.xlabel('Ingreso Anual (k$)')\n",
    "plt.ylabel('Edad')\n",
    "plt.legend()\n",
    "plt.show()"
   ]
  },
  {
   "cell_type": "markdown",
   "metadata": {},
   "source": [
    "Función para transformar los datos de entrada X e Y a puntos de dato con coordenadas (Xi, Yi)."
   ]
  },
  {
   "cell_type": "code",
   "execution_count": 7,
   "metadata": {},
   "outputs": [],
   "source": [
    "def data2point(X, Y):\n",
    "    puntos = []\n",
    "    for idx, x in enumerate(X):\n",
    "        puntos.append((x, Y[idx]))\n",
    "    return(puntos)"
   ]
  },
  {
   "cell_type": "markdown",
   "metadata": {},
   "source": [
    "Transformamos los datos X e Y a puntos de dato con coordenadas (Xi, Yi)."
   ]
  },
  {
   "cell_type": "code",
   "execution_count": 8,
   "metadata": {},
   "outputs": [],
   "source": [
    "puntos = data2point(X, Y)"
   ]
  },
  {
   "cell_type": "markdown",
   "metadata": {},
   "source": [
    "# K-means"
   ]
  },
  {
   "cell_type": "markdown",
   "metadata": {},
   "source": [
    "Primeramente, importamos las librerías necesarias para la sección."
   ]
  },
  {
   "cell_type": "code",
   "execution_count": 347,
   "metadata": {},
   "outputs": [],
   "source": [
    "import random as rd\n",
    "import matplotlib.pyplot as plt\n",
    "import numpy as np\n",
    "from IPython import display\n",
    "from sklearn.cluster import KMeans"
   ]
  },
  {
   "cell_type": "markdown",
   "metadata": {},
   "source": [
    "## Funciones propias"
   ]
  },
  {
   "cell_type": "markdown",
   "metadata": {},
   "source": [
    "Función para generar n centroides aleatoriamente, en forma de lista.\n",
    "\n",
    "Para valores de (X, Y) normalizados entre 0 y 1"
   ]
  },
  {
   "cell_type": "code",
   "execution_count": 157,
   "metadata": {},
   "outputs": [],
   "source": [
    "def Centrs_aleat(NumDCentrs):\n",
    "    idxCentrs = range(1, NumDCentrs + 1)\n",
    "\n",
    "    Centrs = []\n",
    "    for K in idxCentrs:\n",
    "        Centrs.append((rd.random(), rd.random()))\n",
    "    return(Centrs)"
   ]
  },
  {
   "cell_type": "markdown",
   "metadata": {},
   "source": [
    "Función para generar n centroides mediante el promedio de los datos pertenecientes al clúster de cada centroide a generar."
   ]
  },
  {
   "cell_type": "code",
   "execution_count": 158,
   "metadata": {},
   "outputs": [],
   "source": [
    "def Centrs_promedio(Datos):\n",
    "    Centrs = []\n",
    "    for K in Datos:\n",
    "        sumaX = 0\n",
    "        sumaY = 0\n",
    "        for data in K:\n",
    "            sumaX += data[0]\n",
    "            sumaY += data[1]\n",
    "        X = sumaX / len(K)\n",
    "        Y = sumaY / len(K)\n",
    "        Centrs.append((X, Y))\n",
    "    return(Centrs)"
   ]
  },
  {
   "cell_type": "markdown",
   "metadata": {},
   "source": [
    "Función para calcular las distancias de cada punto hacia cada uno los centroides.\n",
    "\n",
    "Generando un cúmulo de valores, correspondientes a cada punto, por cada centroide en la lista resultante."
   ]
  },
  {
   "cell_type": "code",
   "execution_count": 159,
   "metadata": {},
   "outputs": [],
   "source": [
    "def distACentrsXpunto(Centrs, DaXpuntos):\n",
    "    dist = []\n",
    "    for element in Centrs:\n",
    "        distXData = []\n",
    "        for DaXpunto in DaXpuntos:\n",
    "            distData = ((element[0] - DaXpunto[0])**2 + (element[1] - DaXpunto[1])**2)**0.5\n",
    "            distXData.append(distData)\n",
    "        dist.append(distXData)\n",
    "    return(dist)"
   ]
  },
  {
   "cell_type": "markdown",
   "metadata": {},
   "source": [
    "Función para determinar a qué centroide corresponde cada uno de los puntos (datos), según la distancia previamente calculada, hacia cada centroide."
   ]
  },
  {
   "cell_type": "code",
   "execution_count": 160,
   "metadata": {},
   "outputs": [],
   "source": [
    "def Dato2CentrX(D2Xpuntos, dist):\n",
    "    MinimIdx = []\n",
    "    for idx, D2Xpunto in enumerate(D2Xpuntos):\n",
    "        inim = []\n",
    "        for element in dist:\n",
    "            inim.append(element[idx])\n",
    "        minimo = min(inim)\n",
    "        MinIdx = inim.index(minimo)\n",
    "        MinimIdx.append(MinIdx)\n",
    "    return(MinimIdx)"
   ]
  },
  {
   "cell_type": "markdown",
   "metadata": {},
   "source": [
    "Función para agrupar cada dato con el resto de datos que pertenecen a un mismo clúster."
   ]
  },
  {
   "cell_type": "code",
   "execution_count": 138,
   "metadata": {},
   "outputs": [],
   "source": [
    "def AgrupDatos(Centroides, CentroideXDato, ADPuntos):\n",
    "    PuntosDCentr = []\n",
    "    for idx, Centroide in enumerate(Centroides):\n",
    "        PuntosDColorX = []\n",
    "        positions = np.where(CentroideXDato == idx)\n",
    "        for position in positions[0]:\n",
    "            PuntosDColorX.append(ADPuntos[position])\n",
    "        PuntosDCentr.append(PuntosDColorX)\n",
    "    return(PuntosDCentr)"
   ]
  },
  {
   "cell_type": "markdown",
   "metadata": {},
   "source": [
    "Función para predecir a qué clúster pertenecen nuevos datos ingresados en la forma [(X1,Y1),...,(Xn,  Yn)].\n",
    "\n",
    "Elige el clúster con el centroide más cercano al dato ingresado."
   ]
  },
  {
   "cell_type": "code",
   "execution_count": 162,
   "metadata": {},
   "outputs": [],
   "source": [
    "def Predict(data):\n",
    "    distancias = distACentrsXpunto(Centroides, data)\n",
    "    CentroideXDato = Dato2CentrX(data, distancias)\n",
    "    Pertenencias = []\n",
    "    for element in CentroideXDato:\n",
    "        Pertenencias.append(element + 1)\n",
    "    Pertenencia = np.array(Pertenencias)\n",
    "    return(Pertenencia)"
   ]
  },
  {
   "cell_type": "markdown",
   "metadata": {},
   "source": [
    "## Método de codo"
   ]
  },
  {
   "cell_type": "markdown",
   "metadata": {},
   "source": [
    "Lo utilizaremos para decidir cuántos grupos (clúster) son necesarios."
   ]
  },
  {
   "cell_type": "markdown",
   "metadata": {},
   "source": [
    "Generamos 9 centroides que estén lo más alejado es¿ntre ellos posible, a través de la generación de centroides para k-means++ que se muestra en su respectiva sección más adelante."
   ]
  },
  {
   "cell_type": "code",
   "execution_count": 281,
   "metadata": {},
   "outputs": [],
   "source": [
    "Centrs = CentrsPP(9, puntos)"
   ]
  },
  {
   "cell_type": "markdown",
   "metadata": {},
   "source": [
    "Analizamos gráficamente los centroides generados."
   ]
  },
  {
   "cell_type": "code",
   "execution_count": 282,
   "metadata": {
    "scrolled": true
   },
   "outputs": [
    {
     "data": {
      "image/png": "[encoded data removed]",
      "text/plain": [
       "<Figure size 432x288 with 1 Axes>"
      ]
     },
     "metadata": {
      "needs_background": "light"
     },
     "output_type": "display_data"
    }
   ],
   "source": [
    "Xp = []\n",
    "Yp = []\n",
    "for element in Centrs:\n",
    "    Xp.append(element[0])\n",
    "    Yp.append(element[1])\n",
    "\n",
    "plt.scatter(X, Y, color = 'lightblue', label = 'Datos')\n",
    "plt.scatter(Xp, Yp, color = 'red', label = 'Centroides')\n",
    "plt.title('Ingreso Anual (k$) vs Edad')\n",
    "plt.xlabel('Ingreso Anual (k$)')\n",
    "plt.ylabel('Edad')\n",
    "plt.legend()\n",
    "plt.show()"
   ]
  },
  {
   "cell_type": "markdown",
   "metadata": {},
   "source": [
    "Utilizamos los centroides generados para generar 9 iteraciones, en las cuales cada una contiene de 1 a 9 centroides generados, siendo el número de iteración la cantidad de centroides que contiene."
   ]
  },
  {
   "cell_type": "code",
   "execution_count": 283,
   "metadata": {},
   "outputs": [],
   "source": [
    "idxCentrs = len(Centrs)\n",
    "\n",
    "Centrs4KM = []\n",
    "for idxCentr in range(1, (idxCentrs+1)):\n",
    "    Centrs4KM_par = []\n",
    "    for idx, K in enumerate(range(1, idxCentr + 1)):\n",
    "        Centrs4KM_par.append(Centrs[idx])\n",
    "    Centrs4KM.append(Centrs4KM_par)"
   ]
  },
  {
   "cell_type": "markdown",
   "metadata": {},
   "source": [
    "Calculamos la distancia de cada punto de dato hacia cada uno de los diferentes centroides en cada iteración, los cuales tienen distinta cantidad de centroides."
   ]
  },
  {
   "cell_type": "code",
   "execution_count": 284,
   "metadata": {},
   "outputs": [],
   "source": [
    "dist_glob = []\n",
    "for Centr in Centrs4KM:\n",
    "    dist = distACentrsXpunto(Centr, puntos)\n",
    "    dist_glob.append(dist)"
   ]
  },
  {
   "cell_type": "markdown",
   "metadata": {},
   "source": [
    "En base a las distancias calculadas, en cada iteración ubicamos a qué centroide corresponde cada dato. "
   ]
  },
  {
   "cell_type": "code",
   "execution_count": 285,
   "metadata": {},
   "outputs": [],
   "source": [
    "minimf_glob = []\n",
    "for dist in dist_glob:\n",
    "    MinimIdx = Dato2CentrX(puntos, dist)\n",
    "    minimf_glob.append(MinimIdx)"
   ]
  },
  {
   "cell_type": "markdown",
   "metadata": {},
   "source": [
    "Transformamos la lista que contiene a qué centroide corresponde cada dato en cada una de las iteraciones, en una matriz. Esto con el fin de poder utilizar la funcion de numpy.where."
   ]
  },
  {
   "cell_type": "code",
   "execution_count": 286,
   "metadata": {},
   "outputs": [],
   "source": [
    "minimf_glob = np.array(minimf_glob)"
   ]
  },
  {
   "cell_type": "markdown",
   "metadata": {},
   "source": [
    "Generamos gráficamente el gráfico tipo codo, para ubicar el valor de K óptimo."
   ]
  },
  {
   "cell_type": "code",
   "execution_count": 375,
   "metadata": {
    "scrolled": false
   },
   "outputs": [
    {
     "data": {
      "image/png": "[encoded data removed]",
      "text/plain": [
       "<Figure size 432x288 with 1 Axes>"
      ]
     },
     "metadata": {
      "needs_background": "light"
     },
     "output_type": "display_data"
    }
   ],
   "source": [
    "WCSS = []\n",
    "for idx1, Centr in enumerate(Centrs4KM):\n",
    "    sumD = 0\n",
    "    for idx2, K in enumerate(Centr):\n",
    "        pos = np.where(minimf_glob[idx1] == idx2)\n",
    "        for element in pos[0]:\n",
    "            sumD += (((puntos[element][0] - K[0])**2 + (puntos[element][1] - K[1])**2)**0.5)**2\n",
    "    WCSS.append(sumD)\n",
    "\n",
    "idxClusts  = idxCentrs = len(Centrs)\n",
    "    \n",
    "plt.plot(range(1, (idxClusts+1)), WCSS, color = 'lightblue', label = 'WCSS según la cantidad de K considerados', linewidth = 3)\n",
    "plt.scatter(5, WCSS[4], color = 'red', linewidth = 5)\n",
    "plt.title('Número de clúster vs WCSS')\n",
    "plt.xlabel('Número de clúster (K)')\n",
    "plt.ylabel('Within-Cluster Sum-of-Squares (WCSS)')\n",
    "plt.legend()\n",
    "plt.show()"
   ]
  },
  {
   "cell_type": "markdown",
   "metadata": {},
   "source": [
    "De acuerdo a lo observado, se define que K = 5 es el número óptimo de clústers a considerar. \n",
    "\n",
    "Sin embargo, al realizar varias pruebas, nos podemos percatar que es muy variable el K óptimo, según los centroides inciales, oscilando entre 3 y 6. Esto, debido a que los centroides son generados de forma aleatoria."
   ]
  },
  {
   "cell_type": "markdown",
   "metadata": {},
   "source": [
    "## Centroides iniciales"
   ]
  },
  {
   "cell_type": "markdown",
   "metadata": {},
   "source": [
    "Se generan de manera aleatoria los centroides iniciales de cada clúster, seleccionando el número de clústers según el método de codo previamente realizado."
   ]
  },
  {
   "cell_type": "code",
   "execution_count": 325,
   "metadata": {},
   "outputs": [],
   "source": [
    "Centroides = Centrs_aleat(5)"
   ]
  },
  {
   "cell_type": "markdown",
   "metadata": {},
   "source": [
    "Analizamos gráficamente los centroides generados."
   ]
  },
  {
   "cell_type": "code",
   "execution_count": 326,
   "metadata": {},
   "outputs": [
    {
     "data": {
      "image/png": "[encoded data removed]",
      "text/plain": [
       "<Figure size 432x288 with 1 Axes>"
      ]
     },
     "metadata": {
      "needs_background": "light"
     },
     "output_type": "display_data"
    }
   ],
   "source": [
    "Xp = []\n",
    "Yp = []\n",
    "for element in Centroides:\n",
    "    Xp.append(element[0])\n",
    "    Yp.append(element[1])\n",
    "\n",
    "plt.scatter(X, Y, color = 'lightblue', label = 'Datos')\n",
    "plt.scatter(Xp, Yp, color = 'red', label = 'Centroides')\n",
    "plt.title('Ingreso Anual (k$) vs Edad')\n",
    "plt.xlabel('Ingreso Anual (k$)')\n",
    "plt.ylabel('Edad')\n",
    "plt.legend()\n",
    "plt.show()"
   ]
  },
  {
   "cell_type": "markdown",
   "metadata": {},
   "source": [
    "## Calcular las distancias euclidianas de cada punto hacia cada centroide de los clústers."
   ]
  },
  {
   "cell_type": "markdown",
   "metadata": {},
   "source": [
    "Primero necesitamos generar los puntos en formato (Xi, Yi).\n",
    "\n",
    "En este punto ya están generados, pero coloca de nuevo al sección solo como forma de remarcar este proceso dentro de la metodología."
   ]
  },
  {
   "cell_type": "code",
   "execution_count": 327,
   "metadata": {},
   "outputs": [],
   "source": [
    "distancias = distACentrsXpunto(Centroides, puntos)"
   ]
  },
  {
   "cell_type": "markdown",
   "metadata": {},
   "source": [
    "## Agrupar por distancias"
   ]
  },
  {
   "cell_type": "markdown",
   "metadata": {},
   "source": [
    "En base a las distancias calculadas, en cada clúster ubicamos a qué centroide corresponde cada dato."
   ]
  },
  {
   "cell_type": "code",
   "execution_count": 328,
   "metadata": {},
   "outputs": [],
   "source": [
    "CentroideXDato = Dato2CentrX(puntos, distancias)"
   ]
  },
  {
   "cell_type": "markdown",
   "metadata": {},
   "source": [
    "Transformamos la lista anterior en una matriz. Esto con el fin de poder utilizar la funcion de numpy.where."
   ]
  },
  {
   "cell_type": "code",
   "execution_count": 329,
   "metadata": {},
   "outputs": [],
   "source": [
    "CentroideXDato = np.array(CentroideXDato)"
   ]
  },
  {
   "cell_type": "markdown",
   "metadata": {},
   "source": [
    "Agrupamos cada dato con el resto de datos que pertenecen a un mismo clúster."
   ]
  },
  {
   "cell_type": "code",
   "execution_count": 330,
   "metadata": {},
   "outputs": [],
   "source": [
    "PuntosDCentr = AgrupDatos(Centroides, CentroideXDato, puntos)"
   ]
  },
  {
   "cell_type": "markdown",
   "metadata": {},
   "source": [
    "Visualizamos la agrupación de los datos en distintos clústers."
   ]
  },
  {
   "cell_type": "code",
   "execution_count": 331,
   "metadata": {},
   "outputs": [
    {
     "data": {
      "image/png": "[encoded data removed]",
      "text/plain": [
       "<Figure size 432x288 with 1 Axes>"
      ]
     },
     "metadata": {
      "needs_background": "light"
     },
     "output_type": "display_data"
    }
   ],
   "source": [
    "Xp = []\n",
    "Yp = []\n",
    "for element in Centroides:\n",
    "    Xp.append(element[0])\n",
    "    Yp.append(element[1])\n",
    "\n",
    "Colors = ['yellow', 'orange', 'lightblue', 'purple', 'lightgreen']\n",
    "\n",
    "for idx, Puntos in enumerate(PuntosDCentr):\n",
    "    XColor = []\n",
    "    YColor = []\n",
    "    for element in Puntos:\n",
    "        XColor.append(element[0])\n",
    "        YColor.append(element[1])\n",
    "    plt.scatter(XColor, YColor, color = Colors[idx], label = 'Datos de Centroide ' + str(idx + 1))\n",
    "    \n",
    "plt.scatter(Xp, Yp, color = 'red', label = 'Centroides')\n",
    "plt.title('Ingreso Anual (k$) vs Edad')\n",
    "plt.xlabel('Ingreso Anual (k$)')\n",
    "plt.ylabel('Edad')\n",
    "plt.legend()\n",
    "plt.show()"
   ]
  },
  {
   "cell_type": "markdown",
   "metadata": {},
   "source": [
    "## Cambio el centroide para que sea el centroide de mi grupo."
   ]
  },
  {
   "cell_type": "markdown",
   "metadata": {},
   "source": [
    "Generamos los centroides mediante el promedio de los datos pertenecientes al clúster de cada centroide a generar."
   ]
  },
  {
   "cell_type": "code",
   "execution_count": 332,
   "metadata": {},
   "outputs": [],
   "source": [
    "Centroides = Centrs_promedio(PuntosDCentr)"
   ]
  },
  {
   "cell_type": "markdown",
   "metadata": {},
   "source": [
    "Visualizamos los clústers de datos con su nuevo centroide."
   ]
  },
  {
   "cell_type": "code",
   "execution_count": 333,
   "metadata": {},
   "outputs": [
    {
     "data": {
      "image/png": "[encoded data removed]",
      "text/plain": [
       "<Figure size 432x288 with 1 Axes>"
      ]
     },
     "metadata": {
      "needs_background": "light"
     },
     "output_type": "display_data"
    }
   ],
   "source": [
    "Xp = []\n",
    "Yp = []\n",
    "for element in Centroides:\n",
    "    Xp.append(element[0])\n",
    "    Yp.append(element[1])\n",
    "\n",
    "Colors = ['yellow', 'orange', 'lightblue', 'purple', 'lightgreen']\n",
    "\n",
    "for idx, Puntos in enumerate(PuntosDCentr):\n",
    "    XColor = []\n",
    "    YColor = []\n",
    "    for element in Puntos:\n",
    "        XColor.append(element[0])\n",
    "        YColor.append(element[1])\n",
    "    plt.scatter(XColor, YColor, color = Colors[idx], label = 'Datos de Centroide ' + str(idx + 1))\n",
    "    \n",
    "plt.scatter(Xp, Yp, color = 'red', label = 'Centroides')\n",
    "plt.title('Ingreso Anual (k$) vs Edad')\n",
    "plt.xlabel('Ingreso Anual (k$)')\n",
    "plt.ylabel('Edad')\n",
    "plt.legend()\n",
    "plt.show()"
   ]
  },
  {
   "cell_type": "markdown",
   "metadata": {},
   "source": [
    "## Iteración de cambios de centroide"
   ]
  },
  {
   "cell_type": "code",
   "execution_count": 334,
   "metadata": {},
   "outputs": [
    {
     "data": {
      "image/png": "[encoded data removed]",
      "text/plain": [
       "<Figure size 432x288 with 1 Axes>"
      ]
     },
     "metadata": {
      "needs_background": "light"
     },
     "output_type": "display_data"
    }
   ],
   "source": [
    "Centroides_anterior = 0\n",
    "\n",
    "while Centroides_anterior != Centroides:\n",
    "    Centroides_anterior = Centroides\n",
    "    distancias = distACentrsXpunto(Centroides_anterior, puntos)\n",
    "    CentroideXDato = Dato2CentrX(puntos, distancias)\n",
    "    CentroideXDato = np.array(CentroideXDato)\n",
    "    PuntosDCentr = AgrupDatos(Centroides_anterior, CentroideXDato, puntos)\n",
    "    Centroides = Centrs_promedio(PuntosDCentr)\n",
    "    Xp = []\n",
    "    Yp = []\n",
    "    for element in Centroides:\n",
    "        Xp.append(element[0])\n",
    "        Yp.append(element[1])\n",
    "\n",
    "    Colors = ['yellow', 'orange', 'lightblue', 'purple', 'lightgreen']\n",
    "\n",
    "    for idx, Puntos in enumerate(PuntosDCentr):\n",
    "        XColor = []\n",
    "        YColor = []\n",
    "        for element in Puntos:\n",
    "            XColor.append(element[0])\n",
    "            YColor.append(element[1])\n",
    "        plt.scatter(XColor, YColor, color = Colors[idx], label = 'Datos de Centroide ' + str(idx + 1))\n",
    "\n",
    "    plt.scatter(Xp, Yp, color = 'red', label = 'Centroides')\n",
    "    plt.title('Ingreso Anual (k$) vs Edad')\n",
    "    plt.xlabel('Ingreso Anual (k$)')\n",
    "    plt.ylabel('Edad')\n",
    "    plt.legend()\n",
    "    display.clear_output(wait=True)\n",
    "    plt.pause(1)\n",
    "\n",
    "plt.show()"
   ]
  },
  {
   "cell_type": "markdown",
   "metadata": {},
   "source": [
    "## Obtención del resultado"
   ]
  },
  {
   "cell_type": "markdown",
   "metadata": {},
   "source": [
    "Una vez se cumpla el criterio de paro, el cual identifica que el centroide del clúster ya ha encontrado su lugar definitivo, tendremos la ubicación de cada centroide de clúster."
   ]
  },
  {
   "cell_type": "code",
   "execution_count": 335,
   "metadata": {
    "scrolled": false
   },
   "outputs": [
    {
     "name": "stdout",
     "output_type": "stream",
     "text": [
      "El centroide 1 tiene coordenadas (0.3691617692545623, 0.5605950653120464).\n",
      "El centroide 2 tiene coordenadas (0.45409836065573767, 0.16410256410256413).\n",
      "El centroide 3 tiene coordenadas (0.11963309914129587, 0.17628205128205127).\n",
      "El centroide 4 tiene coordenadas (0.7000512295081965, 0.35817307692307704).\n",
      "El centroide 5 tiene coordenadas (0.25936768149882905, 0.8653846153846155).\n"
     ]
    }
   ],
   "source": [
    "for idx, Centroide in enumerate(Centroides):\n",
    "    print('El centroide', str(idx + 1), 'tiene coordenadas', str(Centroide) + '.')"
   ]
  },
  {
   "cell_type": "markdown",
   "metadata": {},
   "source": [
    "## Calculos utilizando librería de scikit learn con K-means"
   ]
  },
  {
   "cell_type": "markdown",
   "metadata": {},
   "source": [
    "Utilizamos los mismos datos para generar KMeans con librería para comparar resultados. "
   ]
  },
  {
   "cell_type": "code",
   "execution_count": 343,
   "metadata": {},
   "outputs": [],
   "source": [
    "puntos = data2point(X, Y)\n",
    "\n",
    "kmeans = KMeans(n_clusters=5, init='random', n_init=1, random_state=0).fit(puntos)\n",
    "CentroideXDato = kmeans.labels_\n",
    "Centroides = kmeans.cluster_centers_\n",
    "PuntosDCentr = AgrupDatos(Centroides, CentroideXDato, puntos)"
   ]
  },
  {
   "cell_type": "markdown",
   "metadata": {},
   "source": [
    "Visualizamos los resultados de usar librería"
   ]
  },
  {
   "cell_type": "code",
   "execution_count": 344,
   "metadata": {
    "scrolled": true
   },
   "outputs": [
    {
     "data": {
      "image/png": "[encoded data removed]",
      "text/plain": [
       "<Figure size 432x288 with 1 Axes>"
      ]
     },
     "metadata": {
      "needs_background": "light"
     },
     "output_type": "display_data"
    }
   ],
   "source": [
    "Xp = []\n",
    "Yp = []\n",
    "for element in Centroides:\n",
    "    Xp.append(element[0])\n",
    "    Yp.append(element[1])\n",
    "\n",
    "Colors = ['yellow', 'orange', 'lightblue', 'purple', 'lightgreen']\n",
    "\n",
    "for idx, Puntos in enumerate(PuntosDCentr):\n",
    "    XColor = []\n",
    "    YColor = []\n",
    "    for element in Puntos:\n",
    "        XColor.append(element[0])\n",
    "        YColor.append(element[1])\n",
    "    plt.scatter(XColor, YColor, color = Colors[idx], label = 'Datos de Centroide ' + str(idx + 1))\n",
    "    \n",
    "plt.scatter(Xp, Yp, color = 'red', label = 'Centroides')\n",
    "plt.title('Ingreso Anual (k$) vs Edad')\n",
    "plt.xlabel('Ingreso Anual (k$)')\n",
    "plt.ylabel('Edad')\n",
    "plt.legend()\n",
    "plt.show()"
   ]
  },
  {
   "cell_type": "markdown",
   "metadata": {},
   "source": [
    "Imprimimos las coordenas resultantes de los centroides de cada clúster con librería, los cuales, al comprarlos con los obtenidos con las funciones generadas, notamos que se aproximan bastante, siendo variables por la generación aleatoria de los centroides iniciales."
   ]
  },
  {
   "cell_type": "code",
   "execution_count": 345,
   "metadata": {
    "scrolled": true
   },
   "outputs": [
    {
     "name": "stdout",
     "output_type": "stream",
     "text": [
      "El centroide 1 tiene coordenadas [0.40983607 0.08910256].\n",
      "El centroide 2 tiene coordenadas [0.49778005 0.36858974].\n",
      "El centroide 3 tiene coordenadas [0.29427573 0.72982346].\n",
      "El centroide 4 tiene coordenadas [0.76971116 0.35622711].\n",
      "El centroide 5 tiene coordenadas [0.10963115 0.19567308].\n"
     ]
    }
   ],
   "source": [
    "for idx, Centroide in enumerate(Centroides):\n",
    "    print('El centroide', str(idx + 1), 'tiene coordenadas', str(Centroide) + '.')"
   ]
  },
  {
   "cell_type": "markdown",
   "metadata": {},
   "source": [
    "# K-means ++"
   ]
  },
  {
   "cell_type": "markdown",
   "metadata": {},
   "source": [
    "Primeramente, importamos las librerías necesarias para la sección."
   ]
  },
  {
   "cell_type": "code",
   "execution_count": 348,
   "metadata": {},
   "outputs": [],
   "source": [
    "import random as rd\n",
    "import matplotlib.pyplot as plt\n",
    "import numpy as np\n",
    "from IPython import display\n",
    "from sklearn.cluster import KMeans"
   ]
  },
  {
   "cell_type": "markdown",
   "metadata": {},
   "source": [
    "## Funciones propias"
   ]
  },
  {
   "cell_type": "markdown",
   "metadata": {},
   "source": [
    "Función para generar n centroides que estén lo más alejados posibles entre ellos en un rango entre 0 y 1."
   ]
  },
  {
   "cell_type": "code",
   "execution_count": 142,
   "metadata": {},
   "outputs": [],
   "source": [
    "def CentrsPP(NumDcentrs, PuntosIn):\n",
    "    First_Centr = (rd.random(), rd.random())\n",
    "    \n",
    "    Centrs = [First_Centr]\n",
    "    for NumCent in range(1, NumDcentrs, 1):\n",
    "        Dists = distACentrsXpunto(Centrs, PuntosIn)\n",
    "        Minpunto = Dists[0]\n",
    "        for CentN in Dists:\n",
    "            for idx, distN in enumerate(CentN):\n",
    "                if distN < Minpunto[idx]:\n",
    "                    Minpunto[idx]  = distN\n",
    "        distmin = max(Minpunto)\n",
    "        Minpunto = np.array(Minpunto)\n",
    "        posMinpunto = np.where(Minpunto == distmin)\n",
    "        Centrs.append(PuntosIn[posMinpunto[0][0]])\n",
    "    \n",
    "    return(Centrs)"
   ]
  },
  {
   "cell_type": "markdown",
   "metadata": {},
   "source": [
    "## Centroides iniciales"
   ]
  },
  {
   "cell_type": "markdown",
   "metadata": {},
   "source": [
    "Seguimos el valor de k = 5 obtenido en el método del codo en la sección anterior para generar 3 centroides lo más alejado posibles entre ellos."
   ]
  },
  {
   "cell_type": "code",
   "execution_count": 361,
   "metadata": {},
   "outputs": [],
   "source": [
    "Centroides = CentrsPP(5, puntos)"
   ]
  },
  {
   "cell_type": "markdown",
   "metadata": {},
   "source": [
    "Mostramos visualmente dónde se encuntran los centroides recién generados."
   ]
  },
  {
   "cell_type": "code",
   "execution_count": 362,
   "metadata": {},
   "outputs": [
    {
     "data": {
      "image/png": "[encoded data removed]",
      "text/plain": [
       "<Figure size 432x288 with 1 Axes>"
      ]
     },
     "metadata": {
      "needs_background": "light"
     },
     "output_type": "display_data"
    }
   ],
   "source": [
    "Xp = []\n",
    "Yp = []\n",
    "for element in Centroides:\n",
    "    Xp.append(element[0])\n",
    "    Yp.append(element[1])\n",
    "\n",
    "plt.scatter(X, Y, color = 'lightblue', label = 'Datos')\n",
    "plt.scatter(Xp, Yp, color = 'red', label = 'Centroides')\n",
    "plt.title('Ingreso Anual (k$) vs Edad')\n",
    "plt.xlabel('Ingreso Anual (k$)')\n",
    "plt.ylabel('Edad')\n",
    "plt.legend()\n",
    "plt.show()"
   ]
  },
  {
   "cell_type": "markdown",
   "metadata": {},
   "source": [
    "## Resto de pasos de K-means común"
   ]
  },
  {
   "cell_type": "markdown",
   "metadata": {},
   "source": [
    "Luego de generar los centroides iniciales de una manera distinta, seguimos el resto de los pasos del método de K-means, hasta obtener los centroides finales y los datos agrupados en base a estos:"
   ]
  },
  {
   "cell_type": "code",
   "execution_count": 363,
   "metadata": {},
   "outputs": [],
   "source": [
    "distancias = distACentrsXpunto(Centroides, puntos)"
   ]
  },
  {
   "cell_type": "code",
   "execution_count": 364,
   "metadata": {},
   "outputs": [],
   "source": [
    "CentroideXDato = Dato2CentrX(puntos, distancias)"
   ]
  },
  {
   "cell_type": "code",
   "execution_count": 365,
   "metadata": {},
   "outputs": [],
   "source": [
    "CentroideXDato = np.array(CentroideXDato)"
   ]
  },
  {
   "cell_type": "code",
   "execution_count": 366,
   "metadata": {},
   "outputs": [],
   "source": [
    "PuntosDCentr = AgrupDatos(Centroides, CentroideXDato, puntos)"
   ]
  },
  {
   "cell_type": "code",
   "execution_count": 367,
   "metadata": {},
   "outputs": [],
   "source": [
    "Centroides = Centrs_promedio(PuntosDCentr)"
   ]
  },
  {
   "cell_type": "code",
   "execution_count": 368,
   "metadata": {},
   "outputs": [
    {
     "data": {
      "image/png": "[encoded data removed]",
      "text/plain": [
       "<Figure size 432x288 with 1 Axes>"
      ]
     },
     "metadata": {
      "needs_background": "light"
     },
     "output_type": "display_data"
    }
   ],
   "source": [
    "Centroides_anterior = 0\n",
    "\n",
    "while Centroides_anterior != Centroides:\n",
    "    Centroides_anterior = Centroides\n",
    "    distancias = distACentrsXpunto(Centroides_anterior, puntos)\n",
    "    CentroideXDato = Dato2CentrX(puntos, distancias)\n",
    "    CentroideXDato = np.array(CentroideXDato)\n",
    "    PuntosDCentr = AgrupDatos(Centroides_anterior, CentroideXDato)\n",
    "    Centroides = Centrs_promedio(PuntosDCentr)\n",
    "    Xp = []\n",
    "    Yp = []\n",
    "    for element in Centroides:\n",
    "        Xp.append(element[0])\n",
    "        Yp.append(element[1])\n",
    "\n",
    "    Colors = ['yellow', 'orange', 'lightblue', 'purple', 'lightgreen']\n",
    "\n",
    "    for idx, Puntos in enumerate(PuntosDCentr):\n",
    "        XColor = []\n",
    "        YColor = []\n",
    "        for element in Puntos:\n",
    "            XColor.append(element[0])\n",
    "            YColor.append(element[1])\n",
    "        plt.scatter(XColor, YColor, color = Colors[idx], label = 'Datos de Centroide ' + str(idx + 1))\n",
    "\n",
    "    plt.scatter(Xp, Yp, color = 'red', label = 'Centroides')\n",
    "    plt.title('Ingreso Anual (k$) vs Edad')\n",
    "    plt.xlabel('Ingreso Anual (k$)')\n",
    "    plt.ylabel('Edad')\n",
    "    plt.legend()\n",
    "    display.clear_output(wait=True)\n",
    "    plt.pause(1)\n",
    "\n",
    "plt.show()"
   ]
  },
  {
   "cell_type": "code",
   "execution_count": 369,
   "metadata": {},
   "outputs": [
    {
     "name": "stdout",
     "output_type": "stream",
     "text": [
      "El centroide 1 tiene coordenadas (0.12047274113610373, 0.1829159212880143).\n",
      "El centroide 2 tiene coordenadas (0.7246508803885853, 0.3390313390313391).\n",
      "El centroide 3 tiene coordenadas (0.2436475409836066, 0.7899038461538461).\n",
      "El centroide 4 tiene coordenadas (0.4391621129326046, 0.5376068376068376).\n",
      "El centroide 5 tiene coordenadas (0.45409836065573767, 0.16410256410256413).\n"
     ]
    }
   ],
   "source": [
    "for idx, Centroide in enumerate(Centroides):\n",
    "    print('El centroide', str(idx + 1), 'tiene coordenadas', str(Centroide) + '.')"
   ]
  },
  {
   "cell_type": "markdown",
   "metadata": {},
   "source": [
    "## Calculos utilizando librería de scikit learn con K-means++"
   ]
  },
  {
   "cell_type": "markdown",
   "metadata": {},
   "source": [
    "Obtenemos los datos de k-means++"
   ]
  },
  {
   "cell_type": "code",
   "execution_count": 370,
   "metadata": {},
   "outputs": [],
   "source": [
    "puntos = data2point(X, Y)\n",
    "\n",
    "kmeans = KMeans(n_clusters=5, init='k-means++', n_init=1, random_state=0).fit(puntos)\n",
    "CentroideXDato = kmeans.labels_\n",
    "Centroides = kmeans.cluster_centers_\n",
    "PuntosDCentr = AgrupDatos(Centroides, CentroideXDato, puntos)"
   ]
  },
  {
   "cell_type": "code",
   "execution_count": 371,
   "metadata": {
    "scrolled": true
   },
   "outputs": [
    {
     "data": {
      "image/png": "[encoded data removed]",
      "text/plain": [
       "<Figure size 432x288 with 1 Axes>"
      ]
     },
     "metadata": {
      "needs_background": "light"
     },
     "output_type": "display_data"
    }
   ],
   "source": [
    "Xp = []\n",
    "Yp = []\n",
    "for element in Centroides:\n",
    "    Xp.append(element[0])\n",
    "    Yp.append(element[1])\n",
    "\n",
    "Colors = ['yellow', 'orange', 'lightblue', 'purple', 'lightgreen']\n",
    "\n",
    "for idx, Puntos in enumerate(PuntosDCentr):\n",
    "    XColor = []\n",
    "    YColor = []\n",
    "    for element in Puntos:\n",
    "        XColor.append(element[0])\n",
    "        YColor.append(element[1])\n",
    "    plt.scatter(XColor, YColor, color = Colors[idx], label = 'Datos de Centroide ' + str(idx + 1))\n",
    "    \n",
    "plt.scatter(Xp, Yp, color = 'red', label = 'Centroides')\n",
    "plt.title('Ingreso Anual (k$) vs Edad')\n",
    "plt.xlabel('Ingreso Anual (k$)')\n",
    "plt.ylabel('Edad')\n",
    "plt.legend()\n",
    "plt.show()"
   ]
  },
  {
   "cell_type": "markdown",
   "metadata": {},
   "source": [
    "De igual manera que con el método de K-mean común, los resultados son similares, sin embargo se puede notar una aproximación más precisa e incluso más exacta al ejecutar los métodos repetidamente."
   ]
  },
  {
   "cell_type": "code",
   "execution_count": 372,
   "metadata": {},
   "outputs": [
    {
     "name": "stdout",
     "output_type": "stream",
     "text": [
      "El centroide 1 tiene coordenadas [0.43916211 0.53760684].\n",
      "El centroide 2 tiene coordenadas [0.45409836 0.16410256].\n",
      "El centroide 3 tiene coordenadas [0.12047274 0.18291592].\n",
      "El centroide 4 tiene coordenadas [0.24364754 0.78990385].\n",
      "El centroide 5 tiene coordenadas [0.72465088 0.33903134].\n"
     ]
    }
   ],
   "source": [
    "for idx, Centroide in enumerate(Centroides):\n",
    "    print('El centroide', str(idx + 1), 'tiene coordenadas', str(Centroide) + '.')"
   ]
  },
  {
   "cell_type": "markdown",
   "metadata": {},
   "source": [
    "# BIRCH"
   ]
  },
  {
   "cell_type": "markdown",
   "metadata": {},
   "source": [
    "Primeramente, importamos las librerías necesarias para la sección."
   ]
  },
  {
   "cell_type": "code",
   "execution_count": 376,
   "metadata": {},
   "outputs": [],
   "source": [
    "import numpy as np\n",
    "import random as rd\n",
    "import matplotlib.pyplot as plt\n",
    "from matplotlib.pyplot import figure\n",
    "from sklearn.cluster import KMeans"
   ]
  },
  {
   "cell_type": "markdown",
   "metadata": {},
   "source": [
    "Función para calcular la suma lineal de los N datos en un grupo (cluster en inglés) (LS)."
   ]
  },
  {
   "cell_type": "code",
   "execution_count": 377,
   "metadata": {},
   "outputs": [],
   "source": [
    "def LS(LSpuntos):\n",
    "    LSsumaX = 0\n",
    "    LSsumaY = 0\n",
    "    for LSpunto in LSpuntos:\n",
    "        LSsumaX += LSpunto[0]\n",
    "        LSsumaY += LSpunto[1]\n",
    "    return((LSsumaX, LSsumaY))"
   ]
  },
  {
   "cell_type": "markdown",
   "metadata": {},
   "source": [
    "Función para calcular la suma cuadrática de los N datos en el cluster (SS)."
   ]
  },
  {
   "cell_type": "code",
   "execution_count": 378,
   "metadata": {},
   "outputs": [],
   "source": [
    "def SS(SSpuntos):\n",
    "    SSsuma = 0\n",
    "    for SSpunto in SSpuntos:\n",
    "        SSPX = SSpunto[0]**2\n",
    "        SSPY = SSpunto[1]**2\n",
    "        SSsuma += SSPX + SSPY\n",
    "    return(SSsuma)"
   ]
  },
  {
   "cell_type": "markdown",
   "metadata": {},
   "source": [
    "Función para calcular el centroide de una lista de puntos."
   ]
  },
  {
   "cell_type": "code",
   "execution_count": 379,
   "metadata": {},
   "outputs": [],
   "source": [
    "def centroid(Cpuntos):\n",
    "    LS_temp = LS(Cpuntos)\n",
    "    Nc = len(Cpuntos)\n",
    "    return((LS_temp[0] / Nc, LS_temp[1] / Nc))"
   ]
  },
  {
   "cell_type": "markdown",
   "metadata": {},
   "source": [
    "Función para encontrar el centroide de una carcaterística de grupo (Cluster Feature en inglés, abreviado como CF)."
   ]
  },
  {
   "cell_type": "code",
   "execution_count": 380,
   "metadata": {},
   "outputs": [],
   "source": [
    "def CF_centroid(CFc):\n",
    "    NCFc = CFc[0]\n",
    "    CFcX = CFc[1][0] / NCFc\n",
    "    CFcY = CFc[1][1] / NCFc\n",
    "    return((CFcX, CFcY))"
   ]
  },
  {
   "cell_type": "markdown",
   "metadata": {},
   "source": [
    "Función para encontrar el radio de un cluster."
   ]
  },
  {
   "cell_type": "code",
   "execution_count": 381,
   "metadata": {},
   "outputs": [],
   "source": [
    "def Radius(Rpuntos):\n",
    "    Nr = len(Rpuntos)\n",
    "    RP1 = SS(Rpuntos) / Nr\n",
    "    RP2 = centroid(Rpuntos)**2\n",
    "    R_temp = (RP1 - RP2)**0.5\n",
    "    return(R_temp)"
   ]
  },
  {
   "cell_type": "markdown",
   "metadata": {},
   "source": [
    "Función para encontrar el díametro de un cluster."
   ]
  },
  {
   "cell_type": "code",
   "execution_count": 382,
   "metadata": {},
   "outputs": [],
   "source": [
    "def Diameter(CFDin):\n",
    "    DN = CFDin[0]\n",
    "    DLs = LS([CFDin[1]])\n",
    "    DLs = max(DLs)\n",
    "    DSs = SS([CFDin[1]])\n",
    "    DP1 = 2 * DN * DSs\n",
    "    DP2 = -2 * (DLs**2)\n",
    "    DP3 = DN**2\n",
    "    D_temp = (DP1 + DP2) / DP3\n",
    "    return(D_temp)"
   ]
  },
  {
   "cell_type": "markdown",
   "metadata": {},
   "source": [
    "Función para generar el Cluster Feature (CF), de uno o varios puntos."
   ]
  },
  {
   "cell_type": "code",
   "execution_count": 383,
   "metadata": {},
   "outputs": [],
   "source": [
    "def CF(CFpuntos):\n",
    "    LS_temp = LS(CFpuntos)\n",
    "    SS_temp = SS(CFpuntos)\n",
    "    NCF = len(CFpuntos)\n",
    "    return([NCF, LS_temp, SS_temp])"
   ]
  },
  {
   "cell_type": "markdown",
   "metadata": {},
   "source": [
    "Función para unir dos Cluster Feature (CFs)"
   ]
  },
  {
   "cell_type": "code",
   "execution_count": 384,
   "metadata": {},
   "outputs": [],
   "source": [
    "def CF_merge(CF1, CF2):\n",
    "    CF1_1 = CF1[1]\n",
    "    CF2_1 = CF2[1]\n",
    "    CFr = [CF1[0] + CF2[0], (CF1_1[0] + CF2_1[0], CF1_1[1] + CF2_1[1]), CF1[2] + CF2[2]]\n",
    "    return(CFr)"
   ]
  },
  {
   "cell_type": "markdown",
   "metadata": {},
   "source": [
    "Función para obtener la distancia euclidiana entre dos puntos."
   ]
  },
  {
   "cell_type": "code",
   "execution_count": 385,
   "metadata": {},
   "outputs": [],
   "source": [
    "def EC_distance(EDpuntos):\n",
    "    dist = ((EDpuntos[0][0] - EDpuntos[1][0])**2 + (EDpuntos[0][1] - EDpuntos[1][1])**2)**0.5\n",
    "    return(dist)"
   ]
  },
  {
   "cell_type": "markdown",
   "metadata": {},
   "source": [
    "Función que ayuda a unir CF ingresando dentro del árbol (Tree en inglés) hasta llegar a los CFs"
   ]
  },
  {
   "cell_type": "code",
   "execution_count": 386,
   "metadata": {},
   "outputs": [],
   "source": [
    "def ForinCentroids(FiCs, height):\n",
    "    if height == 0:\n",
    "        FiC_CF = FiCs\n",
    "    elif height == 1:\n",
    "        FiC_CF = [0, (0, 0), 0]\n",
    "        for FiC in FiCs:\n",
    "            FiC_CF = [FiC_CF[0] + FiC[0], (FiC_CF[1][0] + FiC[1][0], FiC_CF[1][1] + FiC[1][1]), FiC_CF[2] + FiC[2]]\n",
    "    else:\n",
    "        FiC_CF = [0, (0, 0), 0]\n",
    "        idx = height - 1\n",
    "        for FiC in FiCs:\n",
    "            FiCt = ForinCentroids(FiC, idx)\n",
    "            FiC_CF = [FiC_CF[0] + FiCt[0], (FiC_CF[1][0] + FiCt[1][0], FiC_CF[1][1] + FiCt[1][1]), FiC_CF[2] + FiCt[2]]\n",
    "    return(FiC_CF)"
   ]
  },
  {
   "cell_type": "markdown",
   "metadata": {},
   "source": [
    "Función que determina todos los centroides de la sección del tree seleccionado (nodo raíz, nodo rama, nodo hoja)."
   ]
  },
  {
   "cell_type": "code",
   "execution_count": 387,
   "metadata": {},
   "outputs": [],
   "source": [
    "def AllCentroids(ACelements, ACnum):\n",
    "    cent = []\n",
    "    for CFi in ACelements:\n",
    "        CFNLN = ForinCentroids(CFi, ACnum)\n",
    "        centa = CF_centroid(CFNLN)\n",
    "        cent.append(centa)\n",
    "    return(cent)"
   ]
  },
  {
   "cell_type": "markdown",
   "metadata": {},
   "source": [
    "Función para determinar todas las distancias entre un CF y todos los CF de un elemento del tree. "
   ]
  },
  {
   "cell_type": "code",
   "execution_count": 388,
   "metadata": {},
   "outputs": [],
   "source": [
    "def AllDists(ADelements, CFa):\n",
    "    distAll = []\n",
    "    for ADelement in ADelements:\n",
    "        dista = EC_distance([CFa, ADelement])\n",
    "        distAll.append(dista)\n",
    "    return(distAll)"
   ]
  },
  {
   "cell_type": "markdown",
   "metadata": {},
   "source": [
    "Función para encontrar la posición del CF más cercano de un elemento del tree."
   ]
  },
  {
   "cell_type": "code",
   "execution_count": 389,
   "metadata": {},
   "outputs": [],
   "source": [
    "def Select_TE(TreeElement, TEpunto, TEidx):\n",
    "    TECent = AllCentroids(TreeElement, TEidx)\n",
    "    TEDist = AllDists(TECent, TEpunto)\n",
    "    TEmDist = min(TEDist)\n",
    "    TEDist = np.array(TEDist)\n",
    "    TEmPosa = np.where(TEDist == TEmDist)\n",
    "    return(TEmPosa[0][0])"
   ]
  },
  {
   "cell_type": "markdown",
   "metadata": {},
   "source": [
    "Función para determinar el CF más cercano a un punto y sus posiciones a través del tree, es decir, su posición en el nodo raíz (root node, en inglés), en el nodo rama (Non-Leaf Node, en inglés y abreviado como NLN) y el nodo hoja (Leaf Node, en inglés y abreviado como LN)."
   ]
  },
  {
   "cell_type": "code",
   "execution_count": 390,
   "metadata": {},
   "outputs": [],
   "source": [
    "def CFClosest(Rootin, punto):\n",
    "    mRootpos = Select_TE(Rootin, punto, 2)\n",
    "    mNonLNpos = Select_TE(Rootin[mRootpos], punto, 1)\n",
    "    mLeafNodepos = Select_TE(Rootin[mRootpos][mNonLNpos], punto, 0)\n",
    "    CFmca = Rootin[mRootpos][mNonLNpos][mLeafNodepos]\n",
    "    return(CFmca, mRootpos, mNonLNpos, mLeafNodepos)"
   ]
  },
  {
   "cell_type": "markdown",
   "metadata": {},
   "source": [
    "Función para encontrar los dos CF más alejados entre ellos en un LN."
   ]
  },
  {
   "cell_type": "code",
   "execution_count": 391,
   "metadata": {},
   "outputs": [],
   "source": [
    "def farthest(LNin):\n",
    "    FE = []\n",
    "    FEpos = []\n",
    "    for CFsplit1 in LNin:\n",
    "        for CFsplit2 in LNin:\n",
    "            FEt = EC_distance([CFsplit1[1], CFsplit2[1]])\n",
    "            if FEt not in FE:\n",
    "                FE.append(FEt)\n",
    "                FEpos.append([CFsplit1, CFsplit2])\n",
    "    F = max(FE)\n",
    "    FE = np.array(FE)\n",
    "    Fpos = np.where(FE == F)\n",
    "    CFf1 = FEpos[Fpos[0][0]][0]\n",
    "    CFf2 = FEpos[Fpos[0][0]][1]\n",
    "    return(CFf1, CFf2)"
   ]
  },
  {
   "cell_type": "markdown",
   "metadata": {},
   "source": [
    "Función para determinar todos los CF del tree."
   ]
  },
  {
   "cell_type": "code",
   "execution_count": 392,
   "metadata": {},
   "outputs": [],
   "source": [
    "def AllCF(ARoot):\n",
    "    AllCFs = []\n",
    "    for ANLN in ARoot:\n",
    "        for ALN in ANLN:\n",
    "            for ACF in ALN:\n",
    "                AllCFs.append(ACF)\n",
    "    return(AllCFs)"
   ]
  },
  {
   "cell_type": "markdown",
   "metadata": {},
   "source": [
    "Función para reducir el tamaño del tree que se había construido hasta el momento de llamar a la función, incrementando el umbral (Threshold en inglés, abreviado como T) y construyendo un nuevo tree que agregue a cada CF según el nuevo T."
   ]
  },
  {
   "cell_type": "code",
   "execution_count": 393,
   "metadata": {},
   "outputs": [],
   "source": [
    "def ReduceXCFtree(Tin, RRoot, RBin, RLin):\n",
    "    newT = Tin + 0.1\n",
    "    CF_Done = AllCF(RRoot)\n",
    "    newRoot = [[[CF_Done[0]]]]\n",
    "    for Ridx, RCF in enumerate(CF_Done[1:]):\n",
    "        CFmc_all = CFClosest(newRoot, RCF[1])\n",
    "        CFmc = CFmc_all[0]\n",
    "        Da = Diameter(newRoot[CFmc_all[1]][CFmc_all[2]][CFmc_all[3]])\n",
    "        CFa = RCF\n",
    "        if Da < newT:\n",
    "            newCF = CF_merge(CFa, CFmc)\n",
    "            newRoot[CFmc_all[1]][CFmc_all[2]][CFmc_all[3]] = newCF\n",
    "        else:\n",
    "            if len(newRoot[CFmc_all[1]][CFmc_all[2]]) < RLin:\n",
    "                newRoot[CFmc_all[1]][CFmc_all[2]].append(CFa)\n",
    "            else:\n",
    "                if len(newRoot[CFmc_all[1]]) < RBin:\n",
    "                    CFf = farthest(newRoot[CFmc_all[1]][CFmc_all[2]])\n",
    "                    \n",
    "                    LNold = []\n",
    "                    for element in newRoot[CFmc_all[1]][CFmc_all[2]]:\n",
    "                        if element not in CFf:\n",
    "                            LNold.append(element)\n",
    "                         \n",
    "                    LNold.append(CFa)\n",
    "                    newRoot[CFmc_all[1]][CFmc_all[2]] = [CFf[0]]\n",
    "                    newRoot[CFmc_all[1]].append([CFf[1]])\n",
    "                    \n",
    "                    for element in LNold:\n",
    "                        tempD1 = EC_distance([CFf[0][1], element[1]])\n",
    "                        tempD2 = EC_distance([CFf[1][1], element[1]])\n",
    "                        dest = min([tempD1, tempD2])\n",
    "                        if dest == 0:\n",
    "                            newRoot[CFmc_all[1]][CFmc_all[2]].append(element)\n",
    "                        else:\n",
    "                            newRoot[CFmc_all[1]][-1].append(element)\n",
    "                else:\n",
    "                    NLNtemp = []\n",
    "                    for element in newRoot[CFmc_all[1]]:\n",
    "                        newCF = (0, (0, 0), 0)\n",
    "                        for element2 in element:\n",
    "                                newCF = [newCF[0] + element2[0], \n",
    "                                         (newCF[1][0] + element2[1][0], newCF[1][1] + element2[1][1]), \n",
    "                                         newCF[2] + element2[2]]\n",
    "                        NLNtemp.append(newCF)\n",
    "\n",
    "                    CFf = farthest(NLNtemp)\n",
    "\n",
    "                    ele2 = []\n",
    "\n",
    "                    for idx, elment in enumerate(NLNtemp):\n",
    "                        if element not in CFf:\n",
    "                            ele2.append(newRoot[CFmc_all[1]][idx])\n",
    "\n",
    "                    ele2.append([CFa])\n",
    "\n",
    "                    LNold = []\n",
    "                    for element in NLNtemp:\n",
    "                        if element not in CFf:\n",
    "                            LNold.append(element)\n",
    "\n",
    "                    LNold.append(CFa)\n",
    "\n",
    "                    newRoot[CFmc_all[1]] = [[CFf[0]]]\n",
    "                    newRoot.append([[CFf[1]]])\n",
    "\n",
    "                    for idx, element in enumerate(LNold):\n",
    "                        tempD1 = EC_distance([CFf[0][1], element[1]])\n",
    "                        tempD2 = EC_distance([CFf[1][1], element[1]])\n",
    "                        dest = min([tempD1, tempD2])\n",
    "\n",
    "                        if dest == 0:\n",
    "                            newRoot[CFmc_all[1]].append(ele2[idx])\n",
    "                        else:\n",
    "                            newRoot[-1].append(ele2[idx])\n",
    "    \n",
    "    return(newT, newRoot)"
   ]
  },
  {
   "cell_type": "markdown",
   "metadata": {},
   "source": [
    "Función para eliminar Leaf Nodes (LFs) si su cantidad de datos es menor al promedio, determinandolos como Outliers, pero no definitivamente."
   ]
  },
  {
   "cell_type": "code",
   "execution_count": 394,
   "metadata": {},
   "outputs": [],
   "source": [
    "def RootOutliers(RootIn):\n",
    "    OutNum = []\n",
    "    for OutNLN in RootIn:\n",
    "        for OutLN in OutNLN:\n",
    "            for OutCF in OutLN:\n",
    "                OutNum.append(OutCF[0])\n",
    "                \n",
    "    OutSum = 0\n",
    "    for OutElement in OutNum:\n",
    "        OutSum += OutElement\n",
    "    \n",
    "    OutProm = OutSum / len(OutNum)\n",
    "    \n",
    "    ROutRoot = []\n",
    "    ROutliers = []\n",
    "    for OutNLN in RootIn:\n",
    "        ROutNLN = []\n",
    "        for OutLN in OutNLN:\n",
    "            ROutLN = []\n",
    "            for OutCF in OutLN:\n",
    "                if OutCF[0] >= (OutProm / 2):\n",
    "                    ROutLN.append(OutCF)\n",
    "                else:\n",
    "                    ROutliers.append(OutCF)\n",
    "            if len(ROutLN) != 0:\n",
    "                ROutNLN.append(ROutLN)\n",
    "        if len(ROutLN) != 0:\n",
    "            ROutRoot.append(ROutNLN)\n",
    "    \n",
    "    return(ROutRoot, ROutliers)"
   ]
  },
  {
   "cell_type": "markdown",
   "metadata": {},
   "source": [
    "Función general para generar el Tree, cambiando los puntos por CF y clasificandolos dentro de cada NLN y a su vez dentro de cada LN, además de unir CF o agregar nuevo deacuerdo al T. Reconstruyendolo si la memoria o límites de hoja (contastes B y L) eran excedidos y determinando si algunos LN son realmente outliers o no. Todo lo anterior con aydua de las funciones anteriores creadas."
   ]
  },
  {
   "cell_type": "code",
   "execution_count": 395,
   "metadata": {},
   "outputs": [],
   "source": [
    "def CFtree(puntosTree, T, BTree, LTree):\n",
    "    DT = T\n",
    "    NCFt = len(puntosTree)\n",
    "    puntosSH = rd.sample(puntosTree, NCFt)\n",
    "    \n",
    "    fOutliers = []\n",
    "    Root = [[[CF([puntosSH[0]])]]]\n",
    "    for idx, punto in enumerate(puntosSH[1:]):\n",
    "        CFmc_all = CFClosest(Root, punto)\n",
    "        CFmc = CFmc_all[0]\n",
    "        Da = Diameter(Root[CFmc_all[1]][CFmc_all[2]][CFmc_all[3]])\n",
    "        CFa = CF([punto])\n",
    "        if Da < DT:\n",
    "            newCF = CF_merge(CFa, CFmc)\n",
    "            Root[CFmc_all[1]][CFmc_all[2]][CFmc_all[3]] = newCF\n",
    "        else:\n",
    "            if len(Root[CFmc_all[1]][CFmc_all[2]]) < LTree:\n",
    "                Root[CFmc_all[1]][CFmc_all[2]].append(CFa)\n",
    "            else:\n",
    "                if len(Root[CFmc_all[1]]) < BTree:\n",
    "                    CFf = farthest(Root[CFmc_all[1]][CFmc_all[2]])\n",
    "                    \n",
    "                    LNold = []\n",
    "                    for element in Root[CFmc_all[1]][CFmc_all[2]]:\n",
    "                        if element not in CFf:\n",
    "                            LNold.append(element)\n",
    "                         \n",
    "                    LNold.append(CFa)\n",
    "                    Root[CFmc_all[1]][CFmc_all[2]] = [CFf[0]]\n",
    "                    Root[CFmc_all[1]].append([CFf[1]])\n",
    "                    \n",
    "                    for element in LNold:\n",
    "                        tempD1 = EC_distance([CFf[0][1], element[1]])\n",
    "                        tempD2 = EC_distance([CFf[1][1], element[1]])\n",
    "                        dest = min([tempD1, tempD2])\n",
    "                        if dest == 0:\n",
    "                            Root[CFmc_all[1]][CFmc_all[2]].append(element)\n",
    "                        else:\n",
    "                            Root[CFmc_all[1]][-1].append(element)\n",
    "                else:\n",
    "                    if len(Root) < BTree:\n",
    "                        NLNtemp = []\n",
    "                        for element in Root[CFmc_all[1]]:\n",
    "                            newCF = (0, (0, 0), 0)\n",
    "                            for element2 in element:\n",
    "                                    newCF = [newCF[0] + element2[0], \n",
    "                                             (newCF[1][0] + element2[1][0], newCF[1][1] + element2[1][1]), \n",
    "                                             newCF[2] + element2[2]]\n",
    "                            NLNtemp.append(newCF)\n",
    "\n",
    "                        CFf = farthest(NLNtemp)\n",
    "\n",
    "                        ele2 = []\n",
    "\n",
    "                        for idx, elment in enumerate(NLNtemp):\n",
    "                            if element not in CFf:\n",
    "                                ele2.append(Root[CFmc_all[1]][idx])\n",
    "\n",
    "                        ele2.append([CFa])\n",
    "\n",
    "                        LNold = []\n",
    "                        for element in NLNtemp:\n",
    "                            if element not in CFf:\n",
    "                                LNold.append(element)\n",
    "\n",
    "                        LNold.append(CFa)\n",
    "\n",
    "                        Root[CFmc_all[1]] = [[CFf[0]]]\n",
    "                        Root.append([[CFf[1]]])\n",
    "\n",
    "                        for idx, element in enumerate(LNold):\n",
    "                            tempD1 = EC_distance([CFf[0][1], element[1]])\n",
    "                            tempD2 = EC_distance([CFf[1][1], element[1]])\n",
    "                            dest = min([tempD1, tempD2])\n",
    "\n",
    "                            if dest == 0:\n",
    "                                Root[CFmc_all[1]].append(ele2[idx])\n",
    "                            else:\n",
    "                                Root[-1].append(ele2[idx])\n",
    "                    else:\n",
    "                        Reduced = ReduceXCFtree(DT, Root, BTree, LTree)\n",
    "                        DT = Reduced[0]\n",
    "                        Root = Reduced[1]\n",
    "                        POL = RootOutliers(Root)\n",
    "                        Root = POL[0]\n",
    "                        fOutliers = POL[1]\n",
    "    \n",
    "    for PosOutliers in fOutliers:\n",
    "        CFmc_all = CFClosest(Root, PosOutliers[1])\n",
    "        CFmc = CFmc_all[0]\n",
    "        Da = Diameter(Root[CFmc_all[1]][CFmc_all[2]][CFmc_all[3]])\n",
    "        CFa = PosOutliers\n",
    "        if Da < DT:\n",
    "            newCF = CF_merge(CFa, CFmc)\n",
    "            Root[CFmc_all[1]][CFmc_all[2]][CFmc_all[3]] = newCF\n",
    "            \n",
    "    return(Root)"
   ]
  },
  {
   "cell_type": "markdown",
   "metadata": {},
   "source": [
    "El algortimo de Birch consta de 4 fases, de las cuales la 2 y 4 son opcionales. En nuestro caso se decidió solo no agregar la Fase 2 para optimizar el CF por falta de información en cuanto a su implementación."
   ]
  },
  {
   "cell_type": "markdown",
   "metadata": {},
   "source": [
    "## Fase 1 - Construcción del CF-Tree"
   ]
  },
  {
   "cell_type": "markdown",
   "metadata": {},
   "source": [
    "Elegimos un umbral T, y el tamaño de hoja o memoria con las constantes B y L. Además definimos los puntos que se agregarán al Tree, siendo estos últimos los de nuestra base de datos (DB por sus siglas en inglés).\n",
    "Posteriormente, llamamos a la función para crear un CF-Tree con los puntos seleccionados."
   ]
  },
  {
   "cell_type": "code",
   "execution_count": 445,
   "metadata": {
    "scrolled": false
   },
   "outputs": [],
   "source": [
    "Umbral = 0.15\n",
    "B = 8\n",
    "L = 8\n",
    "puntos = puntos\n",
    "\n",
    "rootf = CFtree(puntos, Umbral, B, L)"
   ]
  },
  {
   "cell_type": "markdown",
   "metadata": {},
   "source": [
    "Mostramos gráficamente la districuión de las ramas dentro de la raíz del tree."
   ]
  },
  {
   "cell_type": "code",
   "execution_count": 446,
   "metadata": {
    "scrolled": false
   },
   "outputs": [
    {
     "data": {
      "image/png": "[encoded data removed]",
      "text/plain": [
       "<Figure size 720x720 with 1 Axes>"
      ]
     },
     "metadata": {
      "needs_background": "light"
     },
     "output_type": "display_data"
    }
   ],
   "source": [
    "Colors = ['black', 'indigo', 'pink', 'maroon', 'tomato', 'sienna', 'navy', 'darkorange',\n",
    "          'tan', 'papayawhip', 'oldlace', 'darkgoldenrod', 'gold', 'yellow', 'yellowgreen', \n",
    "          'lawngreen', 'lightgreen', 'darkgreen', 'aquamarine', 'teal', 'blue', 'skyblue', 'cyan', 'red']\n",
    "\n",
    "figure(figsize=(10, 10))\n",
    "for idx, NLNf in enumerate(rootf):\n",
    "    XBf = []\n",
    "    YBf = []\n",
    "    for LNf in NLNf:\n",
    "        for CFf in LNf:\n",
    "            XBf.append(CFf[1][0])\n",
    "            YBf.append(CFf[1][1])\n",
    "            \n",
    "    plt.scatter(XBf, YBf, color = Colors[idx], label = 'LeafNode de Non-LeafNode ' + str(idx + 1))\n",
    "\n",
    "plt.title('Cluster Features (CF)')\n",
    "plt.xlabel('CFx')\n",
    "plt.ylabel('CFy')\n",
    "plt.legend()\n",
    "plt.show()"
   ]
  },
  {
   "cell_type": "markdown",
   "metadata": {},
   "source": [
    "## Fase 3 - Agrupación global"
   ]
  },
  {
   "cell_type": "markdown",
   "metadata": {},
   "source": [
    "Función para normalizar los puntos en forma de vector de una lista entre 0 y 1. "
   ]
  },
  {
   "cell_type": "code",
   "execution_count": 447,
   "metadata": {},
   "outputs": [],
   "source": [
    "def NormalizaPuntos(NPuntos):\n",
    "    \n",
    "    Xs = []\n",
    "    Ys = []\n",
    "    for NPunto in NPuntos:\n",
    "        Xs.append(NPunto[0])\n",
    "        Ys.append(NPunto[1])\n",
    "    \n",
    "    \n",
    "    MaximoDeX = max(Xs)\n",
    "    MinimoDeX = min(Xs)\n",
    "    MaximoDeY = max(Ys)\n",
    "    MinimoDeY = min(Ys)\n",
    "\n",
    "    PuntosNorm = []\n",
    "    MaximoNormalizado = 1\n",
    "    MinimoNormalizado = 0\n",
    "    RangoNormalizado = MaximoNormalizado - MinimoNormalizado\n",
    "    for Npunto in NPuntos:\n",
    "        RangodeDatosX = MaximoDeX - MinimoDeX\n",
    "        RangodeDatosY = MaximoDeY - MinimoDeY\n",
    "            \n",
    "        DX = Npunto[0] - MinimoDeX\n",
    "        DY = Npunto[1] - MinimoDeY\n",
    "        \n",
    "        DPctX = DX / RangodeDatosX\n",
    "        DPctY = DY / RangodeDatosY\n",
    "        \n",
    "        dNormX = RangoNormalizado * DPctX\n",
    "        dNormY = RangoNormalizado * DPctY\n",
    "        \n",
    "        NormalizadoX = MinimoNormalizado + dNormX\n",
    "        NormalizadoY = MinimoNormalizado + dNormY\n",
    "        \n",
    "        PuntosNorm.append((NormalizadoX, NormalizadoY))\n",
    "    \n",
    "    return(PuntosNorm)"
   ]
  },
  {
   "cell_type": "markdown",
   "metadata": {},
   "source": [
    "Reeutilizamos la función AgrupDatos descrita en la sección de K-means."
   ]
  },
  {
   "cell_type": "code",
   "execution_count": 448,
   "metadata": {},
   "outputs": [],
   "source": [
    "def AgrupDatos(Centroides, CentroideXDato, ADPuntos):\n",
    "    PuntosDCentr = []\n",
    "    for idx, Centroide in enumerate(Centroides):\n",
    "        PuntosDColorX = []\n",
    "        positions = np.where(CentroideXDato == idx)\n",
    "        for position in positions[0]:\n",
    "            PuntosDColorX.append(ADPuntos[position])\n",
    "        PuntosDCentr.append(PuntosDColorX)\n",
    "    return(PuntosDCentr)"
   ]
  },
  {
   "cell_type": "markdown",
   "metadata": {},
   "source": [
    "Colocamos todos los puntos de las entradas del LN (Clusters), en una sola lista."
   ]
  },
  {
   "cell_type": "code",
   "execution_count": 449,
   "metadata": {},
   "outputs": [],
   "source": [
    "CFpoints = []\n",
    "for NLNf in rootf:\n",
    "    for LNf in NLNf:\n",
    "        for CFf in LNf:\n",
    "            CFpoints.append(CFf[1])"
   ]
  },
  {
   "cell_type": "markdown",
   "metadata": {},
   "source": [
    "Normalizamos los puntos de los CFs entre 0 y 1."
   ]
  },
  {
   "cell_type": "code",
   "execution_count": 450,
   "metadata": {
    "scrolled": false
   },
   "outputs": [],
   "source": [
    "CFpoints_Norm = NormalizaPuntos(CFpoints)"
   ]
  },
  {
   "cell_type": "markdown",
   "metadata": {},
   "source": [
    "Utilizamos la librería de KMeans utilizando K-means++ como método de clasificación para generar los centroides de los CFs generados en el tree. Se utiliza un k = 5, siguiendo nuevamente el valor de k determinado por el método del codo."
   ]
  },
  {
   "cell_type": "code",
   "execution_count": 451,
   "metadata": {},
   "outputs": [],
   "source": [
    "CFkmeans = KMeans(n_clusters=5, init='k-means++', n_init=1, random_state=0).fit(CFpoints_Norm)\n",
    "CFCentroideXDato = CFkmeans.labels_\n",
    "CFCentroides = CFkmeans.cluster_centers_\n",
    "CFPuntosDCentr = AgrupDatos(CFCentroides, CFCentroideXDato, puntos)"
   ]
  },
  {
   "cell_type": "markdown",
   "metadata": {},
   "source": [
    "Visualizamos los centroides generados junto con los CFs obtenidos en el CF-Tree"
   ]
  },
  {
   "cell_type": "code",
   "execution_count": 452,
   "metadata": {
    "scrolled": true
   },
   "outputs": [
    {
     "data": {
      "image/png": "[encoded data removed]",
      "text/plain": [
       "<Figure size 432x288 with 1 Axes>"
      ]
     },
     "metadata": {
      "needs_background": "light"
     },
     "output_type": "display_data"
    }
   ],
   "source": [
    "CFXp = []\n",
    "CFYp = []\n",
    "for CFelement in CFCentroides:\n",
    "    CFXp.append(CFelement[0])\n",
    "    CFYp.append(CFelement[1])\n",
    "\n",
    "Colors = ['yellow', 'orange', 'lightblue', 'purple', 'lightgreen']\n",
    "\n",
    "for idx, CFPuntos in enumerate(CFPuntosDCentr):\n",
    "    CFXColor = []\n",
    "    CFYColor = []\n",
    "    for CFelement in CFPuntos:\n",
    "        CFXColor.append(CFelement[0])\n",
    "        CFYColor.append(CFelement[1])\n",
    "    plt.scatter(CFXColor, CFYColor, color = Colors[idx], label = 'Datos de Centroide ' + str(idx + 1))\n",
    "    \n",
    "plt.scatter(CFXp, CFYp, color = 'red', label = 'Centroides')\n",
    "#plt.title('Ingreso Anual (k$) vs Edad')\n",
    "#plt.xlabel('Ingreso Anual (k$)')\n",
    "#plt.ylabel('Edad')\n",
    "plt.legend()\n",
    "plt.show()"
   ]
  },
  {
   "cell_type": "markdown",
   "metadata": {},
   "source": [
    "## Fase 4 - Utilizar los centroides de la Fase 3 como semillas"
   ]
  },
  {
   "cell_type": "markdown",
   "metadata": {},
   "source": [
    "Función para determinar las distancias de cada punto hasta los centroides generados por el CF-Tree."
   ]
  },
  {
   "cell_type": "code",
   "execution_count": 453,
   "metadata": {},
   "outputs": [],
   "source": [
    "def distACentrsXpunto(Centrs, DaXpuntos):\n",
    "    dist = []\n",
    "    for element in Centrs:\n",
    "        distXData = []\n",
    "        for DaXpunto in DaXpuntos:\n",
    "            distData = ((element[0] - DaXpunto[0])**2 + (element[1] - DaXpunto[1])**2)**0.5\n",
    "            distXData.append(distData)\n",
    "        dist.append(distXData)\n",
    "    return(dist)"
   ]
  },
  {
   "cell_type": "markdown",
   "metadata": {},
   "source": [
    "Función para elegir a qué centroide pertenece cada dato."
   ]
  },
  {
   "cell_type": "code",
   "execution_count": 454,
   "metadata": {},
   "outputs": [],
   "source": [
    "def Dato2CentrX(D2Xpuntos, dist):\n",
    "    MinimIdx = []\n",
    "    for idx, D2Xpunto in enumerate(D2Xpuntos):\n",
    "        inim = []\n",
    "        for element in dist:\n",
    "            inim.append(element[idx])\n",
    "        minimo = min(inim)\n",
    "        MinIdx = inim.index(minimo)\n",
    "        MinimIdx.append(MinIdx)\n",
    "    return(MinimIdx)"
   ]
  },
  {
   "cell_type": "markdown",
   "metadata": {},
   "source": [
    "Utilizamos los centroides recién generados en la Fase 3, para clasificar los puntos de la base de datos inicial entre los k clusters, según la distancia mínima de cada dato respecto a cada cluster."
   ]
  },
  {
   "cell_type": "code",
   "execution_count": 456,
   "metadata": {},
   "outputs": [],
   "source": [
    "CFdistancias = distACentrsXpunto(CFCentroides, puntos)\n",
    "CFCentroideXDato = Dato2CentrX(puntos, CFdistancias)\n",
    "CFCentroideXDato = np.array(CFCentroideXDato)\n",
    "CFPuntosDCentr = AgrupDatos(CFCentroides, CFCentroideXDato, puntos)"
   ]
  },
  {
   "cell_type": "markdown",
   "metadata": {},
   "source": [
    "Visualizamos la clasificación inicial de los datos en K clusters."
   ]
  },
  {
   "cell_type": "code",
   "execution_count": 457,
   "metadata": {
    "scrolled": true
   },
   "outputs": [
    {
     "data": {
      "image/png": "[encoded data removed]",
      "text/plain": [
       "<Figure size 432x288 with 1 Axes>"
      ]
     },
     "metadata": {
      "needs_background": "light"
     },
     "output_type": "display_data"
    }
   ],
   "source": [
    "CFXp = []\n",
    "CFYp = []\n",
    "for CFelement in CFCentroides:\n",
    "    CFXp.append(CFelement[0])\n",
    "    CFYp.append(CFelement[1])\n",
    "\n",
    "Colors = ['yellow', 'orange', 'lightblue', 'purple', 'lightgreen']\n",
    "\n",
    "for idx, CFPuntos in enumerate(CFPuntosDCentr):\n",
    "    CFXColor = []\n",
    "    CFYColor = []\n",
    "    for CFelement in CFPuntos:\n",
    "        CFXColor.append(CFelement[0])\n",
    "        CFYColor.append(CFelement[1])\n",
    "    plt.scatter(CFXColor, CFYColor, color = Colors[idx], label = 'Datos de Centroide ' + str(idx + 1))\n",
    "    \n",
    "plt.scatter(CFXp, CFYp, color = 'red', label = 'Centroides')\n",
    "plt.title('Ingreso Anual (k$) vs Edad')\n",
    "plt.xlabel('Ingreso Anual (k$)')\n",
    "plt.ylabel('Edad')\n",
    "plt.legend()\n",
    "plt.show()"
   ]
  },
  {
   "cell_type": "markdown",
   "metadata": {},
   "source": [
    "Reeutilizamos la funcion Centrs_promedio descrita en la sección de K-means."
   ]
  },
  {
   "cell_type": "code",
   "execution_count": 458,
   "metadata": {},
   "outputs": [],
   "source": [
    "def Centrs_promedio(Datos):\n",
    "\n",
    "    Centrs = []\n",
    "    for K in Datos:\n",
    "        sumaX = 0\n",
    "        sumaY = 0\n",
    "        for data in K:\n",
    "            sumaX += data[0]\n",
    "            sumaY += data[1]\n",
    "        X = sumaX / len(K)\n",
    "        Y = sumaY / len(K)\n",
    "        Centrs.append((X, Y))\n",
    "    return(Centrs)"
   ]
  },
  {
   "cell_type": "markdown",
   "metadata": {},
   "source": [
    "Determinamos nuevos centroides de los cluster recien generados, utilizando el promedio de los datos de cada cluster."
   ]
  },
  {
   "cell_type": "code",
   "execution_count": 459,
   "metadata": {},
   "outputs": [],
   "source": [
    "CFCentroides = Centrs_promedio(CFPuntosDCentr)"
   ]
  },
  {
   "cell_type": "markdown",
   "metadata": {},
   "source": [
    "Visualizamos los clusters finales y los centroides recién calculados, que son los finales del método de Birch."
   ]
  },
  {
   "cell_type": "code",
   "execution_count": 460,
   "metadata": {
    "scrolled": true
   },
   "outputs": [
    {
     "data": {
      "image/png": "[encoded data removed]",
      "text/plain": [
       "<Figure size 432x288 with 1 Axes>"
      ]
     },
     "metadata": {
      "needs_background": "light"
     },
     "output_type": "display_data"
    }
   ],
   "source": [
    "CFXp = []\n",
    "CFYp = []\n",
    "for CFelement in CFCentroides:\n",
    "    CFXp.append(CFelement[0])\n",
    "    CFYp.append(CFelement[1])\n",
    "\n",
    "Colors = ['yellow', 'orange', 'lightblue', 'purple', 'lightgreen']\n",
    "\n",
    "for idx, CFPuntos in enumerate(CFPuntosDCentr):\n",
    "    CFXColor = []\n",
    "    CFYColor = []\n",
    "    for CFelement in CFPuntos:\n",
    "        CFXColor.append(CFelement[0])\n",
    "        CFYColor.append(CFelement[1])\n",
    "    plt.scatter(CFXColor, CFYColor, color = Colors[idx], label = 'Datos de Centroide ' + str(idx + 1))\n",
    "    \n",
    "plt.scatter(CFXp, CFYp, color = 'red', label = 'Centroides')\n",
    "plt.title('Ingreso Anual (k$) vs Edad')\n",
    "plt.xlabel('Ingreso Anual (k$)')\n",
    "plt.ylabel('Edad')\n",
    "plt.legend()\n",
    "plt.show()"
   ]
  },
  {
   "cell_type": "markdown",
   "metadata": {},
   "source": [
    "Visualizamos las coordenas de los centroides finales del método Birch."
   ]
  },
  {
   "cell_type": "code",
   "execution_count": 461,
   "metadata": {
    "scrolled": true
   },
   "outputs": [
    {
     "name": "stdout",
     "output_type": "stream",
     "text": [
      "El centroide 1 tiene coordenadas (0.8032786885245903, 0.6217948717948718).\n",
      "El centroide 2 tiene coordenadas (0.10712266817410966, 0.20490716180371357).\n",
      "El centroide 3 tiene coordenadas (0.4804539722572511, 0.6074950690335307).\n",
      "El centroide 4 tiene coordenadas (0.2868852459016394, 0.03926282051282052).\n",
      "El centroide 5 tiene coordenadas (0.37593144560357683, 0.36451048951048953).\n"
     ]
    }
   ],
   "source": [
    "for idx, CFCentroide in enumerate(CFCentroides):\n",
    "    print('El centroide', str(idx + 1), 'tiene coordenadas', str(CFCentroide) + '.')"
   ]
  },
  {
   "cell_type": "markdown",
   "metadata": {},
   "source": [
    "# Generamos funciones globales con cada método"
   ]
  },
  {
   "cell_type": "markdown",
   "metadata": {},
   "source": [
    "## Función K-means o K-means++"
   ]
  },
  {
   "cell_type": "code",
   "execution_count": 98,
   "metadata": {},
   "outputs": [],
   "source": [
    "def Kmeans_own(NumCentroides, puntosIN, IniType):\n",
    "    import random as rd\n",
    "    import numpy as np\n",
    "\n",
    "    def Centrs_aleat(NumDCentrs):\n",
    "        idxCentrs = range(1, NumDCentrs + 1)\n",
    "\n",
    "        Centrs = []\n",
    "        for K in idxCentrs:\n",
    "            Centrs.append((rd.random(), rd.random()))\n",
    "        return(Centrs)\n",
    "    \n",
    "    def CentrsPP(NumDcentrs, PuntosIn):\n",
    "        First_Centr = (rd.random(), rd.random())\n",
    "        Centrs = [First_Centr]\n",
    "        for NumCent in range(1, NumDcentrs, 1):\n",
    "            Dists = distACentrsXpunto(Centrs, PuntosIn)\n",
    "            Minpunto = Dists[0]\n",
    "            for CentN in Dists:\n",
    "                for idx, distN in enumerate(CentN):\n",
    "                    if distN < Minpunto[idx]:\n",
    "                        Minpunto[idx]  = distN\n",
    "            distmin = max(Minpunto)\n",
    "            Minpunto = np.array(Minpunto)\n",
    "            posMinpunto = np.where(Minpunto == distmin)\n",
    "            Centrs.append(PuntosIn[posMinpunto[0][0]])\n",
    "        return(Centrs)\n",
    "\n",
    "    def Centrs_promedio(Datos):\n",
    "        Centrs = []\n",
    "        for K in Datos:\n",
    "            sumaX = 0\n",
    "            sumaY = 0\n",
    "            for data in K:\n",
    "                sumaX += data[0]\n",
    "                sumaY += data[1]\n",
    "            X = sumaX / len(K)\n",
    "            Y = sumaY / len(K)\n",
    "            Centrs.append((X, Y))\n",
    "        return(Centrs)\n",
    "\n",
    "    def distACentrsXpunto(Centrs, DaXpuntos):\n",
    "        dist = []\n",
    "        for element in Centrs:\n",
    "            distXData = []\n",
    "            for DaXpunto in DaXpuntos:\n",
    "                distData = ((element[0] - DaXpunto[0])**2 + (element[1] - DaXpunto[1])**2)**0.5\n",
    "                distXData.append(distData)\n",
    "            dist.append(distXData)\n",
    "        return(dist)\n",
    "\n",
    "    def Dato2CentrX(D2Xpuntos, dist):\n",
    "        MinimIdx = []\n",
    "        for idx, D2Xpunto in enumerate(D2Xpuntos):\n",
    "            inim = []\n",
    "            for element in dist:\n",
    "                inim.append(element[idx])\n",
    "            minimo = min(inim)\n",
    "            MinIdx = inim.index(minimo)\n",
    "            MinimIdx.append(MinIdx)\n",
    "        return(MinimIdx)\n",
    "\n",
    "    def AgrupDatos(ADCentroides, ADCentroideXDato, ADPuntos):\n",
    "        ADPuntosDCentr = []\n",
    "        for idx, ADCentroide in enumerate(ADCentroides):\n",
    "            PuntosDColorX = []\n",
    "            positions = np.where(ADCentroideXDato == idx)\n",
    "            for position in positions[0]:\n",
    "                PuntosDColorX.append(ADPuntos[position])\n",
    "            ADPuntosDCentr.append(PuntosDColorX)\n",
    "        return(ADPuntosDCentr)\n",
    "\n",
    "    #def Predict(data):\n",
    "        #distancias = distACentrsXpunto(Centroides, data)\n",
    "        #CentroideXDato = Dato2CentrX(data, distancias)\n",
    "        #Pertenencias = []\n",
    "        #for element in CentroideXDato:\n",
    "        #    Pertenencias.append(element + 1)\n",
    "        #Pertenencia = np.array(Pertenencias)\n",
    "        #return(Pertenencia)\n",
    "    \n",
    "    if IniType == 'random':\n",
    "        Centroides = Centrs_aleat(NumCentroides)\n",
    "    elif IniType == 'kmeans++':\n",
    "        Centroides = CentrsPP(NumCentroides, puntosIN)\n",
    "    else:\n",
    "        print(\"Elige un método de inicialización: 'random' o 'kmeans++' \")\n",
    "        return()\n",
    "        \n",
    "    Centroides = Centrs_aleat(NumCentroides)\n",
    "    distancias = distACentrsXpunto(Centroides, puntosIN)\n",
    "    CentroideXDato = Dato2CentrX(puntosIN, distancias)\n",
    "    CentroideXDato = np.array(CentroideXDato)\n",
    "    PuntosDCentr = AgrupDatos(Centroides, CentroideXDato, puntosIN)\n",
    "    Centroides = Centrs_promedio(PuntosDCentr)\n",
    "    \n",
    "    Centroides_anterior = 0\n",
    "    while Centroides_anterior != Centroides:\n",
    "        Centroides_anterior = Centroides\n",
    "        distancias = distACentrsXpunto(Centroides_anterior, puntosIN)\n",
    "        CentroideXDato = Dato2CentrX(puntosIN, distancias)\n",
    "        CentroideXDato = np.array(CentroideXDato)\n",
    "        PuntosDCentr = AgrupDatos(Centroides_anterior, CentroideXDato, puntosIN)\n",
    "        Centroides = Centrs_promedio(PuntosDCentr)\n",
    "        \n",
    "    return(Centroides, CentroideXDato, PuntosDCentr)"
   ]
  },
  {
   "cell_type": "markdown",
   "metadata": {},
   "source": [
    "## Función Birch"
   ]
  },
  {
   "cell_type": "code",
   "execution_count": 99,
   "metadata": {},
   "outputs": [],
   "source": [
    "def Birch_own(NumCentroides, PuntosIN, UmbralIN, BIN, LIN):    \n",
    "    import numpy as np\n",
    "    import random as rd\n",
    "    import matplotlib.pyplot as plt\n",
    "    from matplotlib.pyplot import figure\n",
    "    from sklearn.cluster import KMeans\n",
    "\n",
    "    def LS(LSpuntos):\n",
    "        LSsumaX = 0\n",
    "        LSsumaY = 0\n",
    "        for LSpunto in LSpuntos:\n",
    "            LSsumaX += LSpunto[0]\n",
    "            LSsumaY += LSpunto[1]\n",
    "        return((LSsumaX, LSsumaY))\n",
    "\n",
    "    def SS(SSpuntos):\n",
    "        SSsuma = 0\n",
    "        for SSpunto in SSpuntos:\n",
    "            SSPX = SSpunto[0]**2\n",
    "            SSPY = SSpunto[1]**2\n",
    "            SSsuma += SSPX + SSPY\n",
    "        return(SSsuma)\n",
    "\n",
    "    def centroid(Cpuntos):\n",
    "        LS_temp = LS(Cpuntos)\n",
    "        Nc = len(Cpuntos)\n",
    "        return((LS_temp[0] / Nc, LS_temp[1] / Nc))\n",
    "\n",
    "    def CF_centroid(CFc):\n",
    "        NCFc = CFc[0]\n",
    "        CFcX = CFc[1][0] / NCFc\n",
    "        CFcY = CFc[1][1] / NCFc\n",
    "        return((CFcX, CFcY))\n",
    "\n",
    "    def Radius(Rpuntos):\n",
    "        Nr = len(Rpuntos)\n",
    "        RP1 = SS(Rpuntos) / Nr\n",
    "        RP2 = centroid(Rpuntos)**2\n",
    "        R_temp = (RP1 - RP2)**0.5\n",
    "        return(R_temp)\n",
    "\n",
    "    def Diameter(CFDin):\n",
    "        DN = CFDin[0]\n",
    "        DLs = LS([CFDin[1]])\n",
    "        DLs = max(DLs)\n",
    "        DSs = SS([CFDin[1]])\n",
    "        DP1 = 2 * DN * DSs\n",
    "        DP2 = -2 * (DLs**2)\n",
    "        DP3 = DN**2\n",
    "        D_temp = (DP1 + DP2) / DP3\n",
    "        return(D_temp)\n",
    "\n",
    "    def CF(CFpuntos):\n",
    "        LS_temp = LS(CFpuntos)\n",
    "        SS_temp = SS(CFpuntos)\n",
    "        NCF = len(CFpuntos)\n",
    "        return([NCF, LS_temp, SS_temp])\n",
    "\n",
    "    def CF_merge(CF1, CF2):\n",
    "        CF1_1 = CF1[1]\n",
    "        CF2_1 = CF2[1]\n",
    "        CFr = [CF1[0] + CF2[0], (CF1_1[0] + CF2_1[0], CF1_1[1] + CF2_1[1]), CF1[2] + CF2[2]]\n",
    "        return(CFr)\n",
    "\n",
    "    def EC_distance(EDpuntos):\n",
    "        dist = ((EDpuntos[0][0] - EDpuntos[1][0])**2 + (EDpuntos[0][1] - EDpuntos[1][1])**2)**0.5\n",
    "        return(dist)\n",
    "\n",
    "    def ForinCentroids(FiCs, height):\n",
    "        if height == 0:\n",
    "            FiC_CF = FiCs\n",
    "        elif height == 1:\n",
    "            FiC_CF = [0, (0, 0), 0]\n",
    "            for FiC in FiCs:\n",
    "                FiC_CF = [FiC_CF[0] + FiC[0], (FiC_CF[1][0] + FiC[1][0], FiC_CF[1][1] + FiC[1][1]), FiC_CF[2] + FiC[2]]\n",
    "        else:\n",
    "            FiC_CF = [0, (0, 0), 0]\n",
    "            idx = height - 1\n",
    "            for FiC in FiCs:\n",
    "                FiCt = ForinCentroids(FiC, idx)\n",
    "                FiC_CF = [FiC_CF[0] + FiCt[0], (FiC_CF[1][0] + FiCt[1][0], FiC_CF[1][1] + FiCt[1][1]), FiC_CF[2] + FiCt[2]]\n",
    "        return(FiC_CF)\n",
    "\n",
    "    def AllCentroids(ACelements, ACnum):\n",
    "        cent = []\n",
    "        for CFi in ACelements:\n",
    "            CFNLN = ForinCentroids(CFi, ACnum)\n",
    "            centa = CF_centroid(CFNLN)\n",
    "            cent.append(centa)\n",
    "        return(cent)\n",
    "\n",
    "    def AllDists(ADelements, CFa):\n",
    "        distAll = []\n",
    "        for ADelement in ADelements:\n",
    "            dista = EC_distance([CFa, ADelement])\n",
    "            distAll.append(dista)\n",
    "        return(distAll)\n",
    "\n",
    "    def Select_TE(TreeElement, TEpunto, TEidx):\n",
    "        TECent = AllCentroids(TreeElement, TEidx)\n",
    "        TEDist = AllDists(TECent, TEpunto)\n",
    "        TEmDist = min(TEDist)\n",
    "        TEDist = np.array(TEDist)\n",
    "        TEmPosa = np.where(TEDist == TEmDist)\n",
    "        return(TEmPosa[0][0])\n",
    "\n",
    "    def CFClosest(Rootin, punto):\n",
    "        mRootpos = Select_TE(Rootin, punto, 2)\n",
    "        mNonLNpos = Select_TE(Rootin[mRootpos], punto, 1)\n",
    "        mLeafNodepos = Select_TE(Rootin[mRootpos][mNonLNpos], punto, 0)\n",
    "        CFmca = Rootin[mRootpos][mNonLNpos][mLeafNodepos]\n",
    "        return(CFmca, mRootpos, mNonLNpos, mLeafNodepos)\n",
    "\n",
    "    def farthest(LNin):\n",
    "        FE = []\n",
    "        FEpos = []\n",
    "        for CFsplit1 in LNin:\n",
    "            for CFsplit2 in LNin:\n",
    "                FEt = EC_distance([CFsplit1[1], CFsplit2[1]])\n",
    "                if FEt not in FE:\n",
    "                    FE.append(FEt)\n",
    "                    FEpos.append([CFsplit1, CFsplit2])\n",
    "        F = max(FE)\n",
    "        FE = np.array(FE)\n",
    "        Fpos = np.where(FE == F)\n",
    "        CFf1 = FEpos[Fpos[0][0]][0]\n",
    "        CFf2 = FEpos[Fpos[0][0]][1]\n",
    "        return(CFf1, CFf2)\n",
    "\n",
    "    def AllCF(ARoot):\n",
    "        AllCFs = []\n",
    "        for ANLN in ARoot:\n",
    "            for ALN in ANLN:\n",
    "                for ACF in ALN:\n",
    "                    AllCFs.append(ACF)\n",
    "        return(AllCFs)\n",
    "\n",
    "    def ReduceXCFtree(Tin, RRoot, RBin, RLin):\n",
    "        newT = Tin + 0.1\n",
    "        CF_Done = AllCF(RRoot)\n",
    "        newRoot = [[[CF_Done[0]]]]\n",
    "        for Ridx, RCF in enumerate(CF_Done[1:]):\n",
    "            CFmc_all = CFClosest(newRoot, RCF[1])\n",
    "            CFmc = CFmc_all[0]\n",
    "            Da = Diameter(newRoot[CFmc_all[1]][CFmc_all[2]][CFmc_all[3]])\n",
    "            CFa = RCF\n",
    "            if Da < newT:\n",
    "                newCF = CF_merge(CFa, CFmc)\n",
    "                newRoot[CFmc_all[1]][CFmc_all[2]][CFmc_all[3]] = newCF\n",
    "            else:\n",
    "                if len(newRoot[CFmc_all[1]][CFmc_all[2]]) < RLin:\n",
    "                    newRoot[CFmc_all[1]][CFmc_all[2]].append(CFa)\n",
    "                else:\n",
    "                    if len(newRoot[CFmc_all[1]]) < RBin:\n",
    "                        CFf = farthest(newRoot[CFmc_all[1]][CFmc_all[2]])\n",
    "\n",
    "                        LNold = []\n",
    "                        for element in newRoot[CFmc_all[1]][CFmc_all[2]]:\n",
    "                            if element not in CFf:\n",
    "                                LNold.append(element)\n",
    "\n",
    "                        LNold.append(CFa)\n",
    "                        newRoot[CFmc_all[1]][CFmc_all[2]] = [CFf[0]]\n",
    "                        newRoot[CFmc_all[1]].append([CFf[1]])\n",
    "\n",
    "                        for element in LNold:\n",
    "                            tempD1 = EC_distance([CFf[0][1], element[1]])\n",
    "                            tempD2 = EC_distance([CFf[1][1], element[1]])\n",
    "                            dest = min([tempD1, tempD2])\n",
    "                            if dest == 0:\n",
    "                                newRoot[CFmc_all[1]][CFmc_all[2]].append(element)\n",
    "                            else:\n",
    "                                newRoot[CFmc_all[1]][-1].append(element)\n",
    "                    else:\n",
    "                        NLNtemp = []\n",
    "                        for element in newRoot[CFmc_all[1]]:\n",
    "                            newCF = (0, (0, 0), 0)\n",
    "                            for element2 in element:\n",
    "                                    newCF = [newCF[0] + element2[0], \n",
    "                                             (newCF[1][0] + element2[1][0], newCF[1][1] + element2[1][1]), \n",
    "                                             newCF[2] + element2[2]]\n",
    "                            NLNtemp.append(newCF)\n",
    "\n",
    "                        CFf = farthest(NLNtemp)\n",
    "\n",
    "                        ele2 = []\n",
    "\n",
    "                        for idx, elment in enumerate(NLNtemp):\n",
    "                            if element not in CFf:\n",
    "                                ele2.append(newRoot[CFmc_all[1]][idx])\n",
    "\n",
    "                        ele2.append([CFa])\n",
    "\n",
    "                        LNold = []\n",
    "                        for element in NLNtemp:\n",
    "                            if element not in CFf:\n",
    "                                LNold.append(element)\n",
    "\n",
    "                        LNold.append(CFa)\n",
    "\n",
    "                        newRoot[CFmc_all[1]] = [[CFf[0]]]\n",
    "                        newRoot.append([[CFf[1]]])\n",
    "\n",
    "                        for idx, element in enumerate(LNold):\n",
    "                            tempD1 = EC_distance([CFf[0][1], element[1]])\n",
    "                            tempD2 = EC_distance([CFf[1][1], element[1]])\n",
    "                            dest = min([tempD1, tempD2])\n",
    "\n",
    "                            if dest == 0:\n",
    "                                newRoot[CFmc_all[1]].append(ele2[idx])\n",
    "                            else:\n",
    "                                newRoot[-1].append(ele2[idx])\n",
    "\n",
    "        return(newT, newRoot)\n",
    "\n",
    "    def RootOutliers(RootIn):\n",
    "        OutNum = []\n",
    "        for OutNLN in RootIn:\n",
    "            for OutLN in OutNLN:\n",
    "                for OutCF in OutLN:\n",
    "                    OutNum.append(OutCF[0])\n",
    "\n",
    "        OutSum = 0\n",
    "        for OutElement in OutNum:\n",
    "            OutSum += OutElement\n",
    "\n",
    "        OutProm = OutSum / len(OutNum)\n",
    "\n",
    "        ROutRoot = []\n",
    "        ROutliers = []\n",
    "        for OutNLN in RootIn:\n",
    "            ROutNLN = []\n",
    "            for OutLN in OutNLN:\n",
    "                ROutLN = []\n",
    "                for OutCF in OutLN:\n",
    "                    if OutCF[0] >= (OutProm / 2):\n",
    "                        ROutLN.append(OutCF)\n",
    "                    else:\n",
    "                        ROutliers.append(OutCF)\n",
    "                if len(ROutLN) != 0:\n",
    "                    ROutNLN.append(ROutLN)\n",
    "            if len(ROutLN) != 0:\n",
    "                ROutRoot.append(ROutNLN)\n",
    "\n",
    "        return(ROutRoot, ROutliers)\n",
    "\n",
    "    def CFtree(puntosTree, T, BTree, LTree):\n",
    "        DT = T\n",
    "        NCFt = len(puntosTree)\n",
    "        puntosSH = rd.sample(puntosTree, NCFt)\n",
    "\n",
    "        fOutliers = []\n",
    "        Root = [[[CF([puntosSH[0]])]]]\n",
    "        for idx, punto in enumerate(puntosSH[1:]):\n",
    "            CFmc_all = CFClosest(Root, punto)\n",
    "            CFmc = CFmc_all[0]\n",
    "            Da = Diameter(Root[CFmc_all[1]][CFmc_all[2]][CFmc_all[3]])\n",
    "            CFa = CF([punto])\n",
    "            if Da < DT:\n",
    "                newCF = CF_merge(CFa, CFmc)\n",
    "                Root[CFmc_all[1]][CFmc_all[2]][CFmc_all[3]] = newCF\n",
    "            else:\n",
    "                if len(Root[CFmc_all[1]][CFmc_all[2]]) < LTree:\n",
    "                    Root[CFmc_all[1]][CFmc_all[2]].append(CFa)\n",
    "                else:\n",
    "                    if len(Root[CFmc_all[1]]) < BTree:\n",
    "                        CFf = farthest(Root[CFmc_all[1]][CFmc_all[2]])\n",
    "\n",
    "                        LNold = []\n",
    "                        for element in Root[CFmc_all[1]][CFmc_all[2]]:\n",
    "                            if element not in CFf:\n",
    "                                LNold.append(element)\n",
    "\n",
    "                        LNold.append(CFa)\n",
    "                        Root[CFmc_all[1]][CFmc_all[2]] = [CFf[0]]\n",
    "                        Root[CFmc_all[1]].append([CFf[1]])\n",
    "\n",
    "                        for element in LNold:\n",
    "                            tempD1 = EC_distance([CFf[0][1], element[1]])\n",
    "                            tempD2 = EC_distance([CFf[1][1], element[1]])\n",
    "                            dest = min([tempD1, tempD2])\n",
    "                            if dest == 0:\n",
    "                                Root[CFmc_all[1]][CFmc_all[2]].append(element)\n",
    "                            else:\n",
    "                                Root[CFmc_all[1]][-1].append(element)\n",
    "                    else:\n",
    "                        if len(Root) < BTree:\n",
    "                            NLNtemp = []\n",
    "                            for element in Root[CFmc_all[1]]:\n",
    "                                newCF = (0, (0, 0), 0)\n",
    "                                for element2 in element:\n",
    "                                        newCF = [newCF[0] + element2[0], \n",
    "                                                 (newCF[1][0] + element2[1][0], newCF[1][1] + element2[1][1]), \n",
    "                                                 newCF[2] + element2[2]]\n",
    "                                NLNtemp.append(newCF)\n",
    "\n",
    "                            CFf = farthest(NLNtemp)\n",
    "\n",
    "                            ele2 = []\n",
    "\n",
    "                            for idx, elment in enumerate(NLNtemp):\n",
    "                                if element not in CFf:\n",
    "                                    ele2.append(Root[CFmc_all[1]][idx])\n",
    "\n",
    "                            ele2.append([CFa])\n",
    "\n",
    "                            LNold = []\n",
    "                            for element in NLNtemp:\n",
    "                                if element not in CFf:\n",
    "                                    LNold.append(element)\n",
    "\n",
    "                            LNold.append(CFa)\n",
    "\n",
    "                            Root[CFmc_all[1]] = [[CFf[0]]]\n",
    "                            Root.append([[CFf[1]]])\n",
    "\n",
    "                            for idx, element in enumerate(LNold):\n",
    "                                tempD1 = EC_distance([CFf[0][1], element[1]])\n",
    "                                tempD2 = EC_distance([CFf[1][1], element[1]])\n",
    "                                dest = min([tempD1, tempD2])\n",
    "\n",
    "                                if dest == 0:\n",
    "                                    Root[CFmc_all[1]].append(ele2[idx])\n",
    "                                else:\n",
    "                                    Root[-1].append(ele2[idx])\n",
    "                        else:\n",
    "                            Reduced = ReduceXCFtree(DT, Root, BTree, LTree)\n",
    "                            DT = Reduced[0]\n",
    "                            Root = Reduced[1]\n",
    "                            POL = RootOutliers(Root)\n",
    "                            Root = POL[0]\n",
    "                            fOutliers = POL[1]\n",
    "\n",
    "        for PosOutliers in fOutliers:\n",
    "            CFmc_all = CFClosest(Root, PosOutliers[1])\n",
    "            CFmc = CFmc_all[0]\n",
    "            Da = Diameter(Root[CFmc_all[1]][CFmc_all[2]][CFmc_all[3]])\n",
    "            CFa = PosOutliers\n",
    "            if Da < DT:\n",
    "                newCF = CF_merge(CFa, CFmc)\n",
    "                Root[CFmc_all[1]][CFmc_all[2]][CFmc_all[3]] = newCF\n",
    "\n",
    "        return(Root)\n",
    "\n",
    "    def NormalizaPuntos(NPuntos):\n",
    "\n",
    "        Xs = []\n",
    "        Ys = []\n",
    "        for NPunto in NPuntos:\n",
    "            Xs.append(NPunto[0])\n",
    "            Ys.append(NPunto[1])\n",
    "\n",
    "\n",
    "        MaximoDeX = max(Xs)\n",
    "        MinimoDeX = min(Xs)\n",
    "        MaximoDeY = max(Ys)\n",
    "        MinimoDeY = min(Ys)\n",
    "\n",
    "        PuntosNorm = []\n",
    "        MaximoNormalizado = 1\n",
    "        MinimoNormalizado = 0\n",
    "        RangoNormalizado = MaximoNormalizado - MinimoNormalizado\n",
    "        for Npunto in NPuntos:\n",
    "            RangodeDatosX = MaximoDeX - MinimoDeX\n",
    "            RangodeDatosY = MaximoDeY - MinimoDeY\n",
    "\n",
    "            DX = Npunto[0] - MinimoDeX\n",
    "            DY = Npunto[1] - MinimoDeY\n",
    "\n",
    "            DPctX = DX / RangodeDatosX\n",
    "            DPctY = DY / RangodeDatosY\n",
    "\n",
    "            dNormX = RangoNormalizado * DPctX\n",
    "            dNormY = RangoNormalizado * DPctY\n",
    "\n",
    "            NormalizadoX = MinimoNormalizado + dNormX\n",
    "            NormalizadoY = MinimoNormalizado + dNormY\n",
    "\n",
    "            PuntosNorm.append((NormalizadoX, NormalizadoY))\n",
    "\n",
    "        return(PuntosNorm)\n",
    "\n",
    "    def AgrupDatos(ADCentroides, ADCentroideXDato, ADPuntos):\n",
    "        ADPuntosDCentr = []\n",
    "        for idx, ADCentroide in enumerate(ADCentroides):\n",
    "            PuntosDColorX = []\n",
    "            positions = np.where(ADCentroideXDato == idx)\n",
    "            for position in positions[0]:\n",
    "                PuntosDColorX.append(ADPuntos[position])\n",
    "            ADPuntosDCentr.append(PuntosDColorX)\n",
    "        return(ADPuntosDCentr)\n",
    "\n",
    "    def distACentrsXpunto(Centrs, DaXpuntos):\n",
    "        dist = []\n",
    "        for element in Centrs:\n",
    "            distXData = []\n",
    "            for DaXpunto in DaXpuntos:\n",
    "                distData = ((element[0] - DaXpunto[0])**2 + (element[1] - DaXpunto[1])**2)**0.5\n",
    "                distXData.append(distData)\n",
    "            dist.append(distXData)\n",
    "        return(dist)\n",
    "\n",
    "    def Dato2CentrX(D2Xpuntos, dist):\n",
    "        MinimIdx = []\n",
    "        for idx, D2Xpunto in enumerate(D2Xpuntos):\n",
    "            inim = []\n",
    "            for element in dist:\n",
    "                inim.append(element[idx])\n",
    "            minimo = min(inim)\n",
    "            MinIdx = inim.index(minimo)\n",
    "            MinimIdx.append(MinIdx)\n",
    "        return(MinimIdx)\n",
    "\n",
    "    def Centrs_promedio(Datos):\n",
    "        Centrs = []\n",
    "        for K in Datos:\n",
    "            sumaX = 0\n",
    "            sumaY = 0\n",
    "            for data in K:\n",
    "                sumaX += data[0]\n",
    "                sumaY += data[1]\n",
    "            X = sumaX / len(K)\n",
    "            Y = sumaY / len(K)\n",
    "            Centrs.append((X, Y))\n",
    "        return(Centrs)\n",
    "\n",
    "    rootf = CFtree(PuntosIN, UmbralIN, BIN, LIN)\n",
    "    \n",
    "    CFpoints = []\n",
    "    for NLNf in rootf:\n",
    "        for LNf in NLNf:\n",
    "            for CFf in LNf:\n",
    "                CFpoints.append(CFf[1])\n",
    "\n",
    "    CFpoints_Norm = NormalizaPuntos(CFpoints)\n",
    "\n",
    "    CFkmeans = KMeans(n_clusters=NumCentroides, init='k-means++', n_init=1, random_state=0).fit(CFpoints_Norm)\n",
    "    CFCentroideXDato = CFkmeans.labels_\n",
    "    CFCentroides = CFkmeans.cluster_centers_\n",
    "    CFPuntosDCentr = AgrupDatos(CFCentroides, CFCentroideXDato, PuntosIN)\n",
    "\n",
    "    CFdistancias = distACentrsXpunto(CFCentroides, PuntosIN)\n",
    "    CFCentroideXDato = Dato2CentrX(PuntosIN, CFdistancias)\n",
    "    CFCentroideXDato = np.array(CFCentroideXDato)\n",
    "    CFPuntosDCentr = AgrupDatos(CFCentroides, CFCentroideXDato, PuntosIN)\n",
    "    \n",
    "    CFCentroides = Centrs_promedio(CFPuntosDCentr)\n",
    "    \n",
    "    return(CFCentroides, CFCentroideXDato, CFPuntosDCentr)"
   ]
  },
  {
   "cell_type": "markdown",
   "metadata": {},
   "source": [
    "# Ejecutamos método K-Fold con cada método"
   ]
  },
  {
   "cell_type": "markdown",
   "metadata": {},
   "source": [
    "Elegimos un K = 5"
   ]
  },
  {
   "cell_type": "markdown",
   "metadata": {},
   "source": [
    "## Dividimos los datos para entrenamiento y validación"
   ]
  },
  {
   "cell_type": "code",
   "execution_count": 9,
   "metadata": {},
   "outputs": [],
   "source": [
    "from sklearn.model_selection import train_test_split"
   ]
  },
  {
   "cell_type": "code",
   "execution_count": 10,
   "metadata": {},
   "outputs": [],
   "source": [
    "XtrainAll, Xtest, YtrainAll, Ytest = train_test_split(X, Y, train_size = 0.90)"
   ]
  },
  {
   "cell_type": "code",
   "execution_count": 12,
   "metadata": {},
   "outputs": [],
   "source": [
    "CantDdatosDB = len(puntos)\n",
    "\n",
    "Veinte = int((CantDdatosDB * 20) / 100)\n",
    "Cuarenta = int((CantDdatosDB * 40) / 100)\n",
    "Sesenta = int((CantDdatosDB * 60) / 100)"
   ]
  },
  {
   "cell_type": "code",
   "execution_count": 13,
   "metadata": {},
   "outputs": [],
   "source": [
    "Xtrain1, Xval1 = XtrainAll[:-Veinte], XtrainAll[-Veinte:]\n",
    "Ytrain1, Yval1 = YtrainAll[:-Veinte], YtrainAll[-Veinte:]\n",
    "\n",
    "Xtrain2, Xval2 = list(XtrainAll[:-Cuarenta]), XtrainAll[-Cuarenta:-Veinte]\n",
    "Xtrain2 += list(XtrainAll[-Veinte:])\n",
    "Xtrain2 = np.array(Xtrain2)\n",
    "Ytrain2, Yval2 = list(YtrainAll[:-Cuarenta]), YtrainAll[-Cuarenta:-Veinte]\n",
    "Ytrain2 += list(YtrainAll[-Veinte:])\n",
    "Ytrain2 = np.array(Ytrain2)\n",
    "\n",
    "Xtrain3, Xval3 = list(XtrainAll[:-Sesenta]), XtrainAll[-Sesenta:-Cuarenta]\n",
    "Xtrain3 += list(XtrainAll[-Cuarenta:])\n",
    "Xtrain3 = np.array(Xtrain3)\n",
    "Ytrain3, Yval3 = list(YtrainAll[:-Sesenta]), YtrainAll[-Sesenta:-Cuarenta]\n",
    "Ytrain3 += list(YtrainAll[-Cuarenta:])\n",
    "Ytrain3 = np.array(Ytrain3)\n",
    "\n",
    "Xtrain4, Xval4 = list(XtrainAll[:Veinte]), XtrainAll[Veinte:Cuarenta]\n",
    "Xtrain4 += list(XtrainAll[Cuarenta:])\n",
    "Xtrain4 = np.array(Xtrain4)\n",
    "Ytrain4, Yval4 = list(YtrainAll[:Veinte]), YtrainAll[Veinte:Cuarenta]\n",
    "Ytrain4 += list(YtrainAll[Cuarenta:])\n",
    "Ytrain4 = np.array(Ytrain4)\n",
    "\n",
    "Xtrain5, Xval5 = XtrainAll[Veinte:], XtrainAll[:Veinte]\n",
    "Ytrain5, Yval5 = YtrainAll[Veinte:], YtrainAll[:Veinte]"
   ]
  },
  {
   "cell_type": "code",
   "execution_count": 14,
   "metadata": {},
   "outputs": [],
   "source": [
    "fAllpoints = []\n",
    "fAllpoints.append(data2point(Xtrain1, Ytrain1))\n",
    "fAllpoints.append(data2point(Xtrain2, Ytrain2))\n",
    "fAllpoints.append(data2point(Xtrain3, Ytrain3))\n",
    "fAllpoints.append(data2point(Xtrain4, Ytrain4))\n",
    "fAllpoints.append(data2point(Xtrain5, Ytrain5))"
   ]
  },
  {
   "cell_type": "markdown",
   "metadata": {},
   "source": [
    "## Ejecutamos los algoritmos k veces"
   ]
  },
  {
   "cell_type": "code",
   "execution_count": 121,
   "metadata": {
    "scrolled": false
   },
   "outputs": [],
   "source": [
    "import time\n",
    "FResults = []\n",
    "for tiempo in range(0, 5, 1):\n",
    "    FPoints = fAllpoints[tiempo]\n",
    "    KmeansRes = Kmeans_own(5, FPoints, 'random')\n",
    "    time.sleep(0.1)\n",
    "    KmeansppRes = Kmeans_own(5, FPoints, 'kmeans++')\n",
    "    time.sleep(0.1)\n",
    "    BirchRes = Birch_own(5, FPoints, 0.15, 8, 8)\n",
    "    time.sleep(0.1)\n",
    "    FResults.append([KmeansRes, KmeansppRes, BirchRes])"
   ]
  },
  {
   "cell_type": "markdown",
   "metadata": {},
   "source": [
    "## Generamos el promedio de los centroides resultantes de cada método y los comparamos"
   ]
  },
  {
   "cell_type": "code",
   "execution_count": 157,
   "metadata": {},
   "outputs": [],
   "source": [
    "SumaFinal = [[(0.0, 0.0), (0.0, 0.0), (0.0, 0.0), (0.0, 0.0), (0.0, 0.0)], \n",
    "             [(0.0, 0.0), (0.0, 0.0), (0.0, 0.0), (0.0, 0.0), (0.0, 0.0)], \n",
    "             [(0.0, 0.0), (0.0, 0.0), (0.0, 0.0), (0.0, 0.0), (0.0, 0.0)]]\n",
    "SumaFinal = np.array(SumaFinal)\n",
    "\n",
    "for FResult in FResults:\n",
    "    for idx, method in enumerate(FResult):\n",
    "        for idx2, FCent in enumerate(method[0]):\n",
    "            SumaFinal[idx][idx2][0] += FCent[0]\n",
    "            SumaFinal[idx][idx2][1] += FCent[1]\n",
    "            \n",
    "\n",
    "K = len(FResults)\n",
    "\n",
    "for idx, method in enumerate(SumaFinal):\n",
    "    for idx2, FCent in enumerate(method):\n",
    "        SumaFinal[idx][idx2][0] = SumaFinal[idx][idx2][0] / K\n",
    "        SumaFinal[idx][idx2][1] = SumaFinal[idx][idx2][1] / K\n",
    "\n",
    "PromKmeans = SumaFinal[0]\n",
    "PromKmeanspp = SumaFinal[1]\n",
    "PromBirch = SumaFinal[2]"
   ]
  },
  {
   "cell_type": "code",
   "execution_count": 158,
   "metadata": {
    "scrolled": false
   },
   "outputs": [
    {
     "name": "stdout",
     "output_type": "stream",
     "text": [
      "Coordenas del centroide resultante del algoritmo de Kmeans:\n",
      " [[0.4913991  0.5028844 ]\n",
      " [0.22468127 0.56591013]\n",
      " [0.4740199  0.40603222]\n",
      " [0.36704096 0.33680564]\n",
      " [0.39987564 0.32595085]].\n",
      "Coordenas del centroide resultante del algoritmo de Kmeans++:\n",
      " [[0.2847356  0.38246029]\n",
      " [0.28893414 0.47529779]\n",
      " [0.45102193 0.49885024]\n",
      " [0.47478001 0.43606352]\n",
      " [0.4267866  0.35422725]].\n",
      "Coordenas del centroide resultante del algoritmo de Birch:\n",
      " [[0.17393593 0.27139007]\n",
      " [0.44207272 0.49100261]\n",
      " [0.52542442 0.5102827 ]\n",
      " [0.18087292 0.34217406]\n",
      " [0.36050284 0.19148221]].\n"
     ]
    }
   ],
   "source": [
    "print('Coordenas del centroide resultante del algoritmo de Kmeans:\\n', str(PromKmeans) + '.')\n",
    "print('Coordenas del centroide resultante del algoritmo de Kmeans++:\\n', str(PromKmeanspp) + '.')\n",
    "print('Coordenas del centroide resultante del algoritmo de Birch:\\n', str(PromBirch) + '.')"
   ]
  },
  {
   "cell_type": "code",
   "execution_count": 165,
   "metadata": {
    "scrolled": true
   },
   "outputs": [
    {
     "data": {
      "image/png": "[encoded data removed]",
      "text/plain": [
       "<Figure size 432x288 with 1 Axes>"
      ]
     },
     "metadata": {
      "needs_background": "light"
     },
     "output_type": "display_data"
    }
   ],
   "source": [
    "CFXp1 = []\n",
    "CFYp1 = []\n",
    "for CFelement in PromKmeans:\n",
    "    CFXp1.append(CFelement[0])\n",
    "    CFYp1.append(CFelement[1])\n",
    "    \n",
    "CFXp2 = []\n",
    "CFYp2 = []\n",
    "for CFelement in PromKmeanspp:\n",
    "    CFXp2.append(CFelement[0])\n",
    "    CFYp2.append(CFelement[1])\n",
    "    \n",
    "CFXp3 = []\n",
    "CFYp3 = []\n",
    "for CFelement in PromBirch:\n",
    "    CFXp3.append(CFelement[0])\n",
    "    CFYp3.append(CFelement[1])\n",
    "    \n",
    "plt.scatter(CFXp1, CFYp1, color = 'orange', label = 'Centroides Kmeans')\n",
    "plt.scatter(CFXp2, CFYp2, color = 'cyan', label = 'Centroides Kmeans++')\n",
    "plt.scatter(CFXp3, CFYp3, color = 'yellow', label = 'Centroides Birch')\n",
    "plt.legend()\n",
    "plt.show()"
   ]
  },
  {
   "cell_type": "markdown",
   "metadata": {},
   "source": [
    "En este punto se puede destacar que no se encontró una manera de utilizar el K-Fold con datos no etiquetados, por lo tanto se procedió buscar métricas más adecuadas para estos casos."
   ]
  },
  {
   "cell_type": "markdown",
   "metadata": {},
   "source": [
    "## Evaluamos el rendimiento de los resultados de cada método"
   ]
  },
  {
   "cell_type": "markdown",
   "metadata": {},
   "source": [
    "Nota: en ocaciones repetidas, los algoritmos terminan con una lista vacía debido a la aleatoriedad, generando una división entre 0, por lo que es necesario seguir ejecutando hasta que esta condición no se presente de ser así."
   ]
  },
  {
   "cell_type": "code",
   "execution_count": 180,
   "metadata": {},
   "outputs": [],
   "source": [
    "from sklearn.metrics import silhouette_score\n",
    "\n",
    "\n",
    "KmeansRes = Kmeans_own(5, puntos, 'random')\n",
    "\n",
    "KmeansppRes = Kmeans_own(5, puntos, 'kmeans++')\n",
    "\n",
    "BirchRes = Birch_own(5, puntos, 0.15, 8, 8)\n",
    "\n",
    "Kmeans_sil = silhouette_score(puntos, KmeansRes[1])\n",
    "Kmeanspp_sil = silhouette_score(puntos, KmeansppRes[1])\n",
    "Birch_sil = silhouette_score(puntos, BirchRes[1])"
   ]
  },
  {
   "cell_type": "markdown",
   "metadata": {},
   "source": [
    "Se presentan los resultados obtenidos del silhouette score:"
   ]
  },
  {
   "cell_type": "code",
   "execution_count": 181,
   "metadata": {
    "scrolled": true
   },
   "outputs": [
    {
     "name": "stdout",
     "output_type": "stream",
     "text": [
      "Silhouette_score del algoritmo de Kmeans: 0.3692004019734756.\n",
      "Silhouette_score del algoritmo de Kmeans++: 0.3788938637180651.\n",
      "Silhouette_score del algoritmo de Birch: 0.2565934856744897.\n"
     ]
    }
   ],
   "source": [
    "print('Silhouette_score del algoritmo de Kmeans:', str(Kmeans_sil) + '.')\n",
    "print('Silhouette_score del algoritmo de Kmeans++:', str(Kmeanspp_sil) + '.')\n",
    "print('Silhouette_score del algoritmo de Birch:', str(Birch_sil) + '.')"
   ]
  },
  {
   "cell_type": "markdown",
   "metadata": {},
   "source": [
    "Es posible determinar que el algoritmo de Kmeans++ generalmente, no siempre debido a la aleatoriedad, genera una mejor agrupación que el Kmeans común, mientras que ambos Kmean, obtienen un mejor resultado que el algoritmo de Birch, considerando que la fortaleza del algoritmo de Birch se encuentra en reducir el tiempo de ejecución para bases de datos muy grandes. Sin embargo, al tener un rango entre -1 y 1 para el score obtenido, se puede concluir que aún es posible realizar una mejor agrupación, aunque al no entrar en el rango negativo, es un resultado medianamente satisfactorio. "
   ]
  }
 ],
 "metadata": {
  "kernelspec": {
   "display_name": "Python 3",
   "language": "python",
   "name": "python3"
  },
  "language_info": {
   "codemirror_mode": {
    "name": "ipython",
    "version": 3
   },
   "file_extension": ".py",
   "mimetype": "text/x-python",
   "name": "python",
   "nbconvert_exporter": "python",
   "pygments_lexer": "ipython3",
   "version": "3.8.5"
  }
 },
 "nbformat": 4,
 "nbformat_minor": 4
}
