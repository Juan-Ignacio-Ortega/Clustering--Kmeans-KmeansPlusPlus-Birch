{
  "cells": [
    {
      "cell_type": "markdown",
      "metadata": {
        "id": "ZAfJQ8Eg8J5M"
      },
      "source": [
        "# Metodología"
      ]
    },
    {
      "cell_type": "markdown",
      "metadata": {
        "id": "eTKyY0kQ8J5Q"
      },
      "source": [
        "## Importamos la base de datos"
      ]
    },
    {
      "cell_type": "markdown",
      "metadata": {
        "id": "QUsL2_xp8J5R"
      },
      "source": [
        "Primeramente, importamos las librerías necesarias para la sección."
      ]
    },
    {
      "cell_type": "code",
      "execution_count": null,
      "metadata": {
        "id": "XSFiYJ7v8J5R"
      },
      "outputs": [],
      "source": [
        "import pandas as pd\n",
        "import numpy as np\n",
        "import matplotlib.pyplot as plt"
      ]
    },
    {
      "cell_type": "code",
      "execution_count": null,
      "metadata": {
        "scrolled": true,
        "id": "WPiFGHa48J5S"
      },
      "outputs": [],
      "source": [
        "DB = pd.read_csv('Mall_Customers.csv')\n",
        "\n",
        "print('Cantidad de datos por atributo =', str(len(DB['Age'])) + '.')\n",
        "DB.head()"
      ]
    },
    {
      "cell_type": "markdown",
      "metadata": {
        "id": "axD4mWRx8J5T"
      },
      "source": [
        "### Normalizamos los datos"
      ]
    },
    {
      "cell_type": "markdown",
      "metadata": {
        "id": "IGHBPuks8J5U"
      },
      "source": [
        "Utilizamos la función de normalización generada con anterioridad, agregando además sus parámetros necesarios."
      ]
    },
    {
      "cell_type": "code",
      "execution_count": null,
      "metadata": {
        "id": "q2jSNHbj8J5U"
      },
      "outputs": [],
      "source": [
        "def Normaliza(DB):\n",
        "    DB = DB.to_numpy()\n",
        "\n",
        "    Atributos = DB[0]\n",
        "    NoAtributos = len(Atributos)\n",
        "    Instancias = DB.T[0]\n",
        "    NoInstancias = len(Instancias)\n",
        "\n",
        "    MaximoDeAtributos = []\n",
        "    MinimoDeAtributos = []\n",
        "    for idx, element in enumerate(Atributos):\n",
        "      CaractMax = max(DB.T[idx])\n",
        "      CaractMin = min(DB.T[idx])\n",
        "      MaximoDeAtributos.append(CaractMax)\n",
        "      MinimoDeAtributos.append(CaractMin)\n",
        "\n",
        "    DBNorm = []\n",
        "    MaximoNormalizado = 1\n",
        "    MinimoNormalizado = 0\n",
        "    RangoNormalizado = MaximoNormalizado - MinimoNormalizado\n",
        "    for idx, element in enumerate(Atributos):\n",
        "      CaractNorm = []\n",
        "      if str(type(Atributos[idx]))[8 : -2] != 'str':\n",
        "        RangodeDatos = MaximoDeAtributos[idx] - MinimoDeAtributos[idx]\n",
        "        for idx2, element2 in enumerate(Instancias):\n",
        "          if str(DB.T[idx][idx2]) != 'nan':\n",
        "            D = DB.T[idx][idx2] - MinimoDeAtributos[idx]\n",
        "            DPct = D / RangodeDatos\n",
        "            dNorm = RangoNormalizado * DPct\n",
        "            Normalizado = MinimoNormalizado + dNorm\n",
        "            CaractNorm.append(Normalizado)\n",
        "          else:\n",
        "            CaractNorm.append(DB.T[idx][idx2])\n",
        "      else:\n",
        "        for idx2, element2 in enumerate(Instancias):\n",
        "          CaractNorm.append(DB.T[idx][idx2])\n",
        "      DBNorm.append(CaractNorm)\n",
        "    return(DBNorm)"
      ]
    },
    {
      "cell_type": "code",
      "execution_count": null,
      "metadata": {
        "id": "zz5_ZmsQ8J5V"
      },
      "outputs": [],
      "source": [
        "DB_Norm = Normaliza(DB)"
      ]
    },
    {
      "cell_type": "markdown",
      "metadata": {
        "id": "3hH7yAfG8J5V"
      },
      "source": [
        "Definimos los valores de X con los datos de ingresos anuales, y los valores de Y con los datos de edad."
      ]
    },
    {
      "cell_type": "code",
      "execution_count": null,
      "metadata": {
        "id": "GNi_1H7-8J5V"
      },
      "outputs": [],
      "source": [
        "X = np.array(DB_Norm[3])\n",
        "Y = np.array(DB_Norm[2])"
      ]
    },
    {
      "cell_type": "markdown",
      "metadata": {
        "id": "PX9JN5Vj8J5W"
      },
      "source": [
        "### Visualizamos los datos"
      ]
    },
    {
      "cell_type": "code",
      "execution_count": null,
      "metadata": {
        "scrolled": false,
        "id": "WObFjQTt8J5W"
      },
      "outputs": [],
      "source": [
        "plt.scatter(X, Y, color = 'lightblue', label = 'Datos')\n",
        "plt.title('Ingreso Anual (k$) vs Edad')\n",
        "plt.xlabel('Ingreso Anual (k$)')\n",
        "plt.ylabel('Edad')\n",
        "plt.legend()\n",
        "plt.show()"
      ]
    },
    {
      "cell_type": "markdown",
      "metadata": {
        "id": "yoWxFCNh8J5W"
      },
      "source": [
        "Función para transformar los datos de entrada X e Y a puntos de dato con coordenadas (Xi, Yi)."
      ]
    },
    {
      "cell_type": "code",
      "execution_count": null,
      "metadata": {
        "id": "I2vNWazf8J5W"
      },
      "outputs": [],
      "source": [
        "def data2point(X, Y):\n",
        "    puntos = []\n",
        "    for idx, x in enumerate(X):\n",
        "        puntos.append((x, Y[idx]))\n",
        "    return(puntos)"
      ]
    },
    {
      "cell_type": "markdown",
      "metadata": {
        "id": "5CtKuFGp8J5X"
      },
      "source": [
        "Transformamos los datos X e Y a puntos de dato con coordenadas (Xi, Yi)."
      ]
    },
    {
      "cell_type": "code",
      "execution_count": null,
      "metadata": {
        "id": "zP9r7UQ68J5X"
      },
      "outputs": [],
      "source": [
        "puntos = data2point(X, Y)"
      ]
    },
    {
      "cell_type": "markdown",
      "metadata": {
        "id": "vQtCvsOl8J5X"
      },
      "source": [
        "## BIRCH"
      ]
    },
    {
      "cell_type": "markdown",
      "metadata": {
        "id": "2jGrcI_U8J5X"
      },
      "source": [
        "Primeramente, importamos las librerías necesarias para la sección."
      ]
    },
    {
      "cell_type": "code",
      "execution_count": null,
      "metadata": {
        "id": "2milpUO_8J5X"
      },
      "outputs": [],
      "source": [
        "import numpy as np\n",
        "import random as rd\n",
        "import matplotlib.pyplot as plt\n",
        "from matplotlib.pyplot import figure\n",
        "from sklearn.cluster import KMeans"
      ]
    },
    {
      "cell_type": "markdown",
      "metadata": {
        "id": "gpAZmRBl8J5Y"
      },
      "source": [
        "Función para calcular la suma lineal de los N datos en un grupo (cluster en inglés) (LS)."
      ]
    },
    {
      "cell_type": "code",
      "execution_count": null,
      "metadata": {
        "id": "8R3c1ZbV8J5Y"
      },
      "outputs": [],
      "source": [
        "def LS(LSpuntos):\n",
        "    LSsumaX = 0\n",
        "    LSsumaY = 0\n",
        "    for LSpunto in LSpuntos:\n",
        "        LSsumaX += LSpunto[0]\n",
        "        LSsumaY += LSpunto[1]\n",
        "    return((LSsumaX, LSsumaY))"
      ]
    },
    {
      "cell_type": "markdown",
      "metadata": {
        "id": "vsL55fst8J5Y"
      },
      "source": [
        "Función para calcular la suma cuadrática de los N datos en el cluster (SS)."
      ]
    },
    {
      "cell_type": "code",
      "execution_count": null,
      "metadata": {
        "id": "VmGZDuEC8J5Y"
      },
      "outputs": [],
      "source": [
        "def SS(SSpuntos):\n",
        "    SSsuma = 0\n",
        "    for SSpunto in SSpuntos:\n",
        "        SSPX = SSpunto[0]**2\n",
        "        SSPY = SSpunto[1]**2\n",
        "        SSsuma += SSPX + SSPY\n",
        "    return(SSsuma)"
      ]
    },
    {
      "cell_type": "markdown",
      "metadata": {
        "id": "feHYlIBQ8J5Y"
      },
      "source": [
        "Función para calcular el centroide de una lista de puntos."
      ]
    },
    {
      "cell_type": "code",
      "execution_count": null,
      "metadata": {
        "id": "WP8_oI8p8J5Y"
      },
      "outputs": [],
      "source": [
        "def centroid(Cpuntos):\n",
        "    LS_temp = LS(Cpuntos)\n",
        "    Nc = len(Cpuntos)\n",
        "    return((LS_temp[0] / Nc, LS_temp[1] / Nc))"
      ]
    },
    {
      "cell_type": "markdown",
      "metadata": {
        "id": "-9Mup-6n8J5Z"
      },
      "source": [
        "Función para encontrar el centroide de una carcaterística de grupo (Cluster Feature en inglés, abreviado como CF)."
      ]
    },
    {
      "cell_type": "code",
      "execution_count": null,
      "metadata": {
        "id": "Otp-VMlo8J5Z"
      },
      "outputs": [],
      "source": [
        "def CF_centroid(CFc):\n",
        "    NCFc = CFc[0]\n",
        "    CFcX = CFc[1][0] / NCFc\n",
        "    CFcY = CFc[1][1] / NCFc\n",
        "    return((CFcX, CFcY))"
      ]
    },
    {
      "cell_type": "markdown",
      "metadata": {
        "id": "K8iNS-jb8J5Z"
      },
      "source": [
        "Función para encontrar el radio de un cluster."
      ]
    },
    {
      "cell_type": "code",
      "execution_count": null,
      "metadata": {
        "id": "Fp6fqkVK8J5Z"
      },
      "outputs": [],
      "source": [
        "def Radius(Rpuntos):\n",
        "    Nr = len(Rpuntos)\n",
        "    RP1 = SS(Rpuntos) / Nr\n",
        "    RP2 = centroid(Rpuntos)**2\n",
        "    R_temp = (RP1 - RP2)**0.5\n",
        "    return(R_temp)"
      ]
    },
    {
      "cell_type": "markdown",
      "metadata": {
        "id": "HVTH5c3T8J5Z"
      },
      "source": [
        "Función para encontrar el díametro de un cluster."
      ]
    },
    {
      "cell_type": "code",
      "execution_count": null,
      "metadata": {
        "id": "rX-_x1jJ8J5Z"
      },
      "outputs": [],
      "source": [
        "def Diameter(CFDin):\n",
        "    DN = CFDin[0]\n",
        "    DLs = LS([CFDin[1]])\n",
        "    DLs = max(DLs)\n",
        "    DSs = SS([CFDin[1]])\n",
        "    DP1 = 2 * DN * DSs\n",
        "    DP2 = -2 * (DLs**2)\n",
        "    DP3 = DN**2\n",
        "    D_temp = (DP1 + DP2) / DP3\n",
        "    return(D_temp)"
      ]
    },
    {
      "cell_type": "markdown",
      "metadata": {
        "id": "ZFXhCNci8J5a"
      },
      "source": [
        "Función para generar el Cluster Feature (CF), de uno o varios puntos."
      ]
    },
    {
      "cell_type": "code",
      "execution_count": null,
      "metadata": {
        "id": "i26DaGDh8J5a"
      },
      "outputs": [],
      "source": [
        "def CF(CFpuntos):\n",
        "    LS_temp = LS(CFpuntos)\n",
        "    SS_temp = SS(CFpuntos)\n",
        "    NCF = len(CFpuntos)\n",
        "    return([NCF, LS_temp, SS_temp])"
      ]
    },
    {
      "cell_type": "markdown",
      "metadata": {
        "id": "kKJbYrr18J5a"
      },
      "source": [
        "Función para unir dos Cluster Feature (CFs)"
      ]
    },
    {
      "cell_type": "code",
      "execution_count": null,
      "metadata": {
        "id": "3pPH1BzB8J5a"
      },
      "outputs": [],
      "source": [
        "def CF_merge(CF1, CF2):\n",
        "    CF1_1 = CF1[1]\n",
        "    CF2_1 = CF2[1]\n",
        "    CFr = [CF1[0] + CF2[0], (CF1_1[0] + CF2_1[0], CF1_1[1] + CF2_1[1]), CF1[2] + CF2[2]]\n",
        "    return(CFr)"
      ]
    },
    {
      "cell_type": "markdown",
      "metadata": {
        "id": "m8SeDdp78J5a"
      },
      "source": [
        "Función para obtener la distancia euclidiana entre dos puntos."
      ]
    },
    {
      "cell_type": "code",
      "execution_count": null,
      "metadata": {
        "id": "QoBkFnwm8J5a"
      },
      "outputs": [],
      "source": [
        "def EC_distance(EDpuntos):\n",
        "    dist = ((EDpuntos[0][0] - EDpuntos[1][0])**2 + (EDpuntos[0][1] - EDpuntos[1][1])**2)**0.5\n",
        "    return(dist)"
      ]
    },
    {
      "cell_type": "markdown",
      "metadata": {
        "id": "aLUNi9oX8J5b"
      },
      "source": [
        "Función que ayuda a unir CF ingresando dentro del árbol (Tree en inglés) hasta llegar a los CFs"
      ]
    },
    {
      "cell_type": "code",
      "execution_count": null,
      "metadata": {
        "id": "cxn5sJkM8J5b"
      },
      "outputs": [],
      "source": [
        "def ForinCentroids(FiCs, height):\n",
        "    if height == 0:\n",
        "        FiC_CF = FiCs\n",
        "    elif height == 1:\n",
        "        FiC_CF = [0, (0, 0), 0]\n",
        "        for FiC in FiCs:\n",
        "            FiC_CF = [FiC_CF[0] + FiC[0], (FiC_CF[1][0] + FiC[1][0], FiC_CF[1][1] + FiC[1][1]), FiC_CF[2] + FiC[2]]\n",
        "    else:\n",
        "        FiC_CF = [0, (0, 0), 0]\n",
        "        idx = height - 1\n",
        "        for FiC in FiCs:\n",
        "            FiCt = ForinCentroids(FiC, idx)\n",
        "            FiC_CF = [FiC_CF[0] + FiCt[0], (FiC_CF[1][0] + FiCt[1][0], FiC_CF[1][1] + FiCt[1][1]), FiC_CF[2] + FiCt[2]]\n",
        "    return(FiC_CF)"
      ]
    },
    {
      "cell_type": "markdown",
      "metadata": {
        "id": "CEGDgx8r8J5b"
      },
      "source": [
        "Función que determina todos los centroides de la sección del tree seleccionado (nodo raíz, nodo rama, nodo hoja)."
      ]
    },
    {
      "cell_type": "code",
      "execution_count": null,
      "metadata": {
        "id": "8mrjFSHF8J5b"
      },
      "outputs": [],
      "source": [
        "def AllCentroids(ACelements, ACnum):\n",
        "    cent = []\n",
        "    for CFi in ACelements:\n",
        "        CFNLN = ForinCentroids(CFi, ACnum)\n",
        "        centa = CF_centroid(CFNLN)\n",
        "        cent.append(centa)\n",
        "    return(cent)"
      ]
    },
    {
      "cell_type": "markdown",
      "metadata": {
        "id": "PJIDK97T8J5b"
      },
      "source": [
        "Función para determinar todas las distancias entre un CF y todos los CF de un elemento del tree. "
      ]
    },
    {
      "cell_type": "code",
      "execution_count": null,
      "metadata": {
        "id": "PkKFFV8u8J5b"
      },
      "outputs": [],
      "source": [
        "def AllDists(ADelements, CFa):\n",
        "    distAll = []\n",
        "    for ADelement in ADelements:\n",
        "        dista = EC_distance([CFa, ADelement])\n",
        "        distAll.append(dista)\n",
        "    return(distAll)"
      ]
    },
    {
      "cell_type": "markdown",
      "metadata": {
        "id": "owHZelzO8J5c"
      },
      "source": [
        "Función para encontrar la posición del CF más cercano de un elemento del tree."
      ]
    },
    {
      "cell_type": "code",
      "execution_count": null,
      "metadata": {
        "id": "7kChFjPL8J5c"
      },
      "outputs": [],
      "source": [
        "def Select_TE(TreeElement, TEpunto, TEidx):\n",
        "    TECent = AllCentroids(TreeElement, TEidx)\n",
        "    TEDist = AllDists(TECent, TEpunto)\n",
        "    TEmDist = min(TEDist)\n",
        "    TEDist = np.array(TEDist)\n",
        "    TEmPosa = np.where(TEDist == TEmDist)\n",
        "    return(TEmPosa[0][0])"
      ]
    },
    {
      "cell_type": "markdown",
      "metadata": {
        "id": "dlp4NQ_-8J5c"
      },
      "source": [
        "Función para determinar el CF más cercano a un punto y sus posiciones a través del tree, es decir, su posición en el nodo raíz (root node, en inglés), en el nodo rama (Non-Leaf Node, en inglés y abreviado como NLN) y el nodo hoja (Leaf Node, en inglés y abreviado como LN)."
      ]
    },
    {
      "cell_type": "code",
      "execution_count": null,
      "metadata": {
        "id": "Tx3wX0tZ8J5c"
      },
      "outputs": [],
      "source": [
        "def CFClosest(Rootin, punto):\n",
        "    mRootpos = Select_TE(Rootin, punto, 2)\n",
        "    mNonLNpos = Select_TE(Rootin[mRootpos], punto, 1)\n",
        "    mLeafNodepos = Select_TE(Rootin[mRootpos][mNonLNpos], punto, 0)\n",
        "    CFmca = Rootin[mRootpos][mNonLNpos][mLeafNodepos]\n",
        "    return(CFmca, mRootpos, mNonLNpos, mLeafNodepos)"
      ]
    },
    {
      "cell_type": "markdown",
      "metadata": {
        "id": "pMXQICHO8J5c"
      },
      "source": [
        "Función para encontrar los dos CF más alejados entre ellos en un LN."
      ]
    },
    {
      "cell_type": "code",
      "execution_count": null,
      "metadata": {
        "id": "p7851yMD8J5c"
      },
      "outputs": [],
      "source": [
        "def farthest(LNin):\n",
        "    FE = []\n",
        "    FEpos = []\n",
        "    for CFsplit1 in LNin:\n",
        "        for CFsplit2 in LNin:\n",
        "            FEt = EC_distance([CFsplit1[1], CFsplit2[1]])\n",
        "            if FEt not in FE:\n",
        "                FE.append(FEt)\n",
        "                FEpos.append([CFsplit1, CFsplit2])\n",
        "    F = max(FE)\n",
        "    FE = np.array(FE)\n",
        "    Fpos = np.where(FE == F)\n",
        "    CFf1 = FEpos[Fpos[0][0]][0]\n",
        "    CFf2 = FEpos[Fpos[0][0]][1]\n",
        "    return(CFf1, CFf2)"
      ]
    },
    {
      "cell_type": "markdown",
      "metadata": {
        "id": "z2YKRy1l8J5c"
      },
      "source": [
        "Función para determinar todos los CF del tree."
      ]
    },
    {
      "cell_type": "code",
      "execution_count": null,
      "metadata": {
        "id": "G_qLGhl58J5c"
      },
      "outputs": [],
      "source": [
        "def AllCF(ARoot):\n",
        "    AllCFs = []\n",
        "    for ANLN in ARoot:\n",
        "        for ALN in ANLN:\n",
        "            for ACF in ALN:\n",
        "                AllCFs.append(ACF)\n",
        "    return(AllCFs)"
      ]
    },
    {
      "cell_type": "markdown",
      "metadata": {
        "id": "ylWHY0mr8J5d"
      },
      "source": [
        "Función para reducir el tamaño del tree que se había construido hasta el momento de llamar a la función, incrementando el umbral (Threshold en inglés, abreviado como T) y construyendo un nuevo tree que agregue a cada CF según el nuevo T."
      ]
    },
    {
      "cell_type": "code",
      "execution_count": null,
      "metadata": {
        "id": "qIJ3QLfc8J5d"
      },
      "outputs": [],
      "source": [
        "def ReduceXCFtree(Tin, RRoot, RBin, RLin):\n",
        "    newT = Tin + 0.1\n",
        "    CF_Done = AllCF(RRoot)\n",
        "    newRoot = [[[CF_Done[0]]]]\n",
        "    for Ridx, RCF in enumerate(CF_Done[1:]):\n",
        "        CFmc_all = CFClosest(newRoot, RCF[1])\n",
        "        CFmc = CFmc_all[0]\n",
        "        Da = Diameter(newRoot[CFmc_all[1]][CFmc_all[2]][CFmc_all[3]])\n",
        "        CFa = RCF\n",
        "        if Da < newT:\n",
        "            newCF = CF_merge(CFa, CFmc)\n",
        "            newRoot[CFmc_all[1]][CFmc_all[2]][CFmc_all[3]] = newCF\n",
        "        else:\n",
        "            if len(newRoot[CFmc_all[1]][CFmc_all[2]]) < RLin:\n",
        "                newRoot[CFmc_all[1]][CFmc_all[2]].append(CFa)\n",
        "            else:\n",
        "                if len(newRoot[CFmc_all[1]]) < RBin:\n",
        "                    CFf = farthest(newRoot[CFmc_all[1]][CFmc_all[2]])\n",
        "                    \n",
        "                    LNold = []\n",
        "                    for element in newRoot[CFmc_all[1]][CFmc_all[2]]:\n",
        "                        if element not in CFf:\n",
        "                            LNold.append(element)\n",
        "                         \n",
        "                    LNold.append(CFa)\n",
        "                    newRoot[CFmc_all[1]][CFmc_all[2]] = [CFf[0]]\n",
        "                    newRoot[CFmc_all[1]].append([CFf[1]])\n",
        "                    \n",
        "                    for element in LNold:\n",
        "                        tempD1 = EC_distance([CFf[0][1], element[1]])\n",
        "                        tempD2 = EC_distance([CFf[1][1], element[1]])\n",
        "                        dest = min([tempD1, tempD2])\n",
        "                        if dest == 0:\n",
        "                            newRoot[CFmc_all[1]][CFmc_all[2]].append(element)\n",
        "                        else:\n",
        "                            newRoot[CFmc_all[1]][-1].append(element)\n",
        "                else:\n",
        "                    NLNtemp = []\n",
        "                    for element in newRoot[CFmc_all[1]]:\n",
        "                        newCF = (0, (0, 0), 0)\n",
        "                        for element2 in element:\n",
        "                                newCF = [newCF[0] + element2[0], \n",
        "                                         (newCF[1][0] + element2[1][0], newCF[1][1] + element2[1][1]), \n",
        "                                         newCF[2] + element2[2]]\n",
        "                        NLNtemp.append(newCF)\n",
        "\n",
        "                    CFf = farthest(NLNtemp)\n",
        "\n",
        "                    ele2 = []\n",
        "\n",
        "                    for idx, elment in enumerate(NLNtemp):\n",
        "                        if element not in CFf:\n",
        "                            ele2.append(newRoot[CFmc_all[1]][idx])\n",
        "\n",
        "                    ele2.append([CFa])\n",
        "\n",
        "                    LNold = []\n",
        "                    for element in NLNtemp:\n",
        "                        if element not in CFf:\n",
        "                            LNold.append(element)\n",
        "\n",
        "                    LNold.append(CFa)\n",
        "\n",
        "                    newRoot[CFmc_all[1]] = [[CFf[0]]]\n",
        "                    newRoot.append([[CFf[1]]])\n",
        "\n",
        "                    for idx, element in enumerate(LNold):\n",
        "                        tempD1 = EC_distance([CFf[0][1], element[1]])\n",
        "                        tempD2 = EC_distance([CFf[1][1], element[1]])\n",
        "                        dest = min([tempD1, tempD2])\n",
        "\n",
        "                        if dest == 0:\n",
        "                            newRoot[CFmc_all[1]].append(ele2[idx])\n",
        "                        else:\n",
        "                            newRoot[-1].append(ele2[idx])\n",
        "    \n",
        "    return(newT, newRoot)"
      ]
    },
    {
      "cell_type": "markdown",
      "metadata": {
        "id": "qVTyBDav8J5d"
      },
      "source": [
        "Función para eliminar Leaf Nodes (LFs) si su cantidad de datos es menor al promedio, determinandolos como Outliers, pero no definitivamente."
      ]
    },
    {
      "cell_type": "code",
      "execution_count": null,
      "metadata": {
        "id": "dd1c_Rz58J5d"
      },
      "outputs": [],
      "source": [
        "def RootOutliers(RootIn):\n",
        "    OutNum = []\n",
        "    for OutNLN in RootIn:\n",
        "        for OutLN in OutNLN:\n",
        "            for OutCF in OutLN:\n",
        "                OutNum.append(OutCF[0])\n",
        "                \n",
        "    OutSum = 0\n",
        "    for OutElement in OutNum:\n",
        "        OutSum += OutElement\n",
        "    \n",
        "    OutProm = OutSum / len(OutNum)\n",
        "    \n",
        "    ROutRoot = []\n",
        "    ROutliers = []\n",
        "    for OutNLN in RootIn:\n",
        "        ROutNLN = []\n",
        "        for OutLN in OutNLN:\n",
        "            ROutLN = []\n",
        "            for OutCF in OutLN:\n",
        "                if OutCF[0] >= (OutProm / 2):\n",
        "                    ROutLN.append(OutCF)\n",
        "                else:\n",
        "                    ROutliers.append(OutCF)\n",
        "            if len(ROutLN) != 0:\n",
        "                ROutNLN.append(ROutLN)\n",
        "        if len(ROutLN) != 0:\n",
        "            ROutRoot.append(ROutNLN)\n",
        "    \n",
        "    return(ROutRoot, ROutliers)"
      ]
    },
    {
      "cell_type": "markdown",
      "metadata": {
        "id": "4bzFxDnu8J5e"
      },
      "source": [
        "Función general para generar el Tree, cambiando los puntos por CF y clasificandolos dentro de cada NLN y a su vez dentro de cada LN, además de unir CF o agregar nuevo deacuerdo al T. Reconstruyendolo si la memoria o límites de hoja (contastes B y L) eran excedidos y determinando si algunos LN son realmente outliers o no. Todo lo anterior con aydua de las funciones anteriores creadas."
      ]
    },
    {
      "cell_type": "code",
      "execution_count": null,
      "metadata": {
        "id": "iqCK1nHM8J5e"
      },
      "outputs": [],
      "source": [
        "def CFtree(puntosTree, T, BTree, LTree):\n",
        "    DT = T\n",
        "    NCFt = len(puntosTree)\n",
        "    puntosSH = rd.sample(puntosTree, NCFt)\n",
        "    \n",
        "    fOutliers = []\n",
        "    Root = [[[CF([puntosSH[0]])]]]\n",
        "    for idx, punto in enumerate(puntosSH[1:]):\n",
        "        CFmc_all = CFClosest(Root, punto)\n",
        "        CFmc = CFmc_all[0]\n",
        "        Da = Diameter(Root[CFmc_all[1]][CFmc_all[2]][CFmc_all[3]])\n",
        "        CFa = CF([punto])\n",
        "        if Da < DT:\n",
        "            newCF = CF_merge(CFa, CFmc)\n",
        "            Root[CFmc_all[1]][CFmc_all[2]][CFmc_all[3]] = newCF\n",
        "        else:\n",
        "            if len(Root[CFmc_all[1]][CFmc_all[2]]) < LTree:\n",
        "                Root[CFmc_all[1]][CFmc_all[2]].append(CFa)\n",
        "            else:\n",
        "                if len(Root[CFmc_all[1]]) < BTree:\n",
        "                    CFf = farthest(Root[CFmc_all[1]][CFmc_all[2]])\n",
        "                    \n",
        "                    LNold = []\n",
        "                    for element in Root[CFmc_all[1]][CFmc_all[2]]:\n",
        "                        if element not in CFf:\n",
        "                            LNold.append(element)\n",
        "                         \n",
        "                    LNold.append(CFa)\n",
        "                    Root[CFmc_all[1]][CFmc_all[2]] = [CFf[0]]\n",
        "                    Root[CFmc_all[1]].append([CFf[1]])\n",
        "                    \n",
        "                    for element in LNold:\n",
        "                        tempD1 = EC_distance([CFf[0][1], element[1]])\n",
        "                        tempD2 = EC_distance([CFf[1][1], element[1]])\n",
        "                        dest = min([tempD1, tempD2])\n",
        "                        if dest == 0:\n",
        "                            Root[CFmc_all[1]][CFmc_all[2]].append(element)\n",
        "                        else:\n",
        "                            Root[CFmc_all[1]][-1].append(element)\n",
        "                else:\n",
        "                    if len(Root) < BTree:\n",
        "                        NLNtemp = []\n",
        "                        for element in Root[CFmc_all[1]]:\n",
        "                            newCF = (0, (0, 0), 0)\n",
        "                            for element2 in element:\n",
        "                                    newCF = [newCF[0] + element2[0], \n",
        "                                             (newCF[1][0] + element2[1][0], newCF[1][1] + element2[1][1]), \n",
        "                                             newCF[2] + element2[2]]\n",
        "                            NLNtemp.append(newCF)\n",
        "\n",
        "                        CFf = farthest(NLNtemp)\n",
        "\n",
        "                        ele2 = []\n",
        "\n",
        "                        for idx, elment in enumerate(NLNtemp):\n",
        "                            if element not in CFf:\n",
        "                                ele2.append(Root[CFmc_all[1]][idx])\n",
        "\n",
        "                        ele2.append([CFa])\n",
        "\n",
        "                        LNold = []\n",
        "                        for element in NLNtemp:\n",
        "                            if element not in CFf:\n",
        "                                LNold.append(element)\n",
        "\n",
        "                        LNold.append(CFa)\n",
        "\n",
        "                        Root[CFmc_all[1]] = [[CFf[0]]]\n",
        "                        Root.append([[CFf[1]]])\n",
        "\n",
        "                        for idx, element in enumerate(LNold):\n",
        "                            tempD1 = EC_distance([CFf[0][1], element[1]])\n",
        "                            tempD2 = EC_distance([CFf[1][1], element[1]])\n",
        "                            dest = min([tempD1, tempD2])\n",
        "\n",
        "                            if dest == 0:\n",
        "                                Root[CFmc_all[1]].append(ele2[idx])\n",
        "                            else:\n",
        "                                Root[-1].append(ele2[idx])\n",
        "                    else:\n",
        "                        Reduced = ReduceXCFtree(DT, Root, BTree, LTree)\n",
        "                        DT = Reduced[0]\n",
        "                        Root = Reduced[1]\n",
        "                        POL = RootOutliers(Root)\n",
        "                        Root = POL[0]\n",
        "                        fOutliers = POL[1]\n",
        "    \n",
        "    for PosOutliers in fOutliers:\n",
        "        CFmc_all = CFClosest(Root, PosOutliers[1])\n",
        "        CFmc = CFmc_all[0]\n",
        "        Da = Diameter(Root[CFmc_all[1]][CFmc_all[2]][CFmc_all[3]])\n",
        "        CFa = PosOutliers\n",
        "        if Da < DT:\n",
        "            newCF = CF_merge(CFa, CFmc)\n",
        "            Root[CFmc_all[1]][CFmc_all[2]][CFmc_all[3]] = newCF\n",
        "            \n",
        "    return(Root)"
      ]
    },
    {
      "cell_type": "markdown",
      "metadata": {
        "id": "6d9j2sc28J5e"
      },
      "source": [
        "El algortimo de Birch consta de 4 fases, de las cuales la 2 y 4 son opcionales. En nuestro caso se decidió solo no agregar la Fase 2 para optimizar el CF por falta de información en cuanto a su implementación."
      ]
    },
    {
      "cell_type": "markdown",
      "metadata": {
        "id": "AMnjQhn78J5e"
      },
      "source": [
        "### Fase 1 - Construcción del CF-Tree"
      ]
    },
    {
      "cell_type": "markdown",
      "metadata": {
        "id": "piqvcI5_8J5f"
      },
      "source": [
        "Elegimos un umbral T, y el tamaño de hoja o memoria con las constantes B y L. Además definimos los puntos que se agregarán al Tree, siendo estos últimos los de nuestra base de datos (DB por sus siglas en inglés).\n",
        "Posteriormente, llamamos a la función para crear un CF-Tree con los puntos seleccionados."
      ]
    },
    {
      "cell_type": "code",
      "execution_count": null,
      "metadata": {
        "scrolled": false,
        "id": "FLnmSxPd8J5f"
      },
      "outputs": [],
      "source": [
        "Umbral = 0.15\n",
        "B = 8\n",
        "L = 8\n",
        "puntos = puntos\n",
        "\n",
        "rootf = CFtree(puntos, Umbral, B, L)"
      ]
    },
    {
      "cell_type": "markdown",
      "metadata": {
        "id": "KVH9PTfG8J5f"
      },
      "source": [
        "Mostramos gráficamente la districuión de las ramas dentro de la raíz del tree."
      ]
    },
    {
      "cell_type": "code",
      "execution_count": null,
      "metadata": {
        "scrolled": false,
        "id": "ckTBtAwF8J5f"
      },
      "outputs": [],
      "source": [
        "Colors = ['black', 'indigo', 'pink', 'maroon', 'tomato', 'sienna', 'navy', 'darkorange',\n",
        "          'tan', 'papayawhip', 'oldlace', 'darkgoldenrod', 'gold', 'yellow', 'yellowgreen', \n",
        "          'lawngreen', 'lightgreen', 'darkgreen', 'aquamarine', 'teal', 'blue', 'skyblue', 'cyan', 'red']\n",
        "\n",
        "figure(figsize=(10, 10))\n",
        "for idx, NLNf in enumerate(rootf):\n",
        "    XBf = []\n",
        "    YBf = []\n",
        "    for LNf in NLNf:\n",
        "        for CFf in LNf:\n",
        "            XBf.append(CFf[1][0])\n",
        "            YBf.append(CFf[1][1])\n",
        "            \n",
        "    plt.scatter(XBf, YBf, color = Colors[idx], label = 'LeafNode de Non-LeafNode ' + str(idx + 1))\n",
        "\n",
        "plt.title('Cluster Features (CF)')\n",
        "plt.xlabel('CFx')\n",
        "plt.ylabel('CFy')\n",
        "plt.legend()\n",
        "plt.show()"
      ]
    },
    {
      "cell_type": "markdown",
      "metadata": {
        "id": "re_NI1in8J5g"
      },
      "source": [
        "### Fase 3 - Agrupación global"
      ]
    },
    {
      "cell_type": "markdown",
      "metadata": {
        "id": "CpNhbMAt8J5g"
      },
      "source": [
        "Función para normalizar los puntos en forma de vector de una lista entre 0 y 1. "
      ]
    },
    {
      "cell_type": "code",
      "execution_count": null,
      "metadata": {
        "id": "9sX54Mly8J5g"
      },
      "outputs": [],
      "source": [
        "def NormalizaPuntos(NPuntos):\n",
        "    \n",
        "    Xs = []\n",
        "    Ys = []\n",
        "    for NPunto in NPuntos:\n",
        "        Xs.append(NPunto[0])\n",
        "        Ys.append(NPunto[1])\n",
        "    \n",
        "    \n",
        "    MaximoDeX = max(Xs)\n",
        "    MinimoDeX = min(Xs)\n",
        "    MaximoDeY = max(Ys)\n",
        "    MinimoDeY = min(Ys)\n",
        "\n",
        "    PuntosNorm = []\n",
        "    MaximoNormalizado = 1\n",
        "    MinimoNormalizado = 0\n",
        "    RangoNormalizado = MaximoNormalizado - MinimoNormalizado\n",
        "    for Npunto in NPuntos:\n",
        "        RangodeDatosX = MaximoDeX - MinimoDeX\n",
        "        RangodeDatosY = MaximoDeY - MinimoDeY\n",
        "            \n",
        "        DX = Npunto[0] - MinimoDeX\n",
        "        DY = Npunto[1] - MinimoDeY\n",
        "        \n",
        "        DPctX = DX / RangodeDatosX\n",
        "        DPctY = DY / RangodeDatosY\n",
        "        \n",
        "        dNormX = RangoNormalizado * DPctX\n",
        "        dNormY = RangoNormalizado * DPctY\n",
        "        \n",
        "        NormalizadoX = MinimoNormalizado + dNormX\n",
        "        NormalizadoY = MinimoNormalizado + dNormY\n",
        "        \n",
        "        PuntosNorm.append((NormalizadoX, NormalizadoY))\n",
        "    \n",
        "    return(PuntosNorm)"
      ]
    },
    {
      "cell_type": "markdown",
      "metadata": {
        "id": "xXCNGIqs8J5g"
      },
      "source": [
        "Reeutilizamos la función AgrupDatos descrita en la sección de K-means."
      ]
    },
    {
      "cell_type": "code",
      "execution_count": null,
      "metadata": {
        "id": "hU5U6FJ38J5h"
      },
      "outputs": [],
      "source": [
        "def AgrupDatos(Centroides, CentroideXDato, ADPuntos):\n",
        "    PuntosDCentr = []\n",
        "    for idx, Centroide in enumerate(Centroides):\n",
        "        PuntosDColorX = []\n",
        "        positions = np.where(CentroideXDato == idx)\n",
        "        for position in positions[0]:\n",
        "            PuntosDColorX.append(ADPuntos[position])\n",
        "        PuntosDCentr.append(PuntosDColorX)\n",
        "    return(PuntosDCentr)"
      ]
    },
    {
      "cell_type": "markdown",
      "metadata": {
        "id": "a-IB5p_J8J5h"
      },
      "source": [
        "Colocamos todos los puntos de las entradas del LN (Clusters), en una sola lista."
      ]
    },
    {
      "cell_type": "code",
      "execution_count": null,
      "metadata": {
        "id": "rkFm4c8G8J5h"
      },
      "outputs": [],
      "source": [
        "CFpoints = []\n",
        "for NLNf in rootf:\n",
        "    for LNf in NLNf:\n",
        "        for CFf in LNf:\n",
        "            CFpoints.append(CFf[1])"
      ]
    },
    {
      "cell_type": "markdown",
      "metadata": {
        "id": "1TcvG3aL8J5h"
      },
      "source": [
        "Normalizamos los puntos de los CFs entre 0 y 1."
      ]
    },
    {
      "cell_type": "code",
      "execution_count": null,
      "metadata": {
        "scrolled": false,
        "id": "RFLNTL1u8J5h"
      },
      "outputs": [],
      "source": [
        "CFpoints_Norm = NormalizaPuntos(CFpoints)"
      ]
    },
    {
      "cell_type": "markdown",
      "metadata": {
        "id": "2LA__Gg48J5h"
      },
      "source": [
        "Utilizamos la librería de KMeans utilizando K-means++ como método de clasificación para generar los centroides de los CFs generados en el tree. Se utiliza un k = 5, siguiendo nuevamente el valor de k determinado por el método del codo."
      ]
    },
    {
      "cell_type": "code",
      "execution_count": null,
      "metadata": {
        "id": "usCo1uvL8J5h"
      },
      "outputs": [],
      "source": [
        "CFkmeans = KMeans(n_clusters=5, init='k-means++', n_init=1, random_state=0).fit(CFpoints_Norm)\n",
        "CFCentroideXDato = CFkmeans.labels_\n",
        "CFCentroides = CFkmeans.cluster_centers_\n",
        "CFPuntosDCentr = AgrupDatos(CFCentroides, CFCentroideXDato, puntos)"
      ]
    },
    {
      "cell_type": "markdown",
      "metadata": {
        "id": "P7Ko0eDV8J5i"
      },
      "source": [
        "Visualizamos los centroides generados junto con los CFs obtenidos en el CF-Tree"
      ]
    },
    {
      "cell_type": "code",
      "execution_count": null,
      "metadata": {
        "scrolled": true,
        "id": "kAbyAK3w8J5i"
      },
      "outputs": [],
      "source": [
        "CFXp = []\n",
        "CFYp = []\n",
        "for CFelement in CFCentroides:\n",
        "    CFXp.append(CFelement[0])\n",
        "    CFYp.append(CFelement[1])\n",
        "\n",
        "Colors = ['yellow', 'orange', 'lightblue', 'purple', 'lightgreen']\n",
        "\n",
        "for idx, CFPuntos in enumerate(CFPuntosDCentr):\n",
        "    CFXColor = []\n",
        "    CFYColor = []\n",
        "    for CFelement in CFPuntos:\n",
        "        CFXColor.append(CFelement[0])\n",
        "        CFYColor.append(CFelement[1])\n",
        "    plt.scatter(CFXColor, CFYColor, color = Colors[idx], label = 'Datos de Centroide ' + str(idx + 1))\n",
        "    \n",
        "plt.scatter(CFXp, CFYp, color = 'red', label = 'Centroides')\n",
        "#plt.title('Ingreso Anual (k$) vs Edad')\n",
        "#plt.xlabel('Ingreso Anual (k$)')\n",
        "#plt.ylabel('Edad')\n",
        "plt.legend()\n",
        "plt.show()"
      ]
    },
    {
      "cell_type": "markdown",
      "metadata": {
        "id": "9_IUlXv28J5i"
      },
      "source": [
        "### Fase 4 - Utilizar los centroides de la Fase 3 como semillas"
      ]
    },
    {
      "cell_type": "markdown",
      "metadata": {
        "id": "3bRuGGDC8J5i"
      },
      "source": [
        "Función para determinar las distancias de cada punto hasta los centroides generados por el CF-Tree."
      ]
    },
    {
      "cell_type": "code",
      "execution_count": null,
      "metadata": {
        "id": "wJe-pxhC8J5i"
      },
      "outputs": [],
      "source": [
        "def distACentrsXpunto(Centrs, DaXpuntos):\n",
        "    dist = []\n",
        "    for element in Centrs:\n",
        "        distXData = []\n",
        "        for DaXpunto in DaXpuntos:\n",
        "            distData = ((element[0] - DaXpunto[0])**2 + (element[1] - DaXpunto[1])**2)**0.5\n",
        "            distXData.append(distData)\n",
        "        dist.append(distXData)\n",
        "    return(dist)"
      ]
    },
    {
      "cell_type": "markdown",
      "metadata": {
        "id": "pbyVv0JM8J5i"
      },
      "source": [
        "Función para elegir a qué centroide pertenece cada dato."
      ]
    },
    {
      "cell_type": "code",
      "execution_count": null,
      "metadata": {
        "id": "6AUer4EO8J5i"
      },
      "outputs": [],
      "source": [
        "def Dato2CentrX(D2Xpuntos, dist):\n",
        "    MinimIdx = []\n",
        "    for idx, D2Xpunto in enumerate(D2Xpuntos):\n",
        "        inim = []\n",
        "        for element in dist:\n",
        "            inim.append(element[idx])\n",
        "        minimo = min(inim)\n",
        "        MinIdx = inim.index(minimo)\n",
        "        MinimIdx.append(MinIdx)\n",
        "    return(MinimIdx)"
      ]
    },
    {
      "cell_type": "markdown",
      "metadata": {
        "id": "t7djLgAJ8J5j"
      },
      "source": [
        "Utilizamos los centroides recién generados en la Fase 3, para clasificar los puntos de la base de datos inicial entre los k clusters, según la distancia mínima de cada dato respecto a cada cluster."
      ]
    },
    {
      "cell_type": "code",
      "execution_count": null,
      "metadata": {
        "id": "hr-AjH6S8J5j"
      },
      "outputs": [],
      "source": [
        "CFdistancias = distACentrsXpunto(CFCentroides, puntos)\n",
        "CFCentroideXDato = Dato2CentrX(puntos, CFdistancias)\n",
        "CFCentroideXDato = np.array(CFCentroideXDato)\n",
        "CFPuntosDCentr = AgrupDatos(CFCentroides, CFCentroideXDato, puntos)"
      ]
    },
    {
      "cell_type": "markdown",
      "metadata": {
        "id": "yM8lOaWf8J5j"
      },
      "source": [
        "Visualizamos la clasificación inicial de los datos en K clusters."
      ]
    },
    {
      "cell_type": "code",
      "execution_count": null,
      "metadata": {
        "scrolled": true,
        "id": "lz-1p0VP8J5j"
      },
      "outputs": [],
      "source": [
        "CFXp = []\n",
        "CFYp = []\n",
        "for CFelement in CFCentroides:\n",
        "    CFXp.append(CFelement[0])\n",
        "    CFYp.append(CFelement[1])\n",
        "\n",
        "Colors = ['yellow', 'orange', 'lightblue', 'purple', 'lightgreen']\n",
        "\n",
        "for idx, CFPuntos in enumerate(CFPuntosDCentr):\n",
        "    CFXColor = []\n",
        "    CFYColor = []\n",
        "    for CFelement in CFPuntos:\n",
        "        CFXColor.append(CFelement[0])\n",
        "        CFYColor.append(CFelement[1])\n",
        "    plt.scatter(CFXColor, CFYColor, color = Colors[idx], label = 'Datos de Centroide ' + str(idx + 1))\n",
        "    \n",
        "plt.scatter(CFXp, CFYp, color = 'red', label = 'Centroides')\n",
        "plt.title('Ingreso Anual (k$) vs Edad')\n",
        "plt.xlabel('Ingreso Anual (k$)')\n",
        "plt.ylabel('Edad')\n",
        "plt.legend()\n",
        "plt.show()"
      ]
    },
    {
      "cell_type": "markdown",
      "metadata": {
        "id": "T1I1cOM28J5j"
      },
      "source": [
        "Reeutilizamos la funcion Centrs_promedio descrita en la sección de K-means."
      ]
    },
    {
      "cell_type": "code",
      "execution_count": null,
      "metadata": {
        "id": "zNkuuAKr8J5j"
      },
      "outputs": [],
      "source": [
        "def Centrs_promedio(Datos):\n",
        "\n",
        "    Centrs = []\n",
        "    for K in Datos:\n",
        "        sumaX = 0\n",
        "        sumaY = 0\n",
        "        for data in K:\n",
        "            sumaX += data[0]\n",
        "            sumaY += data[1]\n",
        "        X = sumaX / len(K)\n",
        "        Y = sumaY / len(K)\n",
        "        Centrs.append((X, Y))\n",
        "    return(Centrs)"
      ]
    },
    {
      "cell_type": "markdown",
      "metadata": {
        "id": "BllwtAL78J5j"
      },
      "source": [
        "Determinamos nuevos centroides de los cluster recien generados, utilizando el promedio de los datos de cada cluster."
      ]
    },
    {
      "cell_type": "code",
      "execution_count": null,
      "metadata": {
        "id": "Y119rooY8J5k"
      },
      "outputs": [],
      "source": [
        "CFCentroides = Centrs_promedio(CFPuntosDCentr)"
      ]
    },
    {
      "cell_type": "markdown",
      "metadata": {
        "id": "eYEOD7FW8J5k"
      },
      "source": [
        "Visualizamos los clusters finales y los centroides recién calculados, que son los finales del método de Birch."
      ]
    },
    {
      "cell_type": "code",
      "execution_count": null,
      "metadata": {
        "scrolled": true,
        "id": "2IY9EvfH8J5k"
      },
      "outputs": [],
      "source": [
        "CFXp = []\n",
        "CFYp = []\n",
        "for CFelement in CFCentroides:\n",
        "    CFXp.append(CFelement[0])\n",
        "    CFYp.append(CFelement[1])\n",
        "\n",
        "Colors = ['yellow', 'orange', 'lightblue', 'purple', 'lightgreen']\n",
        "\n",
        "for idx, CFPuntos in enumerate(CFPuntosDCentr):\n",
        "    CFXColor = []\n",
        "    CFYColor = []\n",
        "    for CFelement in CFPuntos:\n",
        "        CFXColor.append(CFelement[0])\n",
        "        CFYColor.append(CFelement[1])\n",
        "    plt.scatter(CFXColor, CFYColor, color = Colors[idx], label = 'Datos de Centroide ' + str(idx + 1))\n",
        "    \n",
        "plt.scatter(CFXp, CFYp, color = 'red', label = 'Centroides')\n",
        "plt.title('Ingreso Anual (k$) vs Edad')\n",
        "plt.xlabel('Ingreso Anual (k$)')\n",
        "plt.ylabel('Edad')\n",
        "plt.legend()\n",
        "plt.show()"
      ]
    },
    {
      "cell_type": "markdown",
      "metadata": {
        "id": "oXx5Ssfn8J5k"
      },
      "source": [
        "Visualizamos las coordenas de los centroides finales del método Birch."
      ]
    },
    {
      "cell_type": "code",
      "execution_count": null,
      "metadata": {
        "scrolled": true,
        "id": "Rl1FrzKg8J5l"
      },
      "outputs": [],
      "source": [
        "for idx, CFCentroide in enumerate(CFCentroides):\n",
        "    print('El centroide', str(idx + 1), 'tiene coordenadas', str(CFCentroide) + '.')"
      ]
    }
  ],
  "metadata": {
    "kernelspec": {
      "display_name": "Python 3 (ipykernel)",
      "language": "python",
      "name": "python3"
    },
    "language_info": {
      "codemirror_mode": {
        "name": "ipython",
        "version": 3
      },
      "file_extension": ".py",
      "mimetype": "text/x-python",
      "name": "python",
      "nbconvert_exporter": "python",
      "pygments_lexer": "ipython3",
      "version": "3.7.13"
    },
    "colab": {
      "name": "BirchDescription_JIOG.ipynb",
      "provenance": []
    }
  },
  "nbformat": 4,
  "nbformat_minor": 0
}