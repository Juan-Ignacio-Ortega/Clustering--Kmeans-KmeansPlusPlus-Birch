{
  "cells": [
    {
      "cell_type": "markdown",
      "metadata": {
        "id": "XExWzI3P7_fu"
      },
      "source": [
        "# Metodología"
      ]
    },
    {
      "cell_type": "markdown",
      "metadata": {
        "id": "w0cBhYkq7_fy"
      },
      "source": [
        "## Importamos la base de datos"
      ]
    },
    {
      "cell_type": "markdown",
      "metadata": {
        "id": "xdr_oXNQ7_fz"
      },
      "source": [
        "Primeramente, importamos las librerías necesarias para la sección."
      ]
    },
    {
      "cell_type": "code",
      "execution_count": null,
      "metadata": {
        "id": "bKCbXvVT7_fz"
      },
      "outputs": [],
      "source": [
        "import pandas as pd\n",
        "import numpy as np\n",
        "import matplotlib.pyplot as plt"
      ]
    },
    {
      "cell_type": "code",
      "execution_count": null,
      "metadata": {
        "scrolled": true,
        "id": "z9Ipw4vG7_f0"
      },
      "outputs": [],
      "source": [
        "DB = pd.read_csv('Mall_Customers.csv')\n",
        "\n",
        "print('Cantidad de datos por atributo =', str(len(DB['Age'])) + '.')\n",
        "DB.head()"
      ]
    },
    {
      "cell_type": "markdown",
      "metadata": {
        "id": "d6RU5faG7_f1"
      },
      "source": [
        "### Normalizamos los datos"
      ]
    },
    {
      "cell_type": "markdown",
      "metadata": {
        "id": "IFhsXI2B7_f1"
      },
      "source": [
        "Utilizamos la función de normalización generada con anterioridad, agregando además sus parámetros necesarios."
      ]
    },
    {
      "cell_type": "code",
      "execution_count": null,
      "metadata": {
        "id": "ns5pJKhp7_f2"
      },
      "outputs": [],
      "source": [
        "def Normaliza(DB):\n",
        "    DB = DB.to_numpy()\n",
        "\n",
        "    Atributos = DB[0]\n",
        "    NoAtributos = len(Atributos)\n",
        "    Instancias = DB.T[0]\n",
        "    NoInstancias = len(Instancias)\n",
        "\n",
        "    MaximoDeAtributos = []\n",
        "    MinimoDeAtributos = []\n",
        "    for idx, element in enumerate(Atributos):\n",
        "      CaractMax = max(DB.T[idx])\n",
        "      CaractMin = min(DB.T[idx])\n",
        "      MaximoDeAtributos.append(CaractMax)\n",
        "      MinimoDeAtributos.append(CaractMin)\n",
        "\n",
        "    DBNorm = []\n",
        "    MaximoNormalizado = 1\n",
        "    MinimoNormalizado = 0\n",
        "    RangoNormalizado = MaximoNormalizado - MinimoNormalizado\n",
        "    for idx, element in enumerate(Atributos):\n",
        "      CaractNorm = []\n",
        "      if str(type(Atributos[idx]))[8 : -2] != 'str':\n",
        "        RangodeDatos = MaximoDeAtributos[idx] - MinimoDeAtributos[idx]\n",
        "        for idx2, element2 in enumerate(Instancias):\n",
        "          if str(DB.T[idx][idx2]) != 'nan':\n",
        "            D = DB.T[idx][idx2] - MinimoDeAtributos[idx]\n",
        "            DPct = D / RangodeDatos\n",
        "            dNorm = RangoNormalizado * DPct\n",
        "            Normalizado = MinimoNormalizado + dNorm\n",
        "            CaractNorm.append(Normalizado)\n",
        "          else:\n",
        "            CaractNorm.append(DB.T[idx][idx2])\n",
        "      else:\n",
        "        for idx2, element2 in enumerate(Instancias):\n",
        "          CaractNorm.append(DB.T[idx][idx2])\n",
        "      DBNorm.append(CaractNorm)\n",
        "    return(DBNorm)"
      ]
    },
    {
      "cell_type": "code",
      "execution_count": null,
      "metadata": {
        "id": "g3fCKm7f7_f3"
      },
      "outputs": [],
      "source": [
        "DB_Norm = Normaliza(DB)"
      ]
    },
    {
      "cell_type": "markdown",
      "metadata": {
        "id": "pQG_-kB57_f3"
      },
      "source": [
        "Definimos los valores de X con los datos de ingresos anuales, y los valores de Y con los datos de edad."
      ]
    },
    {
      "cell_type": "code",
      "execution_count": null,
      "metadata": {
        "id": "gk-4h6fF7_f4"
      },
      "outputs": [],
      "source": [
        "X = np.array(DB_Norm[3])\n",
        "Y = np.array(DB_Norm[2])"
      ]
    },
    {
      "cell_type": "markdown",
      "metadata": {
        "id": "_hwqPvjs7_f4"
      },
      "source": [
        "### Visualizamos los datos"
      ]
    },
    {
      "cell_type": "code",
      "execution_count": null,
      "metadata": {
        "scrolled": false,
        "id": "KSCF04WM7_f4"
      },
      "outputs": [],
      "source": [
        "plt.scatter(X, Y, color = 'lightblue', label = 'Datos')\n",
        "plt.title('Ingreso Anual (k$) vs Edad')\n",
        "plt.xlabel('Ingreso Anual (k$)')\n",
        "plt.ylabel('Edad')\n",
        "plt.legend()\n",
        "plt.show()"
      ]
    },
    {
      "cell_type": "markdown",
      "metadata": {
        "id": "iL1l0jbW7_f5"
      },
      "source": [
        "Función para transformar los datos de entrada X e Y a puntos de dato con coordenadas (Xi, Yi)."
      ]
    },
    {
      "cell_type": "code",
      "execution_count": null,
      "metadata": {
        "id": "iN0arezs7_f5"
      },
      "outputs": [],
      "source": [
        "def data2point(X, Y):\n",
        "    puntos = []\n",
        "    for idx, x in enumerate(X):\n",
        "        puntos.append((x, Y[idx]))\n",
        "    return(puntos)"
      ]
    },
    {
      "cell_type": "markdown",
      "metadata": {
        "id": "4gld5xir7_f5"
      },
      "source": [
        "Transformamos los datos X e Y a puntos de dato con coordenadas (Xi, Yi)."
      ]
    },
    {
      "cell_type": "code",
      "execution_count": null,
      "metadata": {
        "id": "MpISlQUt7_f5"
      },
      "outputs": [],
      "source": [
        "puntos = data2point(X, Y)"
      ]
    },
    {
      "cell_type": "markdown",
      "metadata": {
        "id": "CRuEaRIg7_f6"
      },
      "source": [
        "### Método de codo"
      ]
    },
    {
      "cell_type": "markdown",
      "metadata": {
        "id": "b5JmDM9a7_f6"
      },
      "source": [
        "Lo utilizaremos para decidir cuántos grupos (clúster) son necesarios."
      ]
    },
    {
      "cell_type": "markdown",
      "source": [
        "Función para calcular las distancias de cada punto hacia cada uno los centroides.\n",
        "\n",
        "Generando un cúmulo de valores, correspondientes a cada punto, por cada centroide en la lista resultante."
      ],
      "metadata": {
        "id": "yn9gVt8GIVup"
      }
    },
    {
      "cell_type": "code",
      "source": [
        "def distACentrsXpunto(Centrs, DaXpuntos):\n",
        "    dist = []\n",
        "    for element in Centrs:\n",
        "        distXData = []\n",
        "        for DaXpunto in DaXpuntos:\n",
        "            distData = ((element[0] - DaXpunto[0])**2 + (element[1] - DaXpunto[1])**2)**0.5\n",
        "            distXData.append(distData)\n",
        "        dist.append(distXData)\n",
        "    return(dist)"
      ],
      "metadata": {
        "id": "zWTSUTC1IWE7"
      },
      "execution_count": null,
      "outputs": []
    },
    {
      "cell_type": "markdown",
      "source": [
        "Función para generar n centroides que estén lo más alejados posibles entre ellos en un rango entre 0 y 1."
      ],
      "metadata": {
        "id": "dJS-9f68Hl4R"
      }
    },
    {
      "cell_type": "code",
      "source": [
        "def CentrsPP(NumDcentrs, PuntosIn):\n",
        "    First_Centr = (rd.random(), rd.random())\n",
        "    \n",
        "    Centrs = [First_Centr]\n",
        "    for NumCent in range(1, NumDcentrs, 1):\n",
        "        Dists = distACentrsXpunto(Centrs, PuntosIn)\n",
        "        Minpunto = Dists[0]\n",
        "        for CentN in Dists:\n",
        "            for idx, distN in enumerate(CentN):\n",
        "                if distN < Minpunto[idx]:\n",
        "                    Minpunto[idx]  = distN\n",
        "        distmin = max(Minpunto)\n",
        "        Minpunto = np.array(Minpunto)\n",
        "        posMinpunto = np.where(Minpunto == distmin)\n",
        "        Centrs.append(PuntosIn[posMinpunto[0][0]])\n",
        "    \n",
        "    return(Centrs)"
      ],
      "metadata": {
        "id": "M_CZvZIQHi7z"
      },
      "execution_count": null,
      "outputs": []
    },
    {
      "cell_type": "markdown",
      "metadata": {
        "id": "tOLBNNHa7_f6"
      },
      "source": [
        "Generamos 9 centroides que estén lo más alejado es¿ntre ellos posible, a través de la generación de centroides para k-means++ que se muestra en su respectiva sección más adelante."
      ]
    },
    {
      "cell_type": "code",
      "execution_count": null,
      "metadata": {
        "id": "2oXwjzqe7_f6"
      },
      "outputs": [],
      "source": [
        "Centrs = CentrsPP(9, puntos)"
      ]
    },
    {
      "cell_type": "markdown",
      "metadata": {
        "id": "lqY5hOg47_f7"
      },
      "source": [
        "Analizamos gráficamente los centroides generados."
      ]
    },
    {
      "cell_type": "code",
      "execution_count": null,
      "metadata": {
        "scrolled": true,
        "id": "l-9l4Iqs7_f7"
      },
      "outputs": [],
      "source": [
        "Xp = []\n",
        "Yp = []\n",
        "for element in Centrs:\n",
        "    Xp.append(element[0])\n",
        "    Yp.append(element[1])\n",
        "\n",
        "plt.scatter(X, Y, color = 'lightblue', label = 'Datos')\n",
        "plt.scatter(Xp, Yp, color = 'red', label = 'Centroides')\n",
        "plt.title('Ingreso Anual (k$) vs Edad')\n",
        "plt.xlabel('Ingreso Anual (k$)')\n",
        "plt.ylabel('Edad')\n",
        "plt.legend()\n",
        "plt.show()"
      ]
    },
    {
      "cell_type": "markdown",
      "metadata": {
        "id": "gL4XU7dw7_f7"
      },
      "source": [
        "Utilizamos los centroides generados para generar 9 iteraciones, en las cuales cada una contiene de 1 a 9 centroides generados, siendo el número de iteración la cantidad de centroides que contiene."
      ]
    },
    {
      "cell_type": "code",
      "execution_count": null,
      "metadata": {
        "id": "X6zZsV_L7_f8"
      },
      "outputs": [],
      "source": [
        "idxCentrs = len(Centrs)\n",
        "\n",
        "Centrs4KM = []\n",
        "for idxCentr in range(1, (idxCentrs+1)):\n",
        "    Centrs4KM_par = []\n",
        "    for idx, K in enumerate(range(1, idxCentr + 1)):\n",
        "        Centrs4KM_par.append(Centrs[idx])\n",
        "    Centrs4KM.append(Centrs4KM_par)"
      ]
    },
    {
      "cell_type": "markdown",
      "source": [
        "Función para determinar a qué centroide corresponde cada uno de los puntos (datos), según la distancia previamente calculada, hacia cada centroide."
      ],
      "metadata": {
        "id": "1AeapCHJJYXu"
      }
    },
    {
      "cell_type": "code",
      "execution_count": null,
      "metadata": {
        "id": "MmMWV98N7_f8"
      },
      "outputs": [],
      "source": [
        "dist_glob = []\n",
        "for Centr in Centrs4KM:\n",
        "    dist = distACentrsXpunto(Centr, puntos)\n",
        "    dist_glob.append(dist)"
      ]
    },
    {
      "cell_type": "markdown",
      "metadata": {
        "id": "Y3jnZW937_f8"
      },
      "source": [
        "Calculamos la distancia de cada punto de dato hacia cada uno de los diferentes centroides en cada iteración, los cuales tienen distinta cantidad de centroides."
      ]
    },
    {
      "cell_type": "code",
      "source": [
        "def Dato2CentrX(D2Xpuntos, dist):\n",
        "    MinimIdx = []\n",
        "    for idx, D2Xpunto in enumerate(D2Xpuntos):\n",
        "        inim = []\n",
        "        for element in dist:\n",
        "            inim.append(element[idx])\n",
        "        minimo = min(inim)\n",
        "        MinIdx = inim.index(minimo)\n",
        "        MinimIdx.append(MinIdx)\n",
        "    return(MinimIdx)"
      ],
      "metadata": {
        "id": "s9skJckpJZXl"
      },
      "execution_count": null,
      "outputs": []
    },
    {
      "cell_type": "markdown",
      "metadata": {
        "id": "2h75LiD_7_f8"
      },
      "source": [
        "En base a las distancias calculadas, en cada iteración ubicamos a qué centroide corresponde cada dato. "
      ]
    },
    {
      "cell_type": "code",
      "execution_count": null,
      "metadata": {
        "id": "e3ko16Gv7_f9"
      },
      "outputs": [],
      "source": [
        "minimf_glob = []\n",
        "for dist in dist_glob:\n",
        "    MinimIdx = Dato2CentrX(puntos, dist)\n",
        "    minimf_glob.append(MinimIdx)"
      ]
    },
    {
      "cell_type": "markdown",
      "metadata": {
        "id": "LtNcL-Zo7_f9"
      },
      "source": [
        "Transformamos la lista que contiene a qué centroide corresponde cada dato en cada una de las iteraciones, en una matriz. Esto con el fin de poder utilizar la funcion de numpy.where."
      ]
    },
    {
      "cell_type": "code",
      "execution_count": null,
      "metadata": {
        "id": "wlkG-XXw7_f9"
      },
      "outputs": [],
      "source": [
        "minimf_glob = np.array(minimf_glob)"
      ]
    },
    {
      "cell_type": "markdown",
      "metadata": {
        "id": "pXnzlLZt7_f-"
      },
      "source": [
        "Generamos gráficamente el gráfico tipo codo, para ubicar el valor de K óptimo."
      ]
    },
    {
      "cell_type": "code",
      "execution_count": null,
      "metadata": {
        "scrolled": false,
        "id": "S_3Ek8iA7_f-"
      },
      "outputs": [],
      "source": [
        "WCSS = []\n",
        "for idx1, Centr in enumerate(Centrs4KM):\n",
        "    sumD = 0\n",
        "    for idx2, K in enumerate(Centr):\n",
        "        pos = np.where(minimf_glob[idx1] == idx2)\n",
        "        for element in pos[0]:\n",
        "            sumD += (((puntos[element][0] - K[0])**2 + (puntos[element][1] - K[1])**2)**0.5)**2\n",
        "    WCSS.append(sumD)\n",
        "\n",
        "idxClusts  = idxCentrs = len(Centrs)\n",
        "    \n",
        "plt.plot(range(1, (idxClusts+1)), WCSS, color = 'lightblue', label = 'WCSS según la cantidad de K considerados', linewidth = 3)\n",
        "plt.scatter(5, WCSS[4], color = 'red', linewidth = 5)\n",
        "plt.title('Número de clúster vs WCSS')\n",
        "plt.xlabel('Número de clúster (K)')\n",
        "plt.ylabel('Within-Cluster Sum-of-Squares (WCSS)')\n",
        "plt.legend()\n",
        "plt.show()"
      ]
    },
    {
      "cell_type": "markdown",
      "metadata": {
        "id": "eJCy460M7_f_"
      },
      "source": [
        "De acuerdo a lo observado, se define que K = 5 es el número óptimo de clústers a considerar. \n",
        "\n",
        "Sin embargo, al realizar varias pruebas, nos podemos percatar que es muy variable el K óptimo, según los centroides inciales, oscilando entre 3 y 6. Esto, debido a que los centroides son generados de forma aleatoria."
      ]
    },
    {
      "cell_type": "markdown",
      "metadata": {
        "id": "vYUt5EEc7_f_"
      },
      "source": [
        "## K-means ++"
      ]
    },
    {
      "cell_type": "markdown",
      "metadata": {
        "id": "lsTC1k457_f_"
      },
      "source": [
        "Primeramente, importamos las librerías necesarias para la sección."
      ]
    },
    {
      "cell_type": "code",
      "execution_count": null,
      "metadata": {
        "id": "w97kYBcb7_f_"
      },
      "outputs": [],
      "source": [
        "import random as rd\n",
        "import matplotlib.pyplot as plt\n",
        "import numpy as np\n",
        "from IPython import display\n",
        "from sklearn.cluster import KMeans"
      ]
    },
    {
      "cell_type": "markdown",
      "metadata": {
        "id": "BVFs6vz07_gA"
      },
      "source": [
        "### Funciones propias"
      ]
    },
    {
      "cell_type": "markdown",
      "metadata": {
        "id": "QGmb3y_87_gA"
      },
      "source": [
        "Función para generar n centroides que estén lo más alejados posibles entre ellos en un rango entre 0 y 1."
      ]
    },
    {
      "cell_type": "code",
      "execution_count": null,
      "metadata": {
        "id": "fRgvPApO7_gA"
      },
      "outputs": [],
      "source": [
        "def CentrsPP(NumDcentrs, PuntosIn):\n",
        "    First_Centr = (rd.random(), rd.random())\n",
        "    \n",
        "    Centrs = [First_Centr]\n",
        "    for NumCent in range(1, NumDcentrs, 1):\n",
        "        Dists = distACentrsXpunto(Centrs, PuntosIn)\n",
        "        Minpunto = Dists[0]\n",
        "        for CentN in Dists:\n",
        "            for idx, distN in enumerate(CentN):\n",
        "                if distN < Minpunto[idx]:\n",
        "                    Minpunto[idx]  = distN\n",
        "        distmin = max(Minpunto)\n",
        "        Minpunto = np.array(Minpunto)\n",
        "        posMinpunto = np.where(Minpunto == distmin)\n",
        "        Centrs.append(PuntosIn[posMinpunto[0][0]])\n",
        "    \n",
        "    return(Centrs)"
      ]
    },
    {
      "cell_type": "markdown",
      "metadata": {
        "id": "l-Fn0CxZ7_gB"
      },
      "source": [
        "### Centroides iniciales"
      ]
    },
    {
      "cell_type": "markdown",
      "metadata": {
        "id": "Mzj-k9rG7_gB"
      },
      "source": [
        "Seguimos el valor de k = 5 obtenido en el método del codo en la sección anterior para generar 3 centroides lo más alejado posibles entre ellos."
      ]
    },
    {
      "cell_type": "code",
      "execution_count": null,
      "metadata": {
        "id": "MmG3AFYA7_gB"
      },
      "outputs": [],
      "source": [
        "Centroides = CentrsPP(5, puntos)"
      ]
    },
    {
      "cell_type": "markdown",
      "metadata": {
        "id": "k2I9FVp27_gB"
      },
      "source": [
        "Mostramos visualmente dónde se encuntran los centroides recién generados."
      ]
    },
    {
      "cell_type": "code",
      "execution_count": null,
      "metadata": {
        "id": "Oy27CASD7_gB"
      },
      "outputs": [],
      "source": [
        "Xp = []\n",
        "Yp = []\n",
        "for element in Centroides:\n",
        "    Xp.append(element[0])\n",
        "    Yp.append(element[1])\n",
        "\n",
        "plt.scatter(X, Y, color = 'lightblue', label = 'Datos')\n",
        "plt.scatter(Xp, Yp, color = 'red', label = 'Centroides')\n",
        "plt.title('Ingreso Anual (k$) vs Edad')\n",
        "plt.xlabel('Ingreso Anual (k$)')\n",
        "plt.ylabel('Edad')\n",
        "plt.legend()\n",
        "plt.show()"
      ]
    },
    {
      "cell_type": "markdown",
      "metadata": {
        "id": "p8NIR4QF7SH1"
      },
      "source": [
        "### Funciones propias de K-means común."
      ]
    },
    {
      "cell_type": "markdown",
      "metadata": {
        "id": "g148YasO7SH2"
      },
      "source": [
        "Función para generar n centroides aleatoriamente, en forma de lista.\n",
        "\n",
        "Para valores de (X, Y) normalizados entre 0 y 1"
      ]
    },
    {
      "cell_type": "code",
      "execution_count": null,
      "metadata": {
        "id": "yzyDyGaR7SH2"
      },
      "outputs": [],
      "source": [
        "def Centrs_aleat(NumDCentrs):\n",
        "    idxCentrs = range(1, NumDCentrs + 1)\n",
        "\n",
        "    Centrs = []\n",
        "    for K in idxCentrs:\n",
        "        Centrs.append((rd.random(), rd.random()))\n",
        "    return(Centrs)"
      ]
    },
    {
      "cell_type": "markdown",
      "metadata": {
        "id": "pTtSJZRn7SH2"
      },
      "source": [
        "Función para generar n centroides mediante el promedio de los datos pertenecientes al clúster de cada centroide a generar."
      ]
    },
    {
      "cell_type": "code",
      "execution_count": null,
      "metadata": {
        "id": "7c13Icq87SH2"
      },
      "outputs": [],
      "source": [
        "def Centrs_promedio(Datos):\n",
        "    Centrs = []\n",
        "    for K in Datos:\n",
        "        sumaX = 0\n",
        "        sumaY = 0\n",
        "        for data in K:\n",
        "            sumaX += data[0]\n",
        "            sumaY += data[1]\n",
        "        X = sumaX / len(K)\n",
        "        Y = sumaY / len(K)\n",
        "        Centrs.append((X, Y))\n",
        "    return(Centrs)"
      ]
    },
    {
      "cell_type": "markdown",
      "metadata": {
        "id": "jdUck11O7SH2"
      },
      "source": [
        "Función para calcular las distancias de cada punto hacia cada uno los centroides.\n",
        "\n",
        "Generando un cúmulo de valores, correspondientes a cada punto, por cada centroide en la lista resultante."
      ]
    },
    {
      "cell_type": "code",
      "execution_count": null,
      "metadata": {
        "id": "xQcJiGnq7SH2"
      },
      "outputs": [],
      "source": [
        "def distACentrsXpunto(Centrs, DaXpuntos):\n",
        "    dist = []\n",
        "    for element in Centrs:\n",
        "        distXData = []\n",
        "        for DaXpunto in DaXpuntos:\n",
        "            distData = ((element[0] - DaXpunto[0])**2 + (element[1] - DaXpunto[1])**2)**0.5\n",
        "            distXData.append(distData)\n",
        "        dist.append(distXData)\n",
        "    return(dist)"
      ]
    },
    {
      "cell_type": "markdown",
      "metadata": {
        "id": "noGZfu0c7SH3"
      },
      "source": [
        "Función para determinar a qué centroide corresponde cada uno de los puntos (datos), según la distancia previamente calculada, hacia cada centroide."
      ]
    },
    {
      "cell_type": "code",
      "execution_count": null,
      "metadata": {
        "id": "hEHdO35b7SH3"
      },
      "outputs": [],
      "source": [
        "def Dato2CentrX(D2Xpuntos, dist):\n",
        "    MinimIdx = []\n",
        "    for idx, D2Xpunto in enumerate(D2Xpuntos):\n",
        "        inim = []\n",
        "        for element in dist:\n",
        "            inim.append(element[idx])\n",
        "        minimo = min(inim)\n",
        "        MinIdx = inim.index(minimo)\n",
        "        MinimIdx.append(MinIdx)\n",
        "    return(MinimIdx)"
      ]
    },
    {
      "cell_type": "markdown",
      "metadata": {
        "id": "CidgSRzx7SH3"
      },
      "source": [
        "Función para agrupar cada dato con el resto de datos que pertenecen a un mismo clúster."
      ]
    },
    {
      "cell_type": "code",
      "execution_count": null,
      "metadata": {
        "id": "5Bt67pzM7SH3"
      },
      "outputs": [],
      "source": [
        "def AgrupDatos(Centroides, CentroideXDato, ADPuntos):\n",
        "    PuntosDCentr = []\n",
        "    for idx, Centroide in enumerate(Centroides):\n",
        "        PuntosDColorX = []\n",
        "        positions = np.where(CentroideXDato == idx)\n",
        "        for position in positions[0]:\n",
        "            PuntosDColorX.append(ADPuntos[position])\n",
        "        PuntosDCentr.append(PuntosDColorX)\n",
        "    return(PuntosDCentr)"
      ]
    },
    {
      "cell_type": "markdown",
      "metadata": {
        "id": "DlKJf4kd7SH3"
      },
      "source": [
        "Función para predecir a qué clúster pertenecen nuevos datos ingresados en la forma [(X1,Y1),...,(Xn,  Yn)].\n",
        "\n",
        "Elige el clúster con el centroide más cercano al dato ingresado."
      ]
    },
    {
      "cell_type": "code",
      "execution_count": null,
      "metadata": {
        "id": "wckn_oii7SH4"
      },
      "outputs": [],
      "source": [
        "def Predict(data):\n",
        "    distancias = distACentrsXpunto(Centroides, data)\n",
        "    CentroideXDato = Dato2CentrX(data, distancias)\n",
        "    Pertenencias = []\n",
        "    for element in CentroideXDato:\n",
        "        Pertenencias.append(element + 1)\n",
        "    Pertenencia = np.array(Pertenencias)\n",
        "    return(Pertenencia)"
      ]
    },
    {
      "cell_type": "markdown",
      "metadata": {
        "id": "7MP48Asr7_gC"
      },
      "source": [
        "### Resto de pasos de K-means común"
      ]
    },
    {
      "cell_type": "markdown",
      "metadata": {
        "id": "LEvzhgoh7_gC"
      },
      "source": [
        "Luego de generar los centroides iniciales de una manera distinta, seguimos el resto de los pasos del método de K-means, hasta obtener los centroides finales y los datos agrupados en base a estos:"
      ]
    },
    {
      "cell_type": "code",
      "execution_count": null,
      "metadata": {
        "id": "kCagWyVE7_gD"
      },
      "outputs": [],
      "source": [
        "distancias = distACentrsXpunto(Centroides, puntos)"
      ]
    },
    {
      "cell_type": "code",
      "execution_count": null,
      "metadata": {
        "id": "5HdZizBx7_gE"
      },
      "outputs": [],
      "source": [
        "CentroideXDato = Dato2CentrX(puntos, distancias)"
      ]
    },
    {
      "cell_type": "code",
      "execution_count": null,
      "metadata": {
        "id": "XzC0KCxm7_gF"
      },
      "outputs": [],
      "source": [
        "CentroideXDato = np.array(CentroideXDato)"
      ]
    },
    {
      "cell_type": "code",
      "execution_count": null,
      "metadata": {
        "id": "MRP4wVd_7_gG"
      },
      "outputs": [],
      "source": [
        "PuntosDCentr = AgrupDatos(Centroides, CentroideXDato, puntos)"
      ]
    },
    {
      "cell_type": "code",
      "execution_count": null,
      "metadata": {
        "id": "HNnpGSmI7_gG"
      },
      "outputs": [],
      "source": [
        "Centroides = Centrs_promedio(PuntosDCentr)"
      ]
    },
    {
      "cell_type": "code",
      "execution_count": null,
      "metadata": {
        "id": "deiwaHMb7_gG"
      },
      "outputs": [],
      "source": [
        "Centroides_anterior = 0\n",
        "\n",
        "while Centroides_anterior != Centroides:\n",
        "    Centroides_anterior = Centroides\n",
        "    distancias = distACentrsXpunto(Centroides_anterior, puntos)\n",
        "    CentroideXDato = Dato2CentrX(puntos, distancias)\n",
        "    CentroideXDato = np.array(CentroideXDato)\n",
        "    PuntosDCentr = AgrupDatos(Centroides_anterior, CentroideXDato)\n",
        "    Centroides = Centrs_promedio(PuntosDCentr)\n",
        "    Xp = []\n",
        "    Yp = []\n",
        "    for element in Centroides:\n",
        "        Xp.append(element[0])\n",
        "        Yp.append(element[1])\n",
        "\n",
        "    Colors = ['yellow', 'orange', 'lightblue', 'purple', 'lightgreen']\n",
        "\n",
        "    for idx, Puntos in enumerate(PuntosDCentr):\n",
        "        XColor = []\n",
        "        YColor = []\n",
        "        for element in Puntos:\n",
        "            XColor.append(element[0])\n",
        "            YColor.append(element[1])\n",
        "        plt.scatter(XColor, YColor, color = Colors[idx], label = 'Datos de Centroide ' + str(idx + 1))\n",
        "\n",
        "    plt.scatter(Xp, Yp, color = 'red', label = 'Centroides')\n",
        "    plt.title('Ingreso Anual (k$) vs Edad')\n",
        "    plt.xlabel('Ingreso Anual (k$)')\n",
        "    plt.ylabel('Edad')\n",
        "    plt.legend()\n",
        "    display.clear_output(wait=True)\n",
        "    plt.pause(1)\n",
        "\n",
        "plt.show()"
      ]
    },
    {
      "cell_type": "code",
      "execution_count": null,
      "metadata": {
        "id": "-RtxIXC07_gH"
      },
      "outputs": [],
      "source": [
        "for idx, Centroide in enumerate(Centroides):\n",
        "    print('El centroide', str(idx + 1), 'tiene coordenadas', str(Centroide) + '.')"
      ]
    },
    {
      "cell_type": "markdown",
      "metadata": {
        "id": "hu49MSep7_gI"
      },
      "source": [
        "### Calculos utilizando librería de scikit learn con K-means++"
      ]
    },
    {
      "cell_type": "markdown",
      "metadata": {
        "id": "LPlHuK8o7_gI"
      },
      "source": [
        "Obtenemos los datos de k-means++"
      ]
    },
    {
      "cell_type": "code",
      "execution_count": null,
      "metadata": {
        "id": "8ayoN2BM7_gI"
      },
      "outputs": [],
      "source": [
        "puntos = data2point(X, Y)\n",
        "\n",
        "kmeans = KMeans(n_clusters=5, init='k-means++', n_init=1, random_state=0).fit(puntos)\n",
        "CentroideXDato = kmeans.labels_\n",
        "Centroides = kmeans.cluster_centers_\n",
        "PuntosDCentr = AgrupDatos(Centroides, CentroideXDato, puntos)"
      ]
    },
    {
      "cell_type": "code",
      "execution_count": null,
      "metadata": {
        "scrolled": true,
        "id": "miRbga0p7_gJ"
      },
      "outputs": [],
      "source": [
        "Xp = []\n",
        "Yp = []\n",
        "for element in Centroides:\n",
        "    Xp.append(element[0])\n",
        "    Yp.append(element[1])\n",
        "\n",
        "Colors = ['yellow', 'orange', 'lightblue', 'purple', 'lightgreen']\n",
        "\n",
        "for idx, Puntos in enumerate(PuntosDCentr):\n",
        "    XColor = []\n",
        "    YColor = []\n",
        "    for element in Puntos:\n",
        "        XColor.append(element[0])\n",
        "        YColor.append(element[1])\n",
        "    plt.scatter(XColor, YColor, color = Colors[idx], label = 'Datos de Centroide ' + str(idx + 1))\n",
        "    \n",
        "plt.scatter(Xp, Yp, color = 'red', label = 'Centroides')\n",
        "plt.title('Ingreso Anual (k$) vs Edad')\n",
        "plt.xlabel('Ingreso Anual (k$)')\n",
        "plt.ylabel('Edad')\n",
        "plt.legend()\n",
        "plt.show()"
      ]
    },
    {
      "cell_type": "markdown",
      "metadata": {
        "id": "5_7naaoA7_gK"
      },
      "source": [
        "De igual manera que con el método de K-mean común, los resultados son similares, sin embargo se puede notar una aproximación más precisa e incluso más exacta al ejecutar los métodos repetidamente."
      ]
    },
    {
      "cell_type": "code",
      "execution_count": null,
      "metadata": {
        "id": "lhevn0CD7_gL"
      },
      "outputs": [],
      "source": [
        "for idx, Centroide in enumerate(Centroides):\n",
        "    print('El centroide', str(idx + 1), 'tiene coordenadas', str(Centroide) + '.')"
      ]
    }
  ],
  "metadata": {
    "kernelspec": {
      "display_name": "Python 3 (ipykernel)",
      "language": "python",
      "name": "python3"
    },
    "language_info": {
      "codemirror_mode": {
        "name": "ipython",
        "version": 3
      },
      "file_extension": ".py",
      "mimetype": "text/x-python",
      "name": "python",
      "nbconvert_exporter": "python",
      "pygments_lexer": "ipython3",
      "version": "3.7.13"
    },
    "colab": {
      "name": "Kmeans++Description_JIOG.ipynb",
      "provenance": [],
      "collapsed_sections": [
        "d6RU5faG7_f1",
        "_hwqPvjs7_f4",
        "CRuEaRIg7_f6",
        "BVFs6vz07_gA",
        "l-Fn0CxZ7_gB",
        "hu49MSep7_gI"
      ]
    }
  },
  "nbformat": 4,
  "nbformat_minor": 0
}